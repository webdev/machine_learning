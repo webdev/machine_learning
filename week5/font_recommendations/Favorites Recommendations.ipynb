{
 "cells": [
  {
   "cell_type": "code",
   "execution_count": 8,
   "metadata": {
    "collapsed": true
   },
   "outputs": [],
   "source": [
    "import graphlab"
   ]
  },
  {
   "cell_type": "code",
   "execution_count": 42,
   "metadata": {
    "collapsed": false
   },
   "outputs": [
    {
     "data": {
      "text/html": [
       "<pre>Finished parsing file /Users/gblazer/workspace/ml/week5/font_recommendations/favorites.csv</pre>"
      ],
      "text/plain": [
       "Finished parsing file /Users/gblazer/workspace/ml/week5/font_recommendations/favorites.csv"
      ]
     },
     "metadata": {},
     "output_type": "display_data"
    },
    {
     "data": {
      "text/html": [
       "<pre>Parsing completed. Parsed 100 lines in 0.690197 secs.</pre>"
      ],
      "text/plain": [
       "Parsing completed. Parsed 100 lines in 0.690197 secs."
      ]
     },
     "metadata": {},
     "output_type": "display_data"
    },
    {
     "data": {
      "text/html": [
       "<pre>Finished parsing file /Users/gblazer/workspace/ml/week5/font_recommendations/favorites.csv</pre>"
      ],
      "text/plain": [
       "Finished parsing file /Users/gblazer/workspace/ml/week5/font_recommendations/favorites.csv"
      ]
     },
     "metadata": {},
     "output_type": "display_data"
    },
    {
     "data": {
      "text/html": [
       "<pre>Parsing completed. Parsed 2071453 lines in 1.00998 secs.</pre>"
      ],
      "text/plain": [
       "Parsing completed. Parsed 2071453 lines in 1.00998 secs."
      ]
     },
     "metadata": {},
     "output_type": "display_data"
    }
   ],
   "source": [
    "favorites_data = graphlab.SFrame.read_csv('favorites.csv',\n",
    "                               column_type_hints={\n",
    "                               'user_id':int, 'name':str\n",
    "                               })"
   ]
  },
  {
   "cell_type": "code",
   "execution_count": 43,
   "metadata": {
    "collapsed": false
   },
   "outputs": [
    {
     "data": {
      "text/html": [
       "<div style=\"max-height:1000px;max-width:1500px;overflow:auto;\"><table frame=\"box\" rules=\"cols\">\n",
       "    <tr>\n",
       "        <th style=\"padding-left: 1em; padding-right: 1em; text-align: center\">user_id</th>\n",
       "        <th style=\"padding-left: 1em; padding-right: 1em; text-align: center\">name</th>\n",
       "    </tr>\n",
       "    <tr>\n",
       "        <td style=\"padding-left: 1em; padding-right: 1em; text-align: center; vertical-align: top\">3</td>\n",
       "        <td style=\"padding-left: 1em; padding-right: 1em; text-align: center; vertical-align: top\">JAF Facit</td>\n",
       "    </tr>\n",
       "    <tr>\n",
       "        <td style=\"padding-left: 1em; padding-right: 1em; text-align: center; vertical-align: top\">512706</td>\n",
       "        <td style=\"padding-left: 1em; padding-right: 1em; text-align: center; vertical-align: top\">Caflisch Script Pro</td>\n",
       "    </tr>\n",
       "    <tr>\n",
       "        <td style=\"padding-left: 1em; padding-right: 1em; text-align: center; vertical-align: top\">512706</td>\n",
       "        <td style=\"padding-left: 1em; padding-right: 1em; text-align: center; vertical-align: top\">CamingoDos Web</td>\n",
       "    </tr>\n",
       "    <tr>\n",
       "        <td style=\"padding-left: 1em; padding-right: 1em; text-align: center; vertical-align: top\">512706</td>\n",
       "        <td style=\"padding-left: 1em; padding-right: 1em; text-align: center; vertical-align: top\">FF Basic Gothic Pro</td>\n",
       "    </tr>\n",
       "    <tr>\n",
       "        <td style=\"padding-left: 1em; padding-right: 1em; text-align: center; vertical-align: top\">512706</td>\n",
       "        <td style=\"padding-left: 1em; padding-right: 1em; text-align: center; vertical-align: top\">Franklin Gothic URW</td>\n",
       "    </tr>\n",
       "    <tr>\n",
       "        <td style=\"padding-left: 1em; padding-right: 1em; text-align: center; vertical-align: top\">512706</td>\n",
       "        <td style=\"padding-left: 1em; padding-right: 1em; text-align: center; vertical-align: top\">FF Meta Serif Pro</td>\n",
       "    </tr>\n",
       "    <tr>\n",
       "        <td style=\"padding-left: 1em; padding-right: 1em; text-align: center; vertical-align: top\">512706</td>\n",
       "        <td style=\"padding-left: 1em; padding-right: 1em; text-align: center; vertical-align: top\">FF Tisa Pro</td>\n",
       "    </tr>\n",
       "    <tr>\n",
       "        <td style=\"padding-left: 1em; padding-right: 1em; text-align: center; vertical-align: top\">512706</td>\n",
       "        <td style=\"padding-left: 1em; padding-right: 1em; text-align: center; vertical-align: top\">FF Sero Web Pro</td>\n",
       "    </tr>\n",
       "    <tr>\n",
       "        <td style=\"padding-left: 1em; padding-right: 1em; text-align: center; vertical-align: top\">73392</td>\n",
       "        <td style=\"padding-left: 1em; padding-right: 1em; text-align: center; vertical-align: top\">Minion Pro</td>\n",
       "    </tr>\n",
       "    <tr>\n",
       "        <td style=\"padding-left: 1em; padding-right: 1em; text-align: center; vertical-align: top\">73392</td>\n",
       "        <td style=\"padding-left: 1em; padding-right: 1em; text-align: center; vertical-align: top\">Rooney Web</td>\n",
       "    </tr>\n",
       "</table>\n",
       "[10 rows x 2 columns]<br/>\n",
       "</div>"
      ],
      "text/plain": [
       "Columns:\n",
       "\tuser_id\tint\n",
       "\tname\tstr\n",
       "\n",
       "Rows: 10\n",
       "\n",
       "Data:\n",
       "+---------+---------------------+\n",
       "| user_id |         name        |\n",
       "+---------+---------------------+\n",
       "|    3    |      JAF Facit      |\n",
       "|  512706 | Caflisch Script Pro |\n",
       "|  512706 |    CamingoDos Web   |\n",
       "|  512706 | FF Basic Gothic Pro |\n",
       "|  512706 | Franklin Gothic URW |\n",
       "|  512706 |  FF Meta Serif Pro  |\n",
       "|  512706 |     FF Tisa Pro     |\n",
       "|  512706 |   FF Sero Web Pro   |\n",
       "|  73392  |      Minion Pro     |\n",
       "|  73392  |      Rooney Web     |\n",
       "+---------+---------------------+\n",
       "[10 rows x 2 columns]"
      ]
     },
     "execution_count": 43,
     "metadata": {},
     "output_type": "execute_result"
    }
   ],
   "source": [
    "favorites_data.head()"
   ]
  },
  {
   "cell_type": "code",
   "execution_count": 44,
   "metadata": {
    "collapsed": true
   },
   "outputs": [],
   "source": [
    "graphlab.canvas.set_target('ipynb')"
   ]
  },
  {
   "cell_type": "code",
   "execution_count": 45,
   "metadata": {
    "collapsed": false
   },
   "outputs": [
    {
     "data": {
      "application/javascript": [
       "$(\"head\").append($(\"<link/>\").attr({\n",
       "  rel:  \"stylesheet\",\n",
       "  type: \"text/css\",\n",
       "  href: \"//cdnjs.cloudflare.com/ajax/libs/font-awesome/4.1.0/css/font-awesome.min.css\"\n",
       "}));\n",
       "$(\"head\").append($(\"<link/>\").attr({\n",
       "  rel:  \"stylesheet\",\n",
       "  type: \"text/css\",\n",
       "  href: \"https://static.turi.com/products/graphlab-create/2.1/canvas/css/canvas.css\"\n",
       "}));\n",
       "\n",
       "            (function(){\n",
       "\n",
       "                var e = null;\n",
       "                if (typeof element == 'undefined') {\n",
       "                    var scripts = document.getElementsByTagName('script');\n",
       "                    var thisScriptTag = scripts[scripts.length-1];\n",
       "                    var parentDiv = thisScriptTag.parentNode;\n",
       "                    e = document.createElement('div');\n",
       "                    parentDiv.appendChild(e);\n",
       "                } else {\n",
       "                    e = element[0];\n",
       "                }\n",
       "\n",
       "                if (typeof requirejs !== 'undefined') {\n",
       "                    // disable load timeout; ipython_app.js is large and can take a while to load.\n",
       "                    requirejs.config({waitSeconds: 0});\n",
       "                }\n",
       "\n",
       "                require(['https://static.turi.com/products/graphlab-create/2.1/canvas/js/ipython_app.js'], function(IPythonApp){\n",
       "                    var app = new IPythonApp();\n",
       "                    app.attachView('sarray','Categorical', {\"ipython\": true, \"sketch\": {\"complete\": true, \"numeric\": false, \"num_unique\": 1856, \"num_undefined\": 0, \"progress\": 1.0, \"frequent_items\": {\"Blambot FX Pro\": {\"frequency\": 1441, \"value\": \"Blambot FX Pro\"}, \"BD Retrocentric\": {\"frequency\": 253, \"value\": \"BD Retrocentric\"}, \"Dalliance Roman\": {\"frequency\": 265, \"value\": \"Dalliance Roman\"}, \"FF Meta Serif SC Web Pro\": {\"frequency\": 611, \"value\": \"FF Meta Serif SC ...\"}, \"Liberation Serif\": {\"frequency\": 471, \"value\": \"Liberation Serif\"}, \"Fusaka Std\": {\"frequency\": 2127, \"value\": \"Fusaka Std\"}, \"Serifa Condensed\": {\"frequency\": 97, \"value\": \"Serifa Condensed\"}, \"Parisine Std Gris\": {\"frequency\": 95, \"value\": \"Parisine Std Gris\"}, \"Modesto Open Caps\": {\"frequency\": 144, \"value\": \"Modesto Open Caps\"}, \"Kyrial Sans Pro\": {\"frequency\": 492, \"value\": \"Kyrial Sans Pro\"}, \"Soap\": {\"frequency\": 268, \"value\": \"Soap\"}, \"Abril Titling\": {\"frequency\": 877, \"value\": \"Abril Titling\"}, \"Lo-Res 12 Bold Alt Oakland\": {\"frequency\": 39, \"value\": \"Lo-Res 12 Bold Alt ...\"}, \"Semplicita Pro\": {\"frequency\": 1822, \"value\": \"Semplicita Pro\"}, \"ModestoLite Expanded\": {\"frequency\": 135, \"value\": \"ModestoLite ...\"}, \"Filosofia Lining\": {\"frequency\": 79, \"value\": \"Filosofia Lining\"}, \"Akzidenz-Grotesk\": {\"frequency\": 5, \"value\": \"Akzidenz-Grotesk\"}, \"FF Scala Sans Web SC\": {\"frequency\": 5, \"value\": \"FF Scala Sans Web ...\"}, \"Hooligan JF\": {\"frequency\": 121, \"value\": \"Hooligan JF\"}, \"Juniper Std\": {\"frequency\": 2040, \"value\": \"Juniper Std\"}, \"Junegull Beach\": {\"frequency\": 307, \"value\": \"Junegull Beach\"}, \"Bree\": {\"frequency\": 5470, \"value\": \"Bree\"}, \"Matrix II Display Hilite Italic\": {\"frequency\": 30, \"value\": \"Matrix II Display ...\"}, \"League Gothic Condensed\": {\"frequency\": 1863, \"value\": \"League Gothic ...\"}, \"Tablet Gothic Compressed\": {\"frequency\": 1691, \"value\": \"Tablet Gothic ...\"}, \"Brix Slab\": {\"frequency\": 86, \"value\": \"Brix Slab\"}, \"Ingra Wide\": {\"frequency\": 434, \"value\": \"Ingra Wide\"}, \"FF Ernestine SC Web\": {\"frequency\": 1, \"value\": \"FF Ernestine SC ...\"}, \"Adrianna Extended\": {\"frequency\": 510, \"value\": \"Adrianna Extended\"}, \"TBChibiRGothicPlusK Pro\": {\"frequency\": 1229, \"value\": \"TBChibiRGothicPlus ...\"}, \"FF Tisa Sans Pro\": {\"frequency\": 5640, \"value\": \"FF Tisa Sans Pro\"}, \"Arno Pro\": {\"frequency\": 1291, \"value\": \"Arno Pro\"}, \"Colosseum\": {\"frequency\": 124, \"value\": \"Colosseum\"}, \"FF Hydra Web Extended\": {\"frequency\": 1, \"value\": \"FF Hydra Web ...\"}, \"FF Info Text Web\": {\"frequency\": 1, \"value\": \"FF Info Text Web\"}, \"FF More Pro Condensed\": {\"frequency\": 654, \"value\": \"FF More Pro ...\"}, \"Learning Curve\": {\"frequency\": 4528, \"value\": \"Learning Curve\"}, \"Template Gothic\": {\"frequency\": 155, \"value\": \"Template Gothic\"}, \"Le Havre Rounded\": {\"frequency\": 2412, \"value\": \"Le Havre Rounded\"}, \"Divulge\": {\"frequency\": 159, \"value\": \"Divulge\"}, \"Lipa Agate High Narrow\": {\"frequency\": 136, \"value\": \"Lipa Agate High ...\"}, \"JAF Johannes Original\": {\"frequency\": 29, \"value\": \"JAF Johannes ...\"}, \"Kestrel Script\": {\"frequency\": 209, \"value\": \"Kestrel Script\"}, \"Apertura\": {\"frequency\": 1378, \"value\": \"Apertura\"}, \"Amboy Inline\": {\"frequency\": 403, \"value\": \"Amboy Inline\"}, \"Museo Sans\": {\"frequency\": 18810, \"value\": \"Museo Sans\"}, \"Industry Inc Stencil\": {\"frequency\": 1858, \"value\": \"Industry Inc ...\"}, \"Ingra\": {\"frequency\": 774, \"value\": \"Ingra\"}, \"Coolvetica\": {\"frequency\": 591, \"value\": \"Coolvetica\"}, \"Cheap Pine Shadow\": {\"frequency\": 169, \"value\": \"Cheap Pine Shadow\"}, \"ZsaZsa Galore\": {\"frequency\": 845, \"value\": \"ZsaZsa Galore\"}, \"FF Mark Web\": {\"frequency\": 6, \"value\": \"FF Mark Web\"}, \"Baltica\": {\"frequency\": 303, \"value\": \"Baltica\"}, \"Vollkorn\": {\"frequency\": 513, \"value\": \"Vollkorn\"}, \"FF Netto Web Pro\": {\"frequency\": 2, \"value\": \"FF Netto Web Pro\"}, \"Filson Soft\": {\"frequency\": 1429, \"value\": \"Filson Soft\"}, \"Myriad Infant US\": {\"frequency\": 1, \"value\": \"Myriad Infant US\"}, \"Quimby Mayoral\": {\"frequency\": 1387, \"value\": \"Quimby Mayoral\"}, \"Filson Pro\": {\"frequency\": 1884, \"value\": \"Filson Pro\"}, \"JAF Domus\": {\"frequency\": 285, \"value\": \"JAF Domus\"}, \"Spark Bellfort Press Shadow\": {\"frequency\": 1, \"value\": \"Spark Bellfort ...\"}, \"Sommet Slab\": {\"frequency\": 285, \"value\": \"Sommet Slab\"}, \"Collector Comic\": {\"frequency\": 990, \"value\": \"Collector Comic\"}, \"Voltage\": {\"frequency\": 469, \"value\": \"Voltage\"}, \"FF Yoga Sans Web\": {\"frequency\": 2, \"value\": \"FF Yoga Sans Web\"}, \"Edita Small\": {\"frequency\": 551, \"value\": \"Edita Small\"}, \"FF Dynamoe Web\": {\"frequency\": 1, \"value\": \"FF Dynamoe Web\"}, \"Baucher Gothic URW Alternates Extended\": {\"frequency\": 348, \"value\": \"Baucher Gothic URW ...\"}, \"Narly Inline\": {\"frequency\": 31, \"value\": \"Narly Inline\"}, \"JAF Bernina Sans Compressed\": {\"frequency\": 1222, \"value\": \"JAF Bernina Sans ...\"}, \"Sarina\": {\"frequency\": 7875, \"value\": \"Sarina\"}, \"Acta Poster\": {\"frequency\": 2210, \"value\": \"Acta Poster\"}, \"Swister Regular\": {\"frequency\": 366, \"value\": \"Swister Regular\"}, \"Teimer Web\": {\"frequency\": 608, \"value\": \"Teimer Web\"}, \"Proxima Nova\": {\"frequency\": 36225, \"value\": \"Proxima Nova\"}, \"Myriad Pro\": {\"frequency\": 12661, \"value\": \"Myriad Pro\"}, \"HWT Bulletin\": {\"frequency\": 1145, \"value\": \"HWT Bulletin\"}, \"Pepperwood Std\": {\"frequency\": 1383, \"value\": \"Pepperwood Std\"}, \"Pupcat\": {\"frequency\": 682, \"value\": \"Pupcat\"}, \"Carbon\": {\"frequency\": 310, \"value\": \"Carbon\"}, \"RePublic Web\": {\"frequency\": 139, \"value\": \"RePublic Web\"}, \"Ro Shino Std\": {\"frequency\": 1170, \"value\": \"Ro Shino Std\"}, \"FF Tisa Pro\": {\"frequency\": 9117, \"value\": \"FF Tisa Pro\"}, \"Heisei Mincho StdN\": {\"frequency\": 1022, \"value\": \"Heisei Mincho StdN\"}, \"Adobe Gurmukhi\": {\"frequency\": 30, \"value\": \"Adobe Gurmukhi\"}, \"Falcon Script\": {\"frequency\": 236, \"value\": \"Falcon Script\"}, \"JAF Zalamander\": {\"frequency\": 492, \"value\": \"JAF Zalamander\"}, \"FF Super Grotesk Web\": {\"frequency\": 2, \"value\": \"FF Super Grotesk ...\"}, \"JAF Bernino Sans Narrow\": {\"frequency\": 485, \"value\": \"JAF Bernino Sans ...\"}, \"Sketchnote Square\": {\"frequency\": 2775, \"value\": \"Sketchnote Square\"}, \"Akagi Pro\": {\"frequency\": 1079, \"value\": \"Akagi Pro\"}, \"Rieven Uncial\": {\"frequency\": 666, \"value\": \"Rieven Uncial\"}, \"Neuropol X \": {\"frequency\": 447, \"value\": \"Neuropol X\"}, \"Tablet Gothic Narrow\": {\"frequency\": 1258, \"value\": \"Tablet Gothic ...\"}, \"Matrix II Tall Semi\": {\"frequency\": 19, \"value\": \"Matrix II Tall ...\"}, \"Kepler Std Semicondensed Display\": {\"frequency\": 6032, \"value\": \"Kepler Std ...\"}, \"FF Brokenscript Web\": {\"frequency\": 391, \"value\": \"FF Brokenscript ...\"}, \"BD Nippori\": {\"frequency\": 487, \"value\": \"BD Nippori\"}, \"Balboa Plus Primary\": {\"frequency\": 2363, \"value\": \"Balboa Plus ...\"}, \"Tekton Pro Condensed\": {\"frequency\": 2163, \"value\": \"Tekton Pro ...\"}, \"Neue\": {\"frequency\": 1, \"value\": \"Neue\"}, \"Acumin Pro\": {\"frequency\": 8181, \"value\": \"Acumin Pro\"}, \"Lo-Res 28 \": {\"frequency\": 60, \"value\": \"Lo-Res 28\"}, \"Phoreus Cherokee\": {\"frequency\": 1176, \"value\": \"Phoreus Cherokee\"}, \"Industry Inc Inline\": {\"frequency\": 1661, \"value\": \"Industry Inc ...\"}, \"Auto 3\": {\"frequency\": 1, \"value\": \"Auto 3\"}, \"Auto 2\": {\"frequency\": 1, \"value\": \"Auto 2\"}, \"Auto 1\": {\"frequency\": 1, \"value\": \"Auto 1\"}, \"Cottonwood Std\": {\"frequency\": 884, \"value\": \"Cottonwood Std\"}, \"Gloriola Web\": {\"frequency\": 1, \"value\": \"Gloriola Web\"}, \"Nudista Web\": {\"frequency\": 1324, \"value\": \"Nudista Web\"}, \"Modula Round Ribbed\": {\"frequency\": 84, \"value\": \"Modula Round ...\"}, \"Tussilago\": {\"frequency\": 345, \"value\": \"Tussilago\"}, \"Adso\": {\"frequency\": 113, \"value\": \"Adso\"}, \"Anisette Std Petite 2\": {\"frequency\": 887, \"value\": \"Anisette Std ...\"}, \"FF Sero Web Pro\": {\"frequency\": 1, \"value\": \"FF Sero Web Pro\"}, \"Vox Round\": {\"frequency\": 771, \"value\": \"Vox Round\"}, \"BDR Mono\": {\"frequency\": 110, \"value\": \"BDR Mono\"}, \"Skolar Sans Latin\": {\"frequency\": 1045, \"value\": \"Skolar Sans Latin\"}, \"Antique Olive Compact\": {\"frequency\": 390, \"value\": \"Antique Olive ...\"}, \"Adobe Jenson Pro Display\": {\"frequency\": 385, \"value\": \"Adobe Jenson Pro ...\"}, \"Sharik Sans\": {\"frequency\": 978, \"value\": \"Sharik Sans\"}, \"Edita\": {\"frequency\": 536, \"value\": \"Edita\"}, \"Sabbath Black\": {\"frequency\": 240, \"value\": \"Sabbath Black\"}, \"Lo-Res 9 Narrow\": {\"frequency\": 79, \"value\": \"Lo-Res 9 Narrow\"}, \"FF Avance Pro\": {\"frequency\": 142, \"value\": \"FF Avance Pro\"}, \"Adobe Arabic\": {\"frequency\": 176, \"value\": \"Adobe Arabic\"}, \"Matrix II Ornaments \": {\"frequency\": 83, \"value\": \"Matrix II ...\"}, \"Changeling Neo\": {\"frequency\": 1984, \"value\": \"Changeling Neo\"}, \"Buendia\": {\"frequency\": 10, \"value\": \"Buendia\"}, \"Hit\": {\"frequency\": 103, \"value\": \"Hit\"}, \"Adage Script\": {\"frequency\": 2600, \"value\": \"Adage Script\"}, \"Rukou\": {\"frequency\": 600, \"value\": \"Rukou\"}, \"Cody Web\": {\"frequency\": 783, \"value\": \"Cody Web\"}, \"Subway New York SC\": {\"frequency\": 594, \"value\": \"Subway New York SC\"}, \"Felt Tip Roman\": {\"frequency\": 3756, \"value\": \"Felt Tip Roman\"}, \"HWT American Stars Bottom\": {\"frequency\": 310, \"value\": \"HWT American Stars ...\"}, \"Rift\": {\"frequency\": 332, \"value\": \"Rift\"}, \"Cardo\": {\"frequency\": 462, \"value\": \"Cardo\"}, \"Forgotten Futurist Shadow\": {\"frequency\": 316, \"value\": \"Forgotten Futurist ...\"}, \"Motion\": {\"frequency\": 228, \"value\": \"Motion\"}, \"Discourse Middle Fill\": {\"frequency\": 234, \"value\": \"Discourse Middle ...\"}, \"Brevia\": {\"frequency\": 1352, \"value\": \"Brevia\"}, \"Brothers Word Logos\": {\"frequency\": 583, \"value\": \"Brothers Word ...\"}, \"Custom FF Profile Web\": {\"frequency\": 1, \"value\": \"Custom FF Profile ...\"}, \"Octin Sports\": {\"frequency\": 298, \"value\": \"Octin Sports\"}, \"Outwest Dark\": {\"frequency\": 71, \"value\": \"Outwest Dark\"}, \"Brioso Pro Subhead\": {\"frequency\": 331, \"value\": \"Brioso Pro Subhead\"}, \"Adage Script JF\": {\"frequency\": 803, \"value\": \"Adage Script JF\"}, \"Balloon URW\": {\"frequency\": 1151, \"value\": \"Balloon URW\"}, \"Click Clack\": {\"frequency\": 273, \"value\": \"Click Clack\"}, \"Orator Std\": {\"frequency\": 1425, \"value\": \"Orator Std\"}, \"ModestoLite\": {\"frequency\": 157, \"value\": \"ModestoLite\"}, \"Matrix II Display Hilite Extra Bold\": {\"frequency\": 62, \"value\": \"Matrix II Display ...\"}, \"Mason Sans\": {\"frequency\": 301, \"value\": \"Mason Sans\"}, \"NYLIC Effra\": {\"frequency\": 1, \"value\": \"NYLIC Effra\"}, \"Retiro Std 36pt\": {\"frequency\": 127, \"value\": \"Retiro Std 36pt\"}, \"JAF Mashine\": {\"frequency\": 2085, \"value\": \"JAF Mashine\"}, \"FF Nuvo Mono SC Web\": {\"frequency\": 1, \"value\": \"FF Nuvo Mono SC ...\"}, \"Brioso Pro Caption\": {\"frequency\": 431, \"value\": \"Brioso Pro Caption\"}, \"Memoriam Pro\": {\"frequency\": 2697, \"value\": \"Memoriam Pro\"}, \"Garamond Premier Pro Display\": {\"frequency\": 4743, \"value\": \"Garamond Premier ...\"}, \"JAF Lapture Display\": {\"frequency\": 958, \"value\": \"JAF Lapture ...\"}, \"HWT Antique Tuscan 9\": {\"frequency\": 1208, \"value\": \"HWT Antique Tuscan ...\"}, \"FF Good SC Web\": {\"frequency\": 1, \"value\": \"FF Good SC Web\"}, \"Discourse Narrow\": {\"frequency\": 317, \"value\": \"Discourse Narrow\"}, \"Co Text\": {\"frequency\": 878, \"value\": \"Co Text\"}, \"FF DIN Web Condensed\": {\"frequency\": 13, \"value\": \"FF DIN Web ...\"}, \"September\": {\"frequency\": 224, \"value\": \"September\"}, \"Retiro Std 16pt\": {\"frequency\": 154, \"value\": \"Retiro Std 16pt\"}, \"Chalfont\": {\"frequency\": 34, \"value\": \"Chalfont\"}, \"Garamond Premier Pro Caption\": {\"frequency\": 1440, \"value\": \"Garamond Premier ...\"}, \"Elliotts Typhoid Mary 3D Dark\": {\"frequency\": 61, \"value\": \"Elliotts Typhoid ...\"}, \"Galette\": {\"frequency\": 269, \"value\": \"Galette\"}, \"Prenton\": {\"frequency\": 1650, \"value\": \"Prenton\"}, \"Kaffeesatz\": {\"frequency\": 995, \"value\": \"Kaffeesatz\"}, \"Cowboyslang Expanded\": {\"frequency\": 433, \"value\": \"Cowboyslang ...\"}, \"FF Kievit Web\": {\"frequency\": 11, \"value\": \"FF Kievit Web\"}, \"Adobe Ming Std\": {\"frequency\": 42, \"value\": \"Adobe Ming Std\"}, \"Kyrial Display Pro\": {\"frequency\": 486, \"value\": \"Kyrial Display Pro\"}, \"Peachy Keen JF\": {\"frequency\": 319, \"value\": \"Peachy Keen JF\"}, \"Depot New Condensed Web\": {\"frequency\": 595, \"value\": \"Depot New ...\"}, \"Factoria\": {\"frequency\": 1474, \"value\": \"Factoria\"}, \"Vidange Pro\": {\"frequency\": 271, \"value\": \"Vidange Pro\"}, \"Blambot Pro\": {\"frequency\": 1186, \"value\": \"Blambot Pro\"}, \"HWT Geometric\": {\"frequency\": 523, \"value\": \"HWT Geometric\"}, \"Sutturah\": {\"frequency\": 696, \"value\": \"Sutturah\"}, \"Lo-Res 12 Narrow\": {\"frequency\": 38, \"value\": \"Lo-Res 12 Narrow\"}, \"Gioviale\": {\"frequency\": 342, \"value\": \"Gioviale\"}, \"Variex \": {\"frequency\": 321, \"value\": \"Variex\"}, \"A-OTF Midashi Go MB31 Pr6N\": {\"frequency\": 2094, \"value\": \"A-OTF Midashi Go ...\"}, \"Attic Antique\": {\"frequency\": 295, \"value\": \"Attic Antique\"}, \"Bello Caps\": {\"frequency\": 1039, \"value\": \"Bello Caps\"}, \"Adobe Gujarati\": {\"frequency\": 28, \"value\": \"Adobe Gujarati\"}, \"Ro Nikkatsu Sei Kai Std\": {\"frequency\": 1361, \"value\": \"Ro Nikkatsu Sei ...\"}, \"Kepler Std Semicondensed Subhead\": {\"frequency\": 370, \"value\": \"Kepler Std ...\"}, \"Freight Sans Pro\": {\"frequency\": 9627, \"value\": \"Freight Sans Pro\"}, \"Omnes Pro\": {\"frequency\": 11463, \"value\": \"Omnes Pro\"}, \"Adobe Clean Condensed\": {\"frequency\": 3, \"value\": \"Adobe Clean ...\"}, \"Adobe Clean Han Traditional Chinese\": {\"frequency\": 1, \"value\": \"Adobe Clean Han ...\"}, \"Cantiga Condensed\": {\"frequency\": 640, \"value\": \"Cantiga Condensed\"}, \"Octin College\": {\"frequency\": 362, \"value\": \"Octin College\"}, \"Dogma Outline\": {\"frequency\": 42, \"value\": \"Dogma Outline\"}, \"Blackcurrant Squash\": {\"frequency\": 203, \"value\": \"Blackcurrant ...\"}, \"FF Scala Sans Web Pro SC\": {\"frequency\": 4, \"value\": \"FF Scala Sans Web ...\"}, \"Aktiv Grotesk\": {\"frequency\": 8053, \"value\": \"Aktiv Grotesk\"}, \"FF Meta SC Web Pro\": {\"frequency\": 595, \"value\": \"FF Meta SC Web Pro\"}, \"Adobe Clean Han Korean\": {\"frequency\": 2, \"value\": \"Adobe Clean Han ...\"}, \"Buena Park\": {\"frequency\": 847, \"value\": \"Buena Park\"}, \"BD Brick\": {\"frequency\": 523, \"value\": \"BD Brick\"}, \"Outwest Light\": {\"frequency\": 59, \"value\": \"Outwest Light\"}, \"Utopia Std Display\": {\"frequency\": 780, \"value\": \"Utopia Std Display\"}, \"Junegull\": {\"frequency\": 305, \"value\": \"Junegull\"}, \"Scriptorama Markdown JF\": {\"frequency\": 452, \"value\": \"Scriptorama ...\"}, \"FF Clan Web Pro\": {\"frequency\": 1, \"value\": \"FF Clan Web Pro\"}, \"A-OTF Jun Pro\": {\"frequency\": 2097, \"value\": \"A-OTF Jun Pro\"}, \"Aviano Serif\": {\"frequency\": 277, \"value\": \"Aviano Serif\"}, \"Armalite Rifle\": {\"frequency\": 1577, \"value\": \"Armalite Rifle\"}, \"Arbitrary \": {\"frequency\": 51, \"value\": \"Arbitrary\"}, \"Sutro Deluxe Inline\": {\"frequency\": 169, \"value\": \"Sutro Deluxe ...\"}, \"Octin Prison\": {\"frequency\": 155, \"value\": \"Octin Prison\"}, \"Balboa Plus Gradient\": {\"frequency\": 669, \"value\": \"Balboa Plus ...\"}, \"ABChanel Coco\": {\"frequency\": 1, \"value\": \"ABChanel Coco\"}, \"Missionary\": {\"frequency\": 137, \"value\": \"Missionary\"}, \"Katarine Web\": {\"frequency\": 929, \"value\": \"Katarine Web\"}, \"Modesto Open Fat Outline\": {\"frequency\": 308, \"value\": \"Modesto Open Fat ...\"}, \"Kon Tiki Aloha JF\": {\"frequency\": 466, \"value\": \"Kon Tiki Aloha JF\"}, \"FF Meta Pro\": {\"frequency\": 5792, \"value\": \"FF Meta Pro\"}, \"Lipa Agate Low Narrow\": {\"frequency\": 33, \"value\": \"Lipa Agate Low ...\"}, \"Sutro Shaded Rules\": {\"frequency\": 383, \"value\": \"Sutro Shaded Rules\"}, \"Keedy Sans\": {\"frequency\": 88, \"value\": \"Keedy Sans\"}, \"Rooney Sans Web\": {\"frequency\": 3244, \"value\": \"Rooney Sans Web\"}, \"FF Dagny Pro\": {\"frequency\": 7439, \"value\": \"FF Dagny Pro\"}, \"Klavika Condensed\": {\"frequency\": 4, \"value\": \"Klavika Condensed\"}, \"Lakeside\": {\"frequency\": 2712, \"value\": \"Lakeside\"}, \"VM74\": {\"frequency\": 435, \"value\": \"VM74\"}, \"Brush Script Std\": {\"frequency\": 5387, \"value\": \"Brush Script Std\"}, \"Macha\": {\"frequency\": 952, \"value\": \"Macha\"}, \"Macho\": {\"frequency\": 951, \"value\": \"Macho\"}, \"BonvenoCF\": {\"frequency\": 466, \"value\": \"BonvenoCF\"}, \"Strenuous 3D\": {\"frequency\": 474, \"value\": \"Strenuous 3D\"}, \"Jesaya \": {\"frequency\": 95, \"value\": \"Jesaya\"}, \"Mauritius Condensed\": {\"frequency\": 214, \"value\": \"Mauritius ...\"}, \"Senator \": {\"frequency\": 180, \"value\": \"Senator\"}, \"Gesta\": {\"frequency\": 1580, \"value\": \"Gesta\"}, \"Ro San Std\": {\"frequency\": 1340, \"value\": \"Ro San Std\"}, \"Essay Text\": {\"frequency\": 525, \"value\": \"Essay Text\"}, \"Quagmire\": {\"frequency\": 140, \"value\": \"Quagmire\"}, \"Athelas\": {\"frequency\": 1523, \"value\": \"Athelas\"}, \"Default Gothic\": {\"frequency\": 267, \"value\": \"Default Gothic\"}, \"Le Monde Livre Classic Std\": {\"frequency\": 467, \"value\": \"Le Monde Livre ...\"}, \"Museo\": {\"frequency\": 10238, \"value\": \"Museo\"}, \"Adobe Bengali\": {\"frequency\": 319, \"value\": \"Adobe Bengali\"}, \"Tablet Gothic Semi Condensed\": {\"frequency\": 1399, \"value\": \"Tablet Gothic Semi ...\"}, \"Industry Inc 3D\": {\"frequency\": 1859, \"value\": \"Industry Inc 3D\"}, \"Sofia Pro Condensed\": {\"frequency\": 749, \"value\": \"Sofia Pro ...\"}, \"Expo Sans Pro Condensed\": {\"frequency\": 596, \"value\": \"Expo Sans Pro ...\"}, \"Freight Sans Compressed Pro\": {\"frequency\": 795, \"value\": \"Freight Sans ...\"}, \"LTC Hess Monoblack\": {\"frequency\": 133, \"value\": \"LTC Hess Monoblack\"}, \"Orpheus Pro\": {\"frequency\": 1354, \"value\": \"Orpheus Pro\"}, \"Stroudley\": {\"frequency\": 182, \"value\": \"Stroudley\"}, \"FF Dax Compact Pro\": {\"frequency\": 751, \"value\": \"FF Dax Compact Pro\"}, \"FF Clan SC Web\": {\"frequency\": 3, \"value\": \"FF Clan SC Web\"}, \"Banshee Std\": {\"frequency\": 4013, \"value\": \"Banshee Std\"}, \"Latino URW\": {\"frequency\": 183, \"value\": \"Latino URW\"}, \"Hayate\": {\"frequency\": 137, \"value\": \"Hayate\"}, \"Rosario\": {\"frequency\": 1593, \"value\": \"Rosario\"}, \"FF DIN Web Pro\": {\"frequency\": 13, \"value\": \"FF DIN Web Pro\"}, \"Azo Sans\": {\"frequency\": 4997, \"value\": \"Azo Sans\"}, \"Comenia Sans Web\": {\"frequency\": 298, \"value\": \"Comenia Sans Web\"}, \"Comic Serif Pro\": {\"frequency\": 356, \"value\": \"Comic Serif Pro\"}, \"Knowledge Text\": {\"frequency\": 2, \"value\": \"Knowledge Text\"}, \"NYT Cheltenham Wide\": {\"frequency\": 1, \"value\": \"NYT Cheltenham ...\"}, \"Pill Gothic 300mg\": {\"frequency\": 433, \"value\": \"Pill Gothic 300mg\"}, \"FF Sanuk SC Web\": {\"frequency\": 2, \"value\": \"FF Sanuk SC Web\"}, \"Peachy Keen\": {\"frequency\": 1278, \"value\": \"Peachy Keen\"}, \"Kozuka Gothic Pro\": {\"frequency\": 1196, \"value\": \"Kozuka Gothic Pro\"}, \"Flower Power\": {\"frequency\": 386, \"value\": \"Flower Power\"}, \"Capitolium News 2\": {\"frequency\": 1096, \"value\": \"Capitolium News 2\"}, \"Penna Connected Swashes\": {\"frequency\": 3190, \"value\": \"Penna Connected ...\"}, \"Ubuntu Mono\": {\"frequency\": 1011, \"value\": \"Ubuntu Mono\"}, \"HWT American Stars Top\": {\"frequency\": 504, \"value\": \"HWT American Stars ...\"}, \"Corner Store JF\": {\"frequency\": 592, \"value\": \"Corner Store JF\"}, \"FF Schulbuch Nord Web\": {\"frequency\": 1, \"value\": \"FF Schulbuch Nord ...\"}, \"Brothers \": {\"frequency\": 668, \"value\": \"Brothers\"}, \"Myriad Arabic\": {\"frequency\": 111, \"value\": \"Myriad Arabic\"}, \"Alexander Quill\": {\"frequency\": 327, \"value\": \"Alexander Quill\"}, \"Astoria Condensed\": {\"frequency\": 41, \"value\": \"Astoria Condensed\"}, \"Simply Mono\": {\"frequency\": 326, \"value\": \"Simply Mono\"}, \"Acier BAT Text Gris\": {\"frequency\": 1743, \"value\": \"Acier BAT Text ...\"}, \"Montag\": {\"frequency\": 277, \"value\": \"Montag\"}, \"Share OSF\": {\"frequency\": 293, \"value\": \"Share OSF\"}, \"Astoria\": {\"frequency\": 74, \"value\": \"Astoria\"}, \"Lust Didone\": {\"frequency\": 1685, \"value\": \"Lust Didone\"}, \"Citizen \": {\"frequency\": 81, \"value\": \"Citizen\"}, \"Dry Cowboy\": {\"frequency\": 1309, \"value\": \"Dry Cowboy\"}, \"Jubilat\": {\"frequency\": 7144, \"value\": \"Jubilat\"}, \"Sommet Rounded\": {\"frequency\": 1503, \"value\": \"Sommet Rounded\"}, \"Trajan Pro 3\": {\"frequency\": 5789, \"value\": \"Trajan Pro 3\"}, \"Modesto Poster\": {\"frequency\": 248, \"value\": \"Modesto Poster\"}, \"Bookman JF Pro\": {\"frequency\": 126, \"value\": \"Bookman JF Pro\"}, \"Poetica Std\": {\"frequency\": 1512, \"value\": \"Poetica Std\"}, \"Barge\": {\"frequency\": 223, \"value\": \"Barge\"}, \"NYT Imperial\": {\"frequency\": 2, \"value\": \"NYT Imperial\"}, \"Chalky\": {\"frequency\": 279, \"value\": \"Chalky\"}, \"Parkway Motel\": {\"frequency\": 435, \"value\": \"Parkway Motel\"}, \"Acuta\": {\"frequency\": 1700, \"value\": \"Acuta\"}, \"Chaparral Pro Display\": {\"frequency\": 929, \"value\": \"Chaparral Pro ...\"}, \"HWT Van Lanen Streamer\": {\"frequency\": 896, \"value\": \"HWT Van Lanen ...\"}, \"Atrament Web\": {\"frequency\": 4024, \"value\": \"Atrament Web\"}, \"DeLittle Chromatic\": {\"frequency\": 655, \"value\": \"DeLittle Chromatic\"}, \"League Gothic\": {\"frequency\": 7897, \"value\": \"League Gothic\"}, \"Chaparral Pro Caption\": {\"frequency\": 398, \"value\": \"Chaparral Pro ...\"}, \"AW Conqueror Sans\": {\"frequency\": 467, \"value\": \"AW Conqueror Sans\"}, \"AW Conqueror Didot Light 18\": {\"frequency\": 1, \"value\": \"AW Conqueror Didot ...\"}, \"Muscle Wide\": {\"frequency\": 753, \"value\": \"Muscle Wide\"}, \"ABChanel Coco Condensed\": {\"frequency\": 1, \"value\": \"ABChanel Coco ...\"}, \"JAF Bernina Sans Narrow\": {\"frequency\": 445, \"value\": \"JAF Bernina Sans ...\"}, \"Gunplay Damage\": {\"frequency\": 518, \"value\": \"Gunplay Damage\"}, \"New Cicle\": {\"frequency\": 356, \"value\": \"New Cicle\"}, \"Graphite Std Wide\": {\"frequency\": 470, \"value\": \"Graphite Std Wide\"}, \"Adobe Gothic Std\": {\"frequency\": 165, \"value\": \"Adobe Gothic Std\"}, \"Adobe Jenson Pro Caption\": {\"frequency\": 216, \"value\": \"Adobe Jenson Pro ...\"}, \"Karmina Sans\": {\"frequency\": 1024, \"value\": \"Karmina Sans\"}, \"Headlight\": {\"frequency\": 92, \"value\": \"Headlight\"}, \"JAF Peacock Swash\": {\"frequency\": 292, \"value\": \"JAF Peacock Swash\"}, \"Latienne Pro\": {\"frequency\": 906, \"value\": \"Latienne Pro\"}, \"Birch Std\": {\"frequency\": 2108, \"value\": \"Birch Std\"}, \"Adelle Sans\": {\"frequency\": 9958, \"value\": \"Adelle Sans\"}, \"HWT Bon Air\": {\"frequency\": 2345, \"value\": \"HWT Bon Air\"}, \"Oblong \": {\"frequency\": 37, \"value\": \"Oblong\"}, \"Balloon URW Outline\": {\"frequency\": 739, \"value\": \"Balloon URW ...\"}, \"Tierra Nueva Norte\": {\"frequency\": 31, \"value\": \"Tierra Nueva Norte\"}, \"Westsac\": {\"frequency\": 499, \"value\": \"Westsac\"}, \"Adorn Smooth Condensed Sans\": {\"frequency\": 610, \"value\": \"Adorn Smooth ...\"}, \"Balboa Plus Inline\": {\"frequency\": 1451, \"value\": \"Balboa Plus Inline\"}, \"Le Monde Courrier Std 2\": {\"frequency\": 290, \"value\": \"Le Monde Courrier ...\"}, \"Essonnes Text\": {\"frequency\": 232, \"value\": \"Essonnes Text\"}, \"FF Providence SC Web Pro\": {\"frequency\": 611, \"value\": \"FF Providence SC ...\"}, \"Adobe Garamond Pro\": {\"frequency\": 7809, \"value\": \"Adobe Garamond Pro\"}, \"Priori Acute Serif Ornaments\": {\"frequency\": 41, \"value\": \"Priori Acute Serif ...\"}, \"FF Kava Pro\": {\"frequency\": 2191, \"value\": \"FF Kava Pro\"}, \"Handel Gothic\": {\"frequency\": 480, \"value\": \"Handel Gothic\"}, \"King's Caslon Display\": {\"frequency\": 433, \"value\": \"King's Caslon ...\"}, \"FF Eureka Sans SC Web\": {\"frequency\": 1, \"value\": \"FF Eureka Sans SC ...\"}, \"Roboto Condensed\": {\"frequency\": 711, \"value\": \"Roboto Condensed\"}, \"FF Max SC Web\": {\"frequency\": 1, \"value\": \"FF Max SC Web\"}, \"Mrs Eaves XL Serif Narrow\": {\"frequency\": 268, \"value\": \"Mrs Eaves XL Serif ...\"}, \"Almaq Refined\": {\"frequency\": 464, \"value\": \"Almaq Refined\"}, \"JAF Lapture Caption\": {\"frequency\": 214, \"value\": \"JAF Lapture ...\"}, \"FF Milo Web\": {\"frequency\": 1, \"value\": \"FF Milo Web\"}, \"Stymie\": {\"frequency\": 358, \"value\": \"Stymie\"}, \"Felt Tip Woman\": {\"frequency\": 2331, \"value\": \"Felt Tip Woman\"}, \"Mesquite Std\": {\"frequency\": 1416, \"value\": \"Mesquite Std\"}, \"Strenuous Cast\": {\"frequency\": 607, \"value\": \"Strenuous Cast\"}, \"Nouvelle Vague\": {\"frequency\": 1995, \"value\": \"Nouvelle Vague\"}, \"Base 12 Sans \": {\"frequency\": 79, \"value\": \"Base 12 Sans\"}, \"Lipa Agate High\": {\"frequency\": 190, \"value\": \"Lipa Agate High\"}, \"Parisine Plus Std Clair\": {\"frequency\": 419, \"value\": \"Parisine Plus Std ...\"}, \"Rogue Sans\": {\"frequency\": 193, \"value\": \"Rogue Sans\"}, \"Fairplex Wide \": {\"frequency\": 196, \"value\": \"Fairplex Wide\"}, \"HWT Geometric Shopworn\": {\"frequency\": 1903, \"value\": \"HWT Geometric ...\"}, \"Le Monde Journal Std\": {\"frequency\": 863, \"value\": \"Le Monde Journal ...\"}, \"Adrianna\": {\"frequency\": 631, \"value\": \"Adrianna\"}, \"TBNPMincho Std\": {\"frequency\": 1074, \"value\": \"TBNPMincho Std\"}, \"Livory\": {\"frequency\": 753, \"value\": \"Livory\"}, \"Clarendon Text Pro\": {\"frequency\": 990, \"value\": \"Clarendon Text Pro\"}, \"Karmina\": {\"frequency\": 1388, \"value\": \"Karmina\"}, \"Pollen\": {\"frequency\": 972, \"value\": \"Pollen\"}, \"Postino Std\": {\"frequency\": 1274, \"value\": \"Postino Std\"}, \"Luxi Serif\": {\"frequency\": 303, \"value\": \"Luxi Serif\"}, \"Filosofia \": {\"frequency\": 247, \"value\": \"Filosofia\"}, \"Pragmatica Condensed\": {\"frequency\": 1444, \"value\": \"Pragmatica ...\"}, \"Inconsolata\": {\"frequency\": 1373, \"value\": \"Inconsolata\"}, \"Lust Display\": {\"frequency\": 1545, \"value\": \"Lust Display\"}, \"Fragile Bombers Down\": {\"frequency\": 117, \"value\": \"Fragile Bombers ...\"}, \"Discourse Middle \": {\"frequency\": 897, \"value\": \"Discourse Middle\"}, \"Mislab Std Compact\": {\"frequency\": 145, \"value\": \"Mislab Std Compact\"}, \"JAF Peacock\": {\"frequency\": 116, \"value\": \"JAF Peacock\"}, \"Sorts Mill Goudy\": {\"frequency\": 3476, \"value\": \"Sorts Mill Goudy\"}, \"Rexlia\": {\"frequency\": 130, \"value\": \"Rexlia\"}, \"Jay Gothic URW\": {\"frequency\": 411, \"value\": \"Jay Gothic URW\"}, \"Escoffier Capitaux\": {\"frequency\": 331, \"value\": \"Escoffier Capitaux\"}, \"Orbitron\": {\"frequency\": 4057, \"value\": \"Orbitron\"}, \"Tekton Pro Extended\": {\"frequency\": 1567, \"value\": \"Tekton Pro ...\"}, \"Mostra Nuova Alt A\": {\"frequency\": 549, \"value\": \"Mostra Nuova Alt A\"}, \"Mostra Nuova Alt B\": {\"frequency\": 527, \"value\": \"Mostra Nuova Alt B\"}, \"Mostra Nuova Alt C\": {\"frequency\": 359, \"value\": \"Mostra Nuova Alt C\"}, \"Mostra Nuova Alt D\": {\"frequency\": 572, \"value\": \"Mostra Nuova Alt D\"}, \"Allumi Std\": {\"frequency\": 1046, \"value\": \"Allumi Std\"}, \"BD Jupiter Stencil\": {\"frequency\": 273, \"value\": \"BD Jupiter Stencil\"}, \"Discourse Wide Shadow\": {\"frequency\": 52, \"value\": \"Discourse Wide ...\"}, \"Annabelle\": {\"frequency\": 429, \"value\": \"Annabelle\"}, \"Stencil Std\": {\"frequency\": 5516, \"value\": \"Stencil Std\"}, \"Fatboy\": {\"frequency\": 1063, \"value\": \"Fatboy\"}, \"FF Quadraat SC Web\": {\"frequency\": 1, \"value\": \"FF Quadraat SC Web\"}, \"Quatro Slab\": {\"frequency\": 1622, \"value\": \"Quatro Slab\"}, \"Instant\": {\"frequency\": 188, \"value\": \"Instant\"}, \"JAF Bernina Sans\": {\"frequency\": 1062, \"value\": \"JAF Bernina Sans\"}, \"Origins\": {\"frequency\": 415, \"value\": \"Origins\"}, \"Modesto Open Outline\": {\"frequency\": 384, \"value\": \"Modesto Open ...\"}, \"Shuriken Std\": {\"frequency\": 3388, \"value\": \"Shuriken Std\"}, \"Mr Eaves XL Modern\": {\"frequency\": 907, \"value\": \"Mr Eaves XL Modern\"}, \"Acta Display\": {\"frequency\": 3745, \"value\": \"Acta Display\"}, \"Grad\": {\"frequency\": 1837, \"value\": \"Grad\"}, \"HWT Star Ornaments\": {\"frequency\": 1000, \"value\": \"HWT Star Ornaments\"}, \"Cheap Pine\": {\"frequency\": 414, \"value\": \"Cheap Pine\"}, \"ABChanel Couture Display\": {\"frequency\": 1, \"value\": \"ABChanel Couture ...\"}, \"AW Conqueror Carved Two\": {\"frequency\": 963, \"value\": \"AW Conqueror ...\"}, \"Brim Narrow Combined 2\": {\"frequency\": 1348, \"value\": \"Brim Narrow ...\"}, \"Brim Narrow Combined 3\": {\"frequency\": 668, \"value\": \"Brim Narrow ...\"}, \"Brim Narrow Combined 1\": {\"frequency\": 1849, \"value\": \"Brim Narrow ...\"}, \"Interstate Condensed Rogers\": {\"frequency\": 1, \"value\": \"Interstate ...\"}, \"Hobeaux Rococeaux Borders\": {\"frequency\": 8, \"value\": \"Hobeaux Rococeaux ...\"}, \"Parisine Plus Std\": {\"frequency\": 164, \"value\": \"Parisine Plus Std\"}, \"Alegreya\": {\"frequency\": 2109, \"value\": \"Alegreya\"}, \"Myriad Std Sketch\": {\"frequency\": 2176, \"value\": \"Myriad Std Sketch\"}, \"HWT Arabesque\": {\"frequency\": 1331, \"value\": \"HWT Arabesque\"}, \"LTC Squareface Small Caps\": {\"frequency\": 158, \"value\": \"LTC Squareface ...\"}, \"Knowledge\": {\"frequency\": 3, \"value\": \"Knowledge\"}, \"Discourse Narrow Outline\": {\"frequency\": 724, \"value\": \"Discourse Narrow ...\"}, \"Urbana\": {\"frequency\": 919, \"value\": \"Urbana\"}, \"Subway Berlin SC\": {\"frequency\": 272, \"value\": \"Subway Berlin SC\"}, \"Soda Script \": {\"frequency\": 170, \"value\": \"Soda Script\"}, \"RePublic Web Condensed\": {\"frequency\": 112, \"value\": \"RePublic Web ...\"}, \"Lo-Res 9 Wide\": {\"frequency\": 147, \"value\": \"Lo-Res 9 Wide\"}, \"UnderArmour\": {\"frequency\": 1, \"value\": \"UnderArmour\"}, \"Zalderdash\": {\"frequency\": 234, \"value\": \"Zalderdash\"}, \"FF Amman Serif SC Web\": {\"frequency\": 1, \"value\": \"FF Amman Serif SC ...\"}, \"Jeanne Moderno Ultra\": {\"frequency\": 276, \"value\": \"Jeanne Moderno ...\"}, \"Tornac\": {\"frequency\": 1600, \"value\": \"Tornac\"}, \"Goudy Bookletter 1911\": {\"frequency\": 213, \"value\": \"Goudy Bookletter ...\"}, \"Ambroise Std Firmin\": {\"frequency\": 511, \"value\": \"Ambroise Std ...\"}, \"Minion Pro Display\": {\"frequency\": 404, \"value\": \"Minion Pro Display\"}, \"Burnaby Stencil\": {\"frequency\": 361, \"value\": \"Burnaby Stencil\"}, \"FF Signa Web\": {\"frequency\": 1, \"value\": \"FF Signa Web\"}, \"Freight Sans Condensed Pro\": {\"frequency\": 148, \"value\": \"Freight Sans ...\"}, \"Cubano Sharp\": {\"frequency\": 1024, \"value\": \"Cubano Sharp\"}, \"Mislab Std\": {\"frequency\": 157, \"value\": \"Mislab Std\"}, \"Matrix II \": {\"frequency\": 228, \"value\": \"Matrix II\"}, \"Vox\": {\"frequency\": 977, \"value\": \"Vox\"}, \"Ardoise Std Tight\": {\"frequency\": 115, \"value\": \"Ardoise Std Tight\"}, \"FF DIN Round Web\": {\"frequency\": 11, \"value\": \"FF DIN Round Web\"}, \"Abigail\": {\"frequency\": 489, \"value\": \"Abigail\"}, \"Adobe Hebrew\": {\"frequency\": 85, \"value\": \"Adobe Hebrew\"}, \"JAF Bernino Sans Condensed\": {\"frequency\": 3159, \"value\": \"JAF Bernino Sans ...\"}, \"Prestige Elite Std\": {\"frequency\": 1563, \"value\": \"Prestige Elite Std\"}, \"Carbon Fence\": {\"frequency\": 314, \"value\": \"Carbon Fence\"}, \"Chemist\": {\"frequency\": 582, \"value\": \"Chemist\"}, \"Millesime\": {\"frequency\": 546, \"value\": \"Millesime\"}, \"Graphite Std\": {\"frequency\": 2032, \"value\": \"Graphite Std\"}, \"Voluta Script Pro\": {\"frequency\": 11192, \"value\": \"Voluta Script Pro\"}, \"AW Conqueror Didot Light 64\": {\"frequency\": 1, \"value\": \"AW Conqueror Didot ...\"}, \"Mr Eaves XL Sans\": {\"frequency\": 475, \"value\": \"Mr Eaves XL Sans\"}, \"Elina\": {\"frequency\": 1254, \"value\": \"Elina\"}, \"French Octagon\": {\"frequency\": 106, \"value\": \"French Octagon\"}, \"FF Good Headline SC Web Pro Condensed\": {\"frequency\": 2, \"value\": \"FF Good Headline ...\"}, \"Lo-Res 9 Wide Bold Alt Oakland\": {\"frequency\": 111, \"value\": \"Lo-Res 9 Wide Bold ...\"}, \"Hummingbird\": {\"frequency\": 548, \"value\": \"Hummingbird\"}, \"SchoolBook\": {\"frequency\": 363, \"value\": \"SchoolBook\"}, \"FF Karbid Text Pro\": {\"frequency\": 157, \"value\": \"FF Karbid Text Pro\"}, \"HWT American Outline\": {\"frequency\": 1747, \"value\": \"HWT American ...\"}, \"Sneakers Script Wide\": {\"frequency\": 1057, \"value\": \"Sneakers Script ...\"}, \"FF Mark SC Web\": {\"frequency\": 1, \"value\": \"FF Mark SC Web\"}, \"HWT Slab Columbian\": {\"frequency\": 801, \"value\": \"HWT Slab Columbian\"}, \"Hydrophilia Liquid\": {\"frequency\": 442, \"value\": \"Hydrophilia Liquid\"}, \"Mufferaw\": {\"frequency\": 258, \"value\": \"Mufferaw\"}, \"Modesto Open Primary\": {\"frequency\": 623, \"value\": \"Modesto Open ...\"}, \"Corn Dog\": {\"frequency\": 864, \"value\": \"Corn Dog\"}, \"NYT Franklin\": {\"frequency\": 1, \"value\": \"NYT Franklin\"}, \"Egizio URW\": {\"frequency\": 245, \"value\": \"Egizio URW\"}, \"Trump Soft Pro\": {\"frequency\": 628, \"value\": \"Trump Soft Pro\"}, \"Shelby\": {\"frequency\": 385, \"value\": \"Shelby\"}, \"FF Yoga Web Pro\": {\"frequency\": 1, \"value\": \"FF Yoga Web Pro\"}, \"Mr Eaves Modern\": {\"frequency\": 781, \"value\": \"Mr Eaves Modern\"}, \"Plume\": {\"frequency\": 409, \"value\": \"Plume\"}, \"LFT Etica Display\": {\"frequency\": 4947, \"value\": \"LFT Etica Display\"}, \"DeLittle Chromatic Outline\": {\"frequency\": 942, \"value\": \"DeLittle Chromatic ...\"}, \"FF Strada Web Pro\": {\"frequency\": 1, \"value\": \"FF Strada Web Pro\"}, \"Avebury Inline\": {\"frequency\": 344, \"value\": \"Avebury Inline\"}, \"Penna Connected\": {\"frequency\": 3766, \"value\": \"Penna Connected\"}, \"Ronnia\": {\"frequency\": 1322, \"value\": \"Ronnia\"}, \"Alana\": {\"frequency\": 714, \"value\": \"Alana\"}, \"Capucine Basic\": {\"frequency\": 4, \"value\": \"Capucine Basic\"}, \"Chennai\": {\"frequency\": 556, \"value\": \"Chennai\"}, \"Franklin Gothic URW\": {\"frequency\": 6228, \"value\": \"Franklin Gothic ...\"}, \"Ingra Condensed 2\": {\"frequency\": 444, \"value\": \"Ingra Condensed 2\"}, \"FF More Pro Wide\": {\"frequency\": 606, \"value\": \"FF More Pro Wide\"}, \"Bree Serif\": {\"frequency\": 2467, \"value\": \"Bree Serif\"}, \"Strenuous\": {\"frequency\": 441, \"value\": \"Strenuous\"}, \"Depot New Web\": {\"frequency\": 834, \"value\": \"Depot New Web\"}, \"Abril Fatface\": {\"frequency\": 4255, \"value\": \"Abril Fatface\"}, \"BD Viewmaster\": {\"frequency\": 389, \"value\": \"BD Viewmaster\"}, \"Kepler Std Extended Subhead\": {\"frequency\": 650, \"value\": \"Kepler Std ...\"}, \"Kepler Std Caption\": {\"frequency\": 373, \"value\": \"Kepler Std Caption\"}, \"FF Eureka Sans Web\": {\"frequency\": 1, \"value\": \"FF Eureka Sans Web\"}, \"Museo Sans Condensed\": {\"frequency\": 6066, \"value\": \"Museo Sans ...\"}, \"Democratica\": {\"frequency\": 107, \"value\": \"Democratica\"}, \"Lo-Res 12 \": {\"frequency\": 37, \"value\": \"Lo-Res 12\"}, \"HWT American Chromatic\": {\"frequency\": 1929, \"value\": \"HWT American ...\"}, \"Cubano\": {\"frequency\": 2875, \"value\": \"Cubano\"}, \"Sewn\": {\"frequency\": 311, \"value\": \"Sewn\"}, \"Cheap Pine Sans\": {\"frequency\": 201, \"value\": \"Cheap Pine Sans\"}, \"Imago Pro Roche\": {\"frequency\": 2, \"value\": \"Imago Pro Roche\"}, \"Americane Condensed\": {\"frequency\": 55, \"value\": \"Americane ...\"}, \"Expo Serif Pro\": {\"frequency\": 1120, \"value\": \"Expo Serif Pro\"}, \"FF Fago Web Pro\": {\"frequency\": 1, \"value\": \"FF Fago Web Pro\"}, \"Eloquent JF Pro\": {\"frequency\": 1145, \"value\": \"Eloquent JF Pro\"}, \"Alber New Web\": {\"frequency\": 607, \"value\": \"Alber New Web\"}, \"Spumante\": {\"frequency\": 1506, \"value\": \"Spumante\"}, \"FF Amman Serif Pro\": {\"frequency\": 120, \"value\": \"FF Amman Serif Pro\"}, \"Metallophile Sp8\": {\"frequency\": 2153, \"value\": \"Metallophile Sp8\"}, \"A-OTF Ryumin Pr6N\": {\"frequency\": 2066, \"value\": \"A-OTF Ryumin Pr6N\"}, \"English\": {\"frequency\": 1273, \"value\": \"English\"}, \"Emily Austin\": {\"frequency\": 1265, \"value\": \"Emily Austin\"}, \"Ambroise Std\": {\"frequency\": 1913, \"value\": \"Ambroise Std\"}, \"Ardoise Std Compact\": {\"frequency\": 132, \"value\": \"Ardoise Std ...\"}, \"Veer Annabelle\": {\"frequency\": 4579, \"value\": \"Veer Annabelle\"}, \"HWT Artz\": {\"frequency\": 2836, \"value\": \"HWT Artz\"}, \"Balboa Condensed\": {\"frequency\": 295, \"value\": \"Balboa Condensed\"}, \"FF Profile Web\": {\"frequency\": 2, \"value\": \"FF Profile Web\"}, \"Balboa Extra Condensed\": {\"frequency\": 267, \"value\": \"Balboa Extra ...\"}, \"Minion Pro Caption\": {\"frequency\": 501, \"value\": \"Minion Pro Caption\"}, \"Parisine Plus Std Gris\": {\"frequency\": 961, \"value\": \"Parisine Plus Std ...\"}, \"NYT Cheltenham\": {\"frequency\": 1, \"value\": \"NYT Cheltenham\"}, \"Sail\": {\"frequency\": 14129, \"value\": \"Sail\"}, \"Sniglet\": {\"frequency\": 1079, \"value\": \"Sniglet\"}, \"Capitolium 2\": {\"frequency\": 633, \"value\": \"Capitolium 2\"}, \"HWT Catchwords\": {\"frequency\": 5741, \"value\": \"HWT Catchwords\"}, \"Source Han Sans Simplified Chinese\": {\"frequency\": 3308, \"value\": \"Source Han Sans ...\"}, \"Supria Sans Condensed\": {\"frequency\": 35, \"value\": \"Supria Sans ...\"}, \"Discourse Wide Outline\": {\"frequency\": 211, \"value\": \"Discourse Wide ...\"}, \"Antique Olive Condensed\": {\"frequency\": 275, \"value\": \"Antique Olive ...\"}, \"Elliotts Typhoid Mary 3D Light\": {\"frequency\": 68, \"value\": \"Elliotts Typhoid ...\"}, \"Peregroy JF\": {\"frequency\": 341, \"value\": \"Peregroy JF\"}, \"Franklin Gothic URW Condensed\": {\"frequency\": 2467, \"value\": \"Franklin Gothic ...\"}, \"TextBook New\": {\"frequency\": 426, \"value\": \"TextBook New\"}, \"Mythos Std\": {\"frequency\": 1095, \"value\": \"Mythos Std\"}, \"Mitigate\": {\"frequency\": 207, \"value\": \"Mitigate\"}, \"Heisei Maru Gothic Std\": {\"frequency\": 1650, \"value\": \"Heisei Maru Gothic ...\"}, \"Malaga\": {\"frequency\": 143, \"value\": \"Malaga\"}, \"JAF Peacock Loop\": {\"frequency\": 343, \"value\": \"JAF Peacock Loop\"}, \"Steinzeit\": {\"frequency\": 820, \"value\": \"Steinzeit\"}, \"Source Sans ADOBE TEST\": {\"frequency\": 1, \"value\": \"Source Sans ADOBE ...\"}, \"Bee\": {\"frequency\": 1525, \"value\": \"Bee\"}, \"FF Quadraat SC Web Pro\": {\"frequency\": 1, \"value\": \"FF Quadraat SC Web ...\"}, \"Backspacer Square\": {\"frequency\": 201, \"value\": \"Backspacer Square\"}, \"Ratio Modern\": {\"frequency\": 1140, \"value\": \"Ratio Modern\"}, \"Nagomi\": {\"frequency\": 448, \"value\": \"Nagomi\"}, \"Copal Std Outline\": {\"frequency\": 1438, \"value\": \"Copal Std Outline\"}, \"Museo Slab\": {\"frequency\": 17950, \"value\": \"Museo Slab\"}, \"Mallory MicroPlus\": {\"frequency\": 1, \"value\": \"Mallory MicroPlus\"}, \"TBCineRGothic Std\": {\"frequency\": 1259, \"value\": \"TBCineRGothic Std\"}, \"Chunder\": {\"frequency\": 886, \"value\": \"Chunder\"}, \"Calluna\": {\"frequency\": 4157, \"value\": \"Calluna\"}, \"Fira Mono\": {\"frequency\": 2291, \"value\": \"Fira Mono\"}, \"Elliotts Venus D Outlined\": {\"frequency\": 64, \"value\": \"Elliotts Venus D ...\"}, \"FF Prater Sans\": {\"frequency\": 468, \"value\": \"FF Prater Sans\"}, \"Utopia Std Headline\": {\"frequency\": 2997, \"value\": \"Utopia Std ...\"}, \"Brioso Pro Poster\": {\"frequency\": 1767, \"value\": \"Brioso Pro Poster\"}, \"Chaparral Pro\": {\"frequency\": 8112, \"value\": \"Chaparral Pro\"}, \"FF Basic Gothic Pro\": {\"frequency\": 4374, \"value\": \"FF Basic Gothic ...\"}, \"HWT Borders One\": {\"frequency\": 645, \"value\": \"HWT Borders One\"}, \"AW Conqueror Didot\": {\"frequency\": 1207, \"value\": \"AW Conqueror Didot\"}, \"FF DIN Web Pro Condensed\": {\"frequency\": 1, \"value\": \"FF DIN Web Pro ...\"}, \"Adobe Clean Han Japanese\": {\"frequency\": 3, \"value\": \"Adobe Clean Han ...\"}, \"Henderson BCG Sans\": {\"frequency\": 3, \"value\": \"Henderson BCG Sans\"}, \"Fenwick \": {\"frequency\": 126, \"value\": \"Fenwick\"}, \"Priori Acute Serif \": {\"frequency\": 264, \"value\": \"Priori Acute Serif\"}, \"Cowboyslang\": {\"frequency\": 640, \"value\": \"Cowboyslang\"}, \"Neue Display Random\": {\"frequency\": 1, \"value\": \"Neue Display ...\"}, \"Edo\": {\"frequency\": 4096, \"value\": \"Edo\"}, \"Texas Hero\": {\"frequency\": 685, \"value\": \"Texas Hero\"}, \"FF Market Pro\": {\"frequency\": 12329, \"value\": \"FF Market Pro\"}, \"FF Dagny Web\": {\"frequency\": 1, \"value\": \"FF Dagny Web\"}, \"Adobe Kannada\": {\"frequency\": 40, \"value\": \"Adobe Kannada\"}, \"Mrs Eaves XL Serif \": {\"frequency\": 362, \"value\": \"Mrs Eaves XL Serif\"}, \"Viva Std Extra Extended\": {\"frequency\": 377, \"value\": \"Viva Std Extra ...\"}, \"Garamond Premier Pro\": {\"frequency\": 2101, \"value\": \"Garamond Premier ...\"}, \"FF DIN Web\": {\"frequency\": 114, \"value\": \"FF DIN Web\"}, \"FF Meta Headline Web\": {\"frequency\": 1, \"value\": \"FF Meta Headline ...\"}, \"French Canon\": {\"frequency\": 494, \"value\": \"French Canon\"}, \"Kari Pro\": {\"frequency\": 2021, \"value\": \"Kari Pro\"}, \"Locator Display\": {\"frequency\": 2, \"value\": \"Locator Display\"}, \"Share TechMono\": {\"frequency\": 767, \"value\": \"Share TechMono\"}, \"LTC Goudy Ornate\": {\"frequency\": 1068, \"value\": \"LTC Goudy Ornate\"}, \"Balboa\": {\"frequency\": 65, \"value\": \"Balboa\"}, \"Heisei Kaku Gothic Std\": {\"frequency\": 1356, \"value\": \"Heisei Kaku Gothic ...\"}, \"Wayfinding Sans Condensed\": {\"frequency\": 43, \"value\": \"Wayfinding Sans ...\"}, \"Source Han Sans Traditional Chinese\": {\"frequency\": 3152, \"value\": \"Source Han Sans ...\"}, \"FF Confidential Web\": {\"frequency\": 1, \"value\": \"FF Confidential ...\"}, \"Co Headline\": {\"frequency\": 2122, \"value\": \"Co Headline\"}, \"Tablet Gothic Condensed\": {\"frequency\": 1431, \"value\": \"Tablet Gothic ...\"}, \"JAF Herb Condensed\": {\"frequency\": 1561, \"value\": \"JAF Herb Condensed\"}, \"Base 900 Sans \": {\"frequency\": 164, \"value\": \"Base 900 Sans\"}, \"Verveine\": {\"frequency\": 2394, \"value\": \"Verveine\"}, \"Adobe Caslon Pro\": {\"frequency\": 8202, \"value\": \"Adobe Caslon Pro\"}, \"Kepler Std Condensed Subhead\": {\"frequency\": 564, \"value\": \"Kepler Std ...\"}, \"Proxima Nova Alt\": {\"frequency\": 3154, \"value\": \"Proxima Nova Alt\"}, \"Source Han Sans Korean\": {\"frequency\": 1879, \"value\": \"Source Han Sans ...\"}, \"Sutro Shaded Primary\": {\"frequency\": 194, \"value\": \"Sutro Shaded ...\"}, \"Alverata Informal PE\": {\"frequency\": 1161, \"value\": \"Alverata Informal ...\"}, \"Adaptive Mono\": {\"frequency\": 208, \"value\": \"Adaptive Mono\"}, \"Discourse Narrow Fill\": {\"frequency\": 430, \"value\": \"Discourse Narrow ...\"}, \"Anisette Std Petite\": {\"frequency\": 783, \"value\": \"Anisette Std ...\"}, \"Hellenic Wide\": {\"frequency\": 499, \"value\": \"Hellenic Wide\"}, \"Blockhead Plain\": {\"frequency\": 371, \"value\": \"Blockhead Plain\"}, \"Journal \": {\"frequency\": 205, \"value\": \"Journal\"}, \"Dalliance Script\": {\"frequency\": 263, \"value\": \"Dalliance Script\"}, \"Penna Swashes\": {\"frequency\": 2812, \"value\": \"Penna Swashes\"}, \"Brignell Slab\": {\"frequency\": 1, \"value\": \"Brignell Slab\"}, \"ABChanel\": {\"frequency\": 1, \"value\": \"ABChanel\"}, \"Fanwood\": {\"frequency\": 655, \"value\": \"Fanwood\"}, \"Kepler Std\": {\"frequency\": 4404, \"value\": \"Kepler Std\"}, \"Chinchilla\": {\"frequency\": 233, \"value\": \"Chinchilla\"}, \"Tenby Eight \": {\"frequency\": 689, \"value\": \"Tenby Eight\"}, \"P22 Underground\": {\"frequency\": 2444, \"value\": \"P22 Underground\"}, \"OCR-A Std\": {\"frequency\": 1261, \"value\": \"OCR-A Std\"}, \"Baroque Text\": {\"frequency\": 1902, \"value\": \"Baroque Text\"}, \"Chennai Slab\": {\"frequency\": 1092, \"value\": \"Chennai Slab\"}, \"Saucy Millionaire\": {\"frequency\": 458, \"value\": \"Saucy Millionaire\"}, \"Flood Std\": {\"frequency\": 7150, \"value\": \"Flood Std\"}, \"Mauritius\": {\"frequency\": 227, \"value\": \"Mauritius\"}, \"Foco\": {\"frequency\": 3399, \"value\": \"Foco\"}, \"Quagmire Extended\": {\"frequency\": 113, \"value\": \"Quagmire Extended\"}, \"FF DIN Round Web Pro\": {\"frequency\": 3, \"value\": \"FF DIN Round Web ...\"}, \"Warnock Pro Caption\": {\"frequency\": 122, \"value\": \"Warnock Pro ...\"}, \"Bryant Web Alternate SS1\": {\"frequency\": 5, \"value\": \"Bryant Web ...\"}, \"Filosofia Basic Small Caps\": {\"frequency\": 60, \"value\": \"Filosofia Basic ...\"}, \"FF Sanuk Web\": {\"frequency\": 3, \"value\": \"FF Sanuk Web\"}, \"FF Duper Pro\": {\"frequency\": 1156, \"value\": \"FF Duper Pro\"}, \"Termina\": {\"frequency\": 271, \"value\": \"Termina\"}, \"Wigwag Bold\": {\"frequency\": 274, \"value\": \"Wigwag Bold\"}, \"Skolar Sans Latin Condensed\": {\"frequency\": 231, \"value\": \"Skolar Sans Latin ...\"}, \"Elliotts Blue EyeShadow\": {\"frequency\": 55, \"value\": \"Elliotts Blue ...\"}, \"Al Fresco\": {\"frequency\": 815, \"value\": \"Al Fresco\"}, \"TBCGothic Std\": {\"frequency\": 1427, \"value\": \"TBCGothic Std\"}, \"FF Max Web\": {\"frequency\": 1, \"value\": \"FF Max Web\"}, \"Senator Tall\": {\"frequency\": 88, \"value\": \"Senator Tall\"}, \"Kozuka Mincho Pro\": {\"frequency\": 1213, \"value\": \"Kozuka Mincho Pro\"}, \"Le Monde Journal Std 2\": {\"frequency\": 293, \"value\": \"Le Monde Journal ...\"}, \"Informa Pro\": {\"frequency\": 563, \"value\": \"Informa Pro\"}, \"Alverata PE\": {\"frequency\": 1003, \"value\": \"Alverata PE\"}, \"Lo-Res 9 Minus Narrow\": {\"frequency\": 68, \"value\": \"Lo-Res 9 Minus ...\"}, \"FF Quadraat Web\": {\"frequency\": 4, \"value\": \"FF Quadraat Web\"}, \"Modesto Initials\": {\"frequency\": 62, \"value\": \"Modesto Initials\"}, \"Elina Decor\": {\"frequency\": 1753, \"value\": \"Elina Decor\"}, \"SchoolBook Condensed\": {\"frequency\": 171, \"value\": \"SchoolBook ...\"}, \"Nimbus Sans Extended\": {\"frequency\": 4157, \"value\": \"Nimbus Sans ...\"}, \"HWT Tuscan Extended\": {\"frequency\": 1165, \"value\": \"HWT Tuscan ...\"}, \"Ubuntu\": {\"frequency\": 1437, \"value\": \"Ubuntu\"}, \"Adorn Smooth Slab Serif\": {\"frequency\": 47, \"value\": \"Adorn Smooth Slab ...\"}, \"FF Celeste SC Web\": {\"frequency\": 1, \"value\": \"FF Celeste SC Web\"}, \"Alternate Gothic No. 2 D\": {\"frequency\": 3577, \"value\": \"Alternate Gothic ...\"}, \"Adobe Devanagari\": {\"frequency\": 83, \"value\": \"Adobe Devanagari\"}, \"Didoni URW\": {\"frequency\": 1197, \"value\": \"Didoni URW\"}, \"Nautica\": {\"frequency\": 959, \"value\": \"Nautica\"}, \"Supria Sans\": {\"frequency\": 80, \"value\": \"Supria Sans\"}, \"Prometo\": {\"frequency\": 1103, \"value\": \"Prometo\"}, \"Adobe Clean\": {\"frequency\": 15, \"value\": \"Adobe Clean\"}, \"Outwest Half Full\": {\"frequency\": 48, \"value\": \"Outwest Half Full\"}, \"Tight\": {\"frequency\": 448, \"value\": \"Tight\"}, \"Liquorstore 3D\": {\"frequency\": 746, \"value\": \"Liquorstore 3D\"}, \"Givry\": {\"frequency\": 2529, \"value\": \"Givry\"}, \"Skolar Sans Latin Extended\": {\"frequency\": 301, \"value\": \"Skolar Sans Latin ...\"}, \"Franklin Gothic URW Extra Compressed\": {\"frequency\": 2434, \"value\": \"Franklin Gothic ...\"}, \"Auto 3 Lining Figures\": {\"frequency\": 1, \"value\": \"Auto 3 Lining ...\"}, \"Franklin Gothic URW Compressed\": {\"frequency\": 2459, \"value\": \"Franklin Gothic ...\"}, \"Adobe Clean Han Simplified Chinese\": {\"frequency\": 1, \"value\": \"Adobe Clean Han ...\"}, \"Bell Centennial Std Name & Number\": {\"frequency\": 469, \"value\": \"Bell Centennial ...\"}, \"Modula Serif\": {\"frequency\": 98, \"value\": \"Modula Serif\"}, \"Courier Std\": {\"frequency\": 716, \"value\": \"Courier Std\"}, \"Iskra\": {\"frequency\": 3535, \"value\": \"Iskra\"}, \"Subway Berlin STD\": {\"frequency\": 268, \"value\": \"Subway Berlin STD\"}, \"Intruder Alert\": {\"frequency\": 391, \"value\": \"Intruder Alert\"}, \"Quara\": {\"frequency\": 295, \"value\": \"Quara\"}, \"FF Dax Pro Condensed\": {\"frequency\": 805, \"value\": \"FF Dax Pro ...\"}, \"FF Unit Web\": {\"frequency\": 2, \"value\": \"FF Unit Web\"}, \"Modesto Text\": {\"frequency\": 1231, \"value\": \"Modesto Text\"}, \"Brandon Grotesque\": {\"frequency\": 20846, \"value\": \"Brandon Grotesque\"}, \"Mr Eaves XL Modern Narrow \": {\"frequency\": 361, \"value\": \"Mr Eaves XL Modern ...\"}, \"Ebony\": {\"frequency\": 753, \"value\": \"Ebony\"}, \"Zubilo Shadow\": {\"frequency\": 545, \"value\": \"Zubilo Shadow\"}, \"OCR-B Std\": {\"frequency\": 522, \"value\": \"OCR-B Std\"}, \"Gunplay\": {\"frequency\": 241, \"value\": \"Gunplay\"}, \"Madrone Std\": {\"frequency\": 2101, \"value\": \"Madrone Std\"}, \"Old Standard\": {\"frequency\": 785, \"value\": \"Old Standard\"}, \"Parisine Std Clair\": {\"frequency\": 601, \"value\": \"Parisine Std Clair\"}, \"Merriweather\": {\"frequency\": 3033, \"value\": \"Merriweather\"}, \"Vera Sans\": {\"frequency\": 815, \"value\": \"Vera Sans\"}, \"Dederon Sans Web\": {\"frequency\": 163, \"value\": \"Dederon Sans Web\"}, \"Copal Std Solid\": {\"frequency\": 1267, \"value\": \"Copal Std Solid\"}, \"HWT American Inset\": {\"frequency\": 845, \"value\": \"HWT American Inset\"}, \"Eurostile\": {\"frequency\": 845, \"value\": \"Eurostile\"}, \"Changeling Neo Stencil\": {\"frequency\": 2354, \"value\": \"Changeling Neo ...\"}, \"Swingdancer\": {\"frequency\": 2329, \"value\": \"Swingdancer\"}, \"Cardea Lining\": {\"frequency\": 53, \"value\": \"Cardea Lining\"}, \"Freight Big Pro\": {\"frequency\": 3666, \"value\": \"Freight Big Pro\"}, \"Newcomen\": {\"frequency\": 1127, \"value\": \"Newcomen\"}, \"Ro Brush Std\": {\"frequency\": 1321, \"value\": \"Ro Brush Std\"}, \"FF Strada SC Web Pro\": {\"frequency\": 1, \"value\": \"FF Strada SC Web ...\"}, \"FF Nexus Typewriter Web\": {\"frequency\": 1, \"value\": \"FF Nexus ...\"}, \"Sweater School\": {\"frequency\": 112, \"value\": \"Sweater School\"}, \"FF Good Web Wide\": {\"frequency\": 1, \"value\": \"FF Good Web Wide\"}, \"Maiola\": {\"frequency\": 680, \"value\": \"Maiola\"}, \"Lust Display Didone\": {\"frequency\": 1406, \"value\": \"Lust Display ...\"}, \"Capitolina\": {\"frequency\": 267, \"value\": \"Capitolina\"}, \"Uniwars \": {\"frequency\": 429, \"value\": \"Uniwars\"}, \"Magistral\": {\"frequency\": 1121, \"value\": \"Magistral\"}, \"AG Book\": {\"frequency\": 1, \"value\": \"AG Book\"}, \"Aller\": {\"frequency\": 612, \"value\": \"Aller\"}, \"Informa Pro Condensed\": {\"frequency\": 347, \"value\": \"Informa Pro ...\"}, \"FF Sero Web\": {\"frequency\": 2, \"value\": \"FF Sero Web\"}, \"Parisine Std Sombre\": {\"frequency\": 327, \"value\": \"Parisine Std ...\"}, \"Tierra Nueva Sur\": {\"frequency\": 150, \"value\": \"Tierra Nueva Sur\"}, \"Lobster\": {\"frequency\": 6206, \"value\": \"Lobster\"}, \"AW Conqueror Inline\": {\"frequency\": 1965, \"value\": \"AW Conqueror ...\"}, \"Korolev Compressed\": {\"frequency\": 747, \"value\": \"Korolev Compressed\"}, \"Anivers SC\": {\"frequency\": 1668, \"value\": \"Anivers SC\"}, \"FF Dax Pro\": {\"frequency\": 959, \"value\": \"FF Dax Pro\"}, \"Coranto 2 Headline\": {\"frequency\": 489, \"value\": \"Coranto 2 Headline\"}, \"PT Sans Narrow\": {\"frequency\": 1979, \"value\": \"PT Sans Narrow\"}, \"Acta Poster Swashes\": {\"frequency\": 5684, \"value\": \"Acta Poster ...\"}, \"Kinesis Pro 3\": {\"frequency\": 1377, \"value\": \"Kinesis Pro 3\"}, \"Octin Stencil\": {\"frequency\": 241, \"value\": \"Octin Stencil\"}, \"Totally Gothic Wide Caps\": {\"frequency\": 54, \"value\": \"Totally Gothic ...\"}, \"T.26 Carbon\": {\"frequency\": 259, \"value\": \"T.26 Carbon\"}, \"Kepler Std Condensed Display\": {\"frequency\": 992, \"value\": \"Kepler Std ...\"}, \"Blue Goblet\": {\"frequency\": 338, \"value\": \"Blue Goblet\"}, \"Metronic Slab\": {\"frequency\": 480, \"value\": \"Metronic Slab\"}, \"NYT Stymie\": {\"frequency\": 1, \"value\": \"NYT Stymie\"}, \"Telefon Web\": {\"frequency\": 336, \"value\": \"Telefon Web\"}, \"Fairy Tale JF\": {\"frequency\": 299, \"value\": \"Fairy Tale JF\"}, \"Pepperwood Std Outline\": {\"frequency\": 133, \"value\": \"Pepperwood Std ...\"}, \"Meatball\": {\"frequency\": 565, \"value\": \"Meatball\"}, \"Servus Slab\": {\"frequency\": 1210, \"value\": \"Servus Slab\"}, \"Rosewood Std\": {\"frequency\": 4589, \"value\": \"Rosewood Std\"}, \"Cholla Sans \": {\"frequency\": 58, \"value\": \"Cholla Sans\"}, \"Anisette Std Petite SC\": {\"frequency\": 654, \"value\": \"Anisette Std ...\"}, \"Pepperwood Std Fill\": {\"frequency\": 937, \"value\": \"Pepperwood Std ...\"}, \"Adobe Clean Semi Condensed\": {\"frequency\": 1, \"value\": \"Adobe Clean Semi ...\"}, \"Industry Inc Bevel Fill\": {\"frequency\": 622, \"value\": \"Industry Inc Bevel ...\"}, \"Matrix II Extra Narrow\": {\"frequency\": 70, \"value\": \"Matrix II Extra ...\"}, \"FF Celeste Web\": {\"frequency\": 1, \"value\": \"FF Celeste Web\"}, \"Sanvito Pro Caption\": {\"frequency\": 711, \"value\": \"Sanvito Pro ...\"}, \"Freight Micro Pro\": {\"frequency\": 1411, \"value\": \"Freight Micro Pro\"}, \"Professor Minty\": {\"frequency\": 920, \"value\": \"Professor Minty\"}, \"Blue Goblet Alternate One\": {\"frequency\": 340, \"value\": \"Blue Goblet ...\"}, \"Lush Script\": {\"frequency\": 9028, \"value\": \"Lush Script\"}, \"Calluna Sans\": {\"frequency\": 3322, \"value\": \"Calluna Sans\"}, \"FF Good Pro Extended\": {\"frequency\": 1, \"value\": \"FF Good Pro ...\"}, \"Craw Modern URW\": {\"frequency\": 557, \"value\": \"Craw Modern URW\"}, \"Adorn Smooth Serif\": {\"frequency\": 87, \"value\": \"Adorn Smooth Serif\"}, \"Dead History\": {\"frequency\": 74, \"value\": \"Dead History\"}, \"Dirty Bakers Dozen Scorch\": {\"frequency\": 410, \"value\": \"Dirty Bakers Dozen ...\"}, \"Motor Stencil\": {\"frequency\": 1434, \"value\": \"Motor Stencil\"}, \"Alternate Gothic No. 3 D\": {\"frequency\": 3792, \"value\": \"Alternate Gothic ...\"}, \"Base 12 Serif \": {\"frequency\": 64, \"value\": \"Base 12 Serif\"}, \"Tenby Four\": {\"frequency\": 764, \"value\": \"Tenby Four\"}, \"Freight Display Pro\": {\"frequency\": 2995, \"value\": \"Freight Display ...\"}, \"Boucherie Sans Inline\": {\"frequency\": 262, \"value\": \"Boucherie Sans ...\"}, \"Vortice\": {\"frequency\": 3534, \"value\": \"Vortice\"}, \"Eloquent JF Small Caps Pro\": {\"frequency\": 294, \"value\": \"Eloquent JF Small ...\"}, \"Adobe Jenson Pro Subhead\": {\"frequency\": 198, \"value\": \"Adobe Jenson Pro ...\"}, \"Estilo Script\": {\"frequency\": 3296, \"value\": \"Estilo Script\"}, \"Droid Sans Mono\": {\"frequency\": 1025, \"value\": \"Droid Sans Mono\"}, \"FF Meta Headline Web Condensed\": {\"frequency\": 1, \"value\": \"FF Meta Headline ...\"}, \"Century Old Style Std\": {\"frequency\": 600, \"value\": \"Century Old Style ...\"}, \"Zebrawood Std\": {\"frequency\": 5075, \"value\": \"Zebrawood Std\"}, \"Sanvito Pro Display\": {\"frequency\": 9821, \"value\": \"Sanvito Pro ...\"}, \"Matrix II Display Hilite Script\": {\"frequency\": 44, \"value\": \"Matrix II Display ...\"}, \"Tenso\": {\"frequency\": 2508, \"value\": \"Tenso\"}, \"Old Man Eloquent\": {\"frequency\": 460, \"value\": \"Old Man Eloquent\"}, \"Immi Five O Five\": {\"frequency\": 3372, \"value\": \"Immi Five O Five\"}, \"Reklame Script\": {\"frequency\": 3682, \"value\": \"Reklame Script\"}, \"Le Monde Sans Std 2\": {\"frequency\": 100, \"value\": \"Le Monde Sans Std ...\"}, \"Aviano Flare\": {\"frequency\": 500, \"value\": \"Aviano Flare\"}, \"Prenton Display\": {\"frequency\": 1906, \"value\": \"Prenton Display\"}, \"Olidia\": {\"frequency\": 1502, \"value\": \"Olidia\"}, \"Muscle Narrow\": {\"frequency\": 1277, \"value\": \"Muscle Narrow\"}, \"Gurkner-Jump\": {\"frequency\": 127, \"value\": \"Gurkner-Jump\"}, \"Liquorstore Jazz\": {\"frequency\": 375, \"value\": \"Liquorstore Jazz\"}, \"Matrix II Script \": {\"frequency\": 461, \"value\": \"Matrix II Script\"}, \"Bickham Script Pro 3\": {\"frequency\": 2950, \"value\": \"Bickham Script Pro ...\"}, \"Petala Pro\": {\"frequency\": 1513, \"value\": \"Petala Pro\"}, \"Fresno Black\": {\"frequency\": 516, \"value\": \"Fresno Black\"}, \"Vinyl\": {\"frequency\": 1332, \"value\": \"Vinyl\"}, \"JAF Zalamander Caps\": {\"frequency\": 238, \"value\": \"JAF Zalamander ...\"}, \"Natalya\": {\"frequency\": 1051, \"value\": \"Natalya\"}, \"Pill Gothic 900mg\": {\"frequency\": 223, \"value\": \"Pill Gothic 900mg\"}, \"Memoriam Headline Pro\": {\"frequency\": 4398, \"value\": \"Memoriam Headline ...\"}, \"Lunatix \": {\"frequency\": 108, \"value\": \"Lunatix\"}, \"FF Folk Rough\": {\"frequency\": 243, \"value\": \"FF Folk Rough\"}, \"Coup\\ufffd\\ufffd\": {\"frequency\": 1, \"value\": \"Coup\\u00e9\"}, \"Cowboyslang Condensed \": {\"frequency\": 160, \"value\": \"Cowboyslang ...\"}, \"Mittwoch\": {\"frequency\": 1302, \"value\": \"Mittwoch\"}, \"FF Scala Sans Web Pro Condensed\": {\"frequency\": 1, \"value\": \"FF Scala Sans Web ...\"}, \"Broadsheet\": {\"frequency\": 244, \"value\": \"Broadsheet\"}, \"Minion Pro Condensed Caption\": {\"frequency\": 176, \"value\": \"Minion Pro ...\"}, \"Good Bad Man\": {\"frequency\": 92, \"value\": \"Good Bad Man\"}, \"Trump Gothic Pro\": {\"frequency\": 758, \"value\": \"Trump Gothic Pro\"}, \"BD Jupiter\": {\"frequency\": 689, \"value\": \"BD Jupiter\"}, \"Fira Sans\": {\"frequency\": 7795, \"value\": \"Fira Sans\"}, \"Essonnes Display\": {\"frequency\": 1417, \"value\": \"Essonnes Display\"}, \"TewentyFourNinetyOne\": {\"frequency\": 170, \"value\": \"TewentyFourNinetyO ...\"}, \"Daniel\": {\"frequency\": 3634, \"value\": \"Daniel\"}, \"Learning Curve Dashed \": {\"frequency\": 2376, \"value\": \"Learning Curve ...\"}, \"Elena Basic\": {\"frequency\": 40, \"value\": \"Elena Basic\"}, \"NYT Cheltenham Condensed (Hinted)\": {\"frequency\": 1, \"value\": \"NYT Cheltenham ...\"}, \"Mencken Head\": {\"frequency\": 1, \"value\": \"Mencken Head\"}, \"Alda Web NYL\": {\"frequency\": 1, \"value\": \"Alda Web NYL\"}, \"Tenby Six\": {\"frequency\": 540, \"value\": \"Tenby Six\"}, \"Viva Std Condensed\": {\"frequency\": 562, \"value\": \"Viva Std Condensed\"}, \"Sutro Shaded Gradient\": {\"frequency\": 640, \"value\": \"Sutro Shaded ...\"}, \"FF Typestar Pro\": {\"frequency\": 116, \"value\": \"FF Typestar Pro\"}, \"Adobe Text Pro\": {\"frequency\": 3589, \"value\": \"Adobe Text Pro\"}, \"Mayence Premium\": {\"frequency\": 4839, \"value\": \"Mayence Premium\"}, \"Pirulen\": {\"frequency\": 693, \"value\": \"Pirulen\"}, \"HWT Roman Extended Fat Face\": {\"frequency\": 346, \"value\": \"HWT Roman Extended ...\"}, \"Ambroise Std Francois \": {\"frequency\": 471, \"value\": \"Ambroise Std ...\"}, \"Skolar Web\": {\"frequency\": 2118, \"value\": \"Skolar Web\"}, \"Priori Sans\": {\"frequency\": 292, \"value\": \"Priori Sans\"}, \"Chaloops\": {\"frequency\": 674, \"value\": \"Chaloops\"}, \"Blockhead Unplugged\": {\"frequency\": 158, \"value\": \"Blockhead ...\"}, \"Stenciletta Left\": {\"frequency\": 285, \"value\": \"Stenciletta Left\"}, \"Drunk Cowboy\": {\"frequency\": 759, \"value\": \"Drunk Cowboy\"}, \"Baroque Text JF\": {\"frequency\": 387, \"value\": \"Baroque Text JF\"}, \"Platelet\": {\"frequency\": 254, \"value\": \"Platelet\"}, \"Hack\": {\"frequency\": 436, \"value\": \"Hack\"}, \"Minion Pro Condensed\": {\"frequency\": 840, \"value\": \"Minion Pro ...\"}, \"Boucherie Flared\": {\"frequency\": 145, \"value\": \"Boucherie Flared\"}, \"Council Word Logos\": {\"frequency\": 184, \"value\": \"Council Word Logos\"}, \"Triplex Serif \": {\"frequency\": 94, \"value\": \"Triplex Serif\"}, \"Deva Ideal\": {\"frequency\": 295, \"value\": \"Deva Ideal\"}, \"Adorn Smooth Pomander\": {\"frequency\": 593, \"value\": \"Adorn Smooth ...\"}, \"Walnut\": {\"frequency\": 193, \"value\": \"Walnut\"}, \"Scriptorama Tradeshow JF\": {\"frequency\": 970, \"value\": \"Scriptorama ...\"}, \"Luminance SC\": {\"frequency\": 380, \"value\": \"Luminance SC\"}, \"FF Nuvo SC Web Pro\": {\"frequency\": 1123, \"value\": \"FF Nuvo SC Web Pro\"}, \"Tribute\": {\"frequency\": 50, \"value\": \"Tribute\"}, \"Duality Sand\": {\"frequency\": 140, \"value\": \"Duality Sand\"}, \"FF Yoga Web\": {\"frequency\": 1, \"value\": \"FF Yoga Web\"}, \"Adrianna Extended Demibold\": {\"frequency\": 414, \"value\": \"Adrianna Extended ...\"}, \"Rotis Semi Serif\": {\"frequency\": 1, \"value\": \"Rotis Semi Serif\"}, \"Sanvito Pro Subhead\": {\"frequency\": 993, \"value\": \"Sanvito Pro ...\"}, \"Felt Tip Senior\": {\"frequency\": 2200, \"value\": \"Felt Tip Senior\"}, \"Proxima Nova Condensed\": {\"frequency\": 4326, \"value\": \"Proxima Nova ...\"}, \"FF Prater Block\": {\"frequency\": 964, \"value\": \"FF Prater Block\"}, \"FF Signa SC Web\": {\"frequency\": 1, \"value\": \"FF Signa SC Web\"}, \"Kinescope\": {\"frequency\": 4602, \"value\": \"Kinescope\"}, \"Ironwood Std\": {\"frequency\": 1323, \"value\": \"Ironwood Std\"}, \"Conceal\": {\"frequency\": 157, \"value\": \"Conceal\"}, \"Acier BAT Text Outline\": {\"frequency\": 565, \"value\": \"Acier BAT Text ...\"}, \"Xenara\": {\"frequency\": 546, \"value\": \"Xenara\"}, \"Colaborate\": {\"frequency\": 426, \"value\": \"Colaborate\"}, \"Shlop\": {\"frequency\": 459, \"value\": \"Shlop\"}, \"GE Inspira Sans\": {\"frequency\": 1, \"value\": \"GE Inspira Sans\"}, \"Lo-Res 22 Bold Oakland\": {\"frequency\": 55, \"value\": \"Lo-Res 22 Bold ...\"}, \"Garvis Pro\": {\"frequency\": 445, \"value\": \"Garvis Pro\"}, \"Niveau Grotesk Small Caps\": {\"frequency\": 341, \"value\": \"Niveau Grotesk ...\"}, \"JAF Bernino Sans Compressed\": {\"frequency\": 2026, \"value\": \"JAF Bernino Sans ...\"}, \"Sharktooth\": {\"frequency\": 1327, \"value\": \"Sharktooth\"}, \"Lo-Res 9 Plus Narrow\": {\"frequency\": 80, \"value\": \"Lo-Res 9 Plus ...\"}, \"Myriad Infant US Alt\": {\"frequency\": 1, \"value\": \"Myriad Infant US ...\"}, \"Totally Gothic\": {\"frequency\": 140, \"value\": \"Totally Gothic\"}, \"Komu B\": {\"frequency\": 456, \"value\": \"Komu B\"}, \"Komu A\": {\"frequency\": 388, \"value\": \"Komu A\"}, \"Runda\": {\"frequency\": 3021, \"value\": \"Runda\"}, \"NYT Cheltenham Small Caps Light\": {\"frequency\": 1, \"value\": \"NYT Cheltenham ...\"}, \"Boston Traffic\": {\"frequency\": 945, \"value\": \"Boston Traffic\"}, \"Filosofia Grand Basic Small Caps\": {\"frequency\": 86, \"value\": \"Filosofia Grand ...\"}, \"FF Max Web Pro\": {\"frequency\": 1, \"value\": \"FF Max Web Pro\"}, \"FF Good SC Web Wide\": {\"frequency\": 1, \"value\": \"FF Good SC Web ...\"}, \"Coronette\": {\"frequency\": 760, \"value\": \"Coronette\"}, \"Estilo Pro\": {\"frequency\": 3551, \"value\": \"Estilo Pro\"}, \"Blackoak Std\": {\"frequency\": 1246, \"value\": \"Blackoak Std\"}, \"Kulturista Web\": {\"frequency\": 1887, \"value\": \"Kulturista Web\"}, \"Droid Sans\": {\"frequency\": 1545, \"value\": \"Droid Sans\"}, \"ABChanel Couture Condensed\": {\"frequency\": 1, \"value\": \"ABChanel Couture ...\"}, \"Ostrich Sans Rounded\": {\"frequency\": 1, \"value\": \"Ostrich Sans ...\"}, \"Formata\": {\"frequency\": 1, \"value\": \"Formata\"}, \"FF Max SC Web Pro\": {\"frequency\": 1, \"value\": \"FF Max SC Web Pro\"}, \"Proxima Nova SC OSF\": {\"frequency\": 1673, \"value\": \"Proxima Nova SC ...\"}, \"Kozuka Gothic Pr6N\": {\"frequency\": 1222, \"value\": \"Kozuka Gothic Pr6N\"}, \"Coquette\": {\"frequency\": 8097, \"value\": \"Coquette\"}, \"Skolar Sans Latin Compressed\": {\"frequency\": 180, \"value\": \"Skolar Sans Latin ...\"}, \"Univia Pro\": {\"frequency\": 475, \"value\": \"Univia Pro\"}, \"Suburban \": {\"frequency\": 163, \"value\": \"Suburban\"}, \"Baskerville URW\": {\"frequency\": 710, \"value\": \"Baskerville URW\"}, \"JAF Domus Titling\": {\"frequency\": 5305, \"value\": \"JAF Domus Titling\"}, \"Antiquarian Scribe\": {\"frequency\": 638, \"value\": \"Antiquarian Scribe\"}, \"Zebrawood Std Fill\": {\"frequency\": 2537, \"value\": \"Zebrawood Std Fill\"}, \"Private Sans\": {\"frequency\": 489, \"value\": \"Private Sans\"}, \"VAG Rundschrift D\": {\"frequency\": 700, \"value\": \"VAG Rundschrift D\"}, \"Federico Web\": {\"frequency\": 1979, \"value\": \"Federico Web\"}, \"Sutro Deluxe Primary\": {\"frequency\": 1098, \"value\": \"Sutro Deluxe ...\"}, \"Metronic Slab Narrow\": {\"frequency\": 385, \"value\": \"Metronic Slab ...\"}, \"FF Franziska SC Web\": {\"frequency\": 1, \"value\": \"FF Franziska SC ...\"}, \"Stevie Sans\": {\"frequency\": 740, \"value\": \"Stevie Sans\"}, \"Utopia Std\": {\"frequency\": 2270, \"value\": \"Utopia Std\"}, \"Neue Display Ultra\": {\"frequency\": 1, \"value\": \"Neue Display Ultra\"}, \"Obliqua\": {\"frequency\": 165, \"value\": \"Obliqua\"}, \"Silkscreen\": {\"frequency\": 671, \"value\": \"Silkscreen\"}, \"Adobe Heiti Std\": {\"frequency\": 171, \"value\": \"Adobe Heiti Std\"}, \"BigSmalls Regular\": {\"frequency\": 287, \"value\": \"BigSmalls Regular\"}, \"Filosofia All Small Caps\": {\"frequency\": 70, \"value\": \"Filosofia All ...\"}, \"Kepler Std Extended\": {\"frequency\": 361, \"value\": \"Kepler Std ...\"}, \"Lint McCree\": {\"frequency\": 1463, \"value\": \"Lint McCree\"}, \"Madre Script\": {\"frequency\": 6524, \"value\": \"Madre Script\"}, \"District Pro\": {\"frequency\": 109, \"value\": \"District Pro\"}, \"Adonis\": {\"frequency\": 1519, \"value\": \"Adonis\"}, \"Pinot Grigio Modern\": {\"frequency\": 264, \"value\": \"Pinot Grigio ...\"}, \"Industry\": {\"frequency\": 2872, \"value\": \"Industry\"}, \"Brix Slab Condensed\": {\"frequency\": 36, \"value\": \"Brix Slab ...\"}, \"Elliotts Venus Dioxide\": {\"frequency\": 75, \"value\": \"Elliotts Venus ...\"}, \"Lexia Advertising\": {\"frequency\": 682, \"value\": \"Lexia Advertising\"}, \"Cardea\": {\"frequency\": 72, \"value\": \"Cardea\"}, \"Vendetta\": {\"frequency\": 196, \"value\": \"Vendetta\"}, \"Anzeigen Grotesk\": {\"frequency\": 395, \"value\": \"Anzeigen Grotesk\"}, \"Azuro Web\": {\"frequency\": 5, \"value\": \"Azuro Web\"}, \"Adobe Kaiti Std\": {\"frequency\": 55, \"value\": \"Adobe Kaiti Std\"}, \"League Script No. 1\": {\"frequency\": 4399, \"value\": \"League Script No. ...\"}, \"Mahalia\": {\"frequency\": 1199, \"value\": \"Mahalia\"}, \"Faricy New Web\": {\"frequency\": 2252, \"value\": \"Faricy New Web\"}, \"Magistral Condensed\": {\"frequency\": 367, \"value\": \"Magistral ...\"}, \"Minion Pro Condensed Subhead\": {\"frequency\": 793, \"value\": \"Minion Pro ...\"}, \"Catwing\": {\"frequency\": 311, \"value\": \"Catwing\"}, \"Maple\": {\"frequency\": 3, \"value\": \"Maple\"}, \"A-OTF Midashi Mi MA31 Pr6N\": {\"frequency\": 2087, \"value\": \"A-OTF Midashi Mi ...\"}, \"Serifa\": {\"frequency\": 1234, \"value\": \"Serifa\"}, \"Soleil\": {\"frequency\": 5237, \"value\": \"Soleil\"}, \"Fira Sans 2\": {\"frequency\": 14972, \"value\": \"Fira Sans 2\"}, \"Tondo\": {\"frequency\": 819, \"value\": \"Tondo\"}, \"Adobe Clean Serif\": {\"frequency\": 1, \"value\": \"Adobe Clean Serif\"}, \"Modula Round Sans\": {\"frequency\": 102, \"value\": \"Modula Round Sans\"}, \"Blakely\": {\"frequency\": 3977, \"value\": \"Blakely\"}, \"Presicav\": {\"frequency\": 302, \"value\": \"Presicav\"}, \"Adriane Text\": {\"frequency\": 3161, \"value\": \"Adriane Text\"}, \"FF Kievit Web Pro\": {\"frequency\": 2, \"value\": \"FF Kievit Web Pro\"}, \"Justus Pro\": {\"frequency\": 486, \"value\": \"Justus Pro\"}, \"Bad Dog\": {\"frequency\": 857, \"value\": \"Bad Dog\"}, \"Domyouji\": {\"frequency\": 168, \"value\": \"Domyouji\"}, \"Botanika Mono Web\": {\"frequency\": 210, \"value\": \"Botanika Mono Web\"}, \"FF Nuvo Pro\": {\"frequency\": 1404, \"value\": \"FF Nuvo Pro\"}, \"Buena Park JF\": {\"frequency\": 288, \"value\": \"Buena Park JF\"}, \"Baucher Gothic URW Alternates\": {\"frequency\": 514, \"value\": \"Baucher Gothic URW ...\"}, \"Bungee\": {\"frequency\": 1118, \"value\": \"Bungee\"}, \"FF Mach Wide Pro\": {\"frequency\": 459, \"value\": \"FF Mach Wide Pro\"}, \"Le Monde Livre Std\": {\"frequency\": 528, \"value\": \"Le Monde Livre Std\"}, \"Tenby Seven\": {\"frequency\": 907, \"value\": \"Tenby Seven\"}, \"FF Meta Web\": {\"frequency\": 2, \"value\": \"FF Meta Web\"}, \"Sutro Open Initials\": {\"frequency\": 370, \"value\": \"Sutro Open ...\"}, \"LFT Etica Condensed\": {\"frequency\": 260, \"value\": \"LFT Etica ...\"}, \"Source Han Sans Japanese\": {\"frequency\": 3571, \"value\": \"Source Han Sans ...\"}, \"Bell Centennial Std Sub-Caption\": {\"frequency\": 363, \"value\": \"Bell Centennial ...\"}, \"HWT American Solid\": {\"frequency\": 1085, \"value\": \"HWT American Solid\"}, \"Fragile Bombers\": {\"frequency\": 129, \"value\": \"Fragile Bombers\"}, \"Grueber\": {\"frequency\": 362, \"value\": \"Grueber\"}, \"Korolev Military Stencil\": {\"frequency\": 250, \"value\": \"Korolev Military ...\"}, \"URW Antiqua\": {\"frequency\": 439, \"value\": \"URW Antiqua\"}, \"Stenciletta Right\": {\"frequency\": 217, \"value\": \"Stenciletta Right\"}, \"Adobe Clean SemiLight\": {\"frequency\": 2, \"value\": \"Adobe Clean ...\"}, \"Neue Display\": {\"frequency\": 1, \"value\": \"Neue Display\"}, \"P22 FLLW Eaglefeather Informal\": {\"frequency\": 573, \"value\": \"P22 FLLW ...\"}, \"FF More Pro\": {\"frequency\": 1100, \"value\": \"FF More Pro\"}, \"Pill Gothic 600mg\": {\"frequency\": 237, \"value\": \"Pill Gothic 600mg\"}, \"Nasalization\": {\"frequency\": 1172, \"value\": \"Nasalization\"}, \"Chinese Rocks\": {\"frequency\": 320, \"value\": \"Chinese Rocks\"}, \"FF Suhmo Web SC\": {\"frequency\": 2, \"value\": \"FF Suhmo Web SC\"}, \"JAF Herb\": {\"frequency\": 1852, \"value\": \"JAF Herb\"}, \"Dustismo\": {\"frequency\": 458, \"value\": \"Dustismo\"}, \"Charlemagne Std\": {\"frequency\": 900, \"value\": \"Charlemagne Std\"}, \"Kelvingrove\": {\"frequency\": 170, \"value\": \"Kelvingrove\"}, \"Mono45 Headline\": {\"frequency\": 2716, \"value\": \"Mono45 Headline\"}, \"Gin\": {\"frequency\": 865, \"value\": \"Gin\"}, \"Chaparral Pro Subhead\": {\"frequency\": 320, \"value\": \"Chaparral Pro ...\"}, \"Acroterion JF\": {\"frequency\": 608, \"value\": \"Acroterion JF\"}, \"FF Info Text Pro\": {\"frequency\": 1, \"value\": \"FF Info Text Pro\"}, \"Tablet Gothic Wide\": {\"frequency\": 1523, \"value\": \"Tablet Gothic Wide\"}, \"Natalya Alternate One\": {\"frequency\": 1307, \"value\": \"Natalya Alternate ...\"}, \"Alphatier Pro\": {\"frequency\": 1196, \"value\": \"Alphatier Pro\"}, \"Great Primer Small Caps\": {\"frequency\": 756, \"value\": \"Great Primer Small ...\"}, \"Anonymous Pro\": {\"frequency\": 2383, \"value\": \"Anonymous Pro\"}, \"DIN Condensed\": {\"frequency\": 2145, \"value\": \"DIN Condensed\"}, \"JanaThork-Pro\": {\"frequency\": 441, \"value\": \"JanaThork-Pro\"}, \"Lipa Agate High Condensed\": {\"frequency\": 189, \"value\": \"Lipa Agate High ...\"}, \"Parisine Plus Std Sombre\": {\"frequency\": 198, \"value\": \"Parisine Plus Std ...\"}, \"Adobe Fan Heiti Std\": {\"frequency\": 193, \"value\": \"Adobe Fan Heiti ...\"}, \"Hobeaux Rococeaux Background\": {\"frequency\": 53, \"value\": \"Hobeaux Rococeaux ...\"}, \"Effra\": {\"frequency\": 4773, \"value\": \"Effra\"}, \"Bodedo\": {\"frequency\": 1719, \"value\": \"Bodedo\"}, \"Mic 32 New Web\": {\"frequency\": 1279, \"value\": \"Mic 32 New Web\"}, \"Dolly\": {\"frequency\": 1, \"value\": \"Dolly\"}, \"Garogier\": {\"frequency\": 630, \"value\": \"Garogier\"}, \"Sophisto\": {\"frequency\": 474, \"value\": \"Sophisto\"}, \"Trajan Sans Pro\": {\"frequency\": 4967, \"value\": \"Trajan Sans Pro\"}, \"Sutro Open Fill\": {\"frequency\": 174, \"value\": \"Sutro Open Fill\"}, \"Tenby Five\": {\"frequency\": 444, \"value\": \"Tenby Five\"}, \"Europa\": {\"frequency\": 5122, \"value\": \"Europa\"}, \"Cora\": {\"frequency\": 1320, \"value\": \"Cora\"}, \"Aragon\": {\"frequency\": 1041, \"value\": \"Aragon\"}, \"Droid Serif\": {\"frequency\": 2276, \"value\": \"Droid Serif\"}, \"HWT Roman Extended Light Face\": {\"frequency\": 434, \"value\": \"HWT Roman Extended ...\"}, \"Chandler 42 \": {\"frequency\": 707, \"value\": \"Chandler 42\"}, \"Stymie Drop Caps\": {\"frequency\": 314, \"value\": \"Stymie Drop Caps\"}, \"Blambot Casual\": {\"frequency\": 1392, \"value\": \"Blambot Casual\"}, \"FF Providence Sans Pro\": {\"frequency\": 915, \"value\": \"FF Providence Sans ...\"}, \"FF Franziska Web Pro\": {\"frequency\": 2, \"value\": \"FF Franziska Web ...\"}, \"Utopia Std Caption\": {\"frequency\": 519, \"value\": \"Utopia Std Caption\"}, \"Los Feliz\": {\"frequency\": 294, \"value\": \"Los Feliz\"}, \"Eidetic Neo Omni\": {\"frequency\": 87, \"value\": \"Eidetic Neo Omni\"}, \"HWT American Shopworn\": {\"frequency\": 2162, \"value\": \"HWT American ...\"}, \"French Clarendon Ornamented\": {\"frequency\": 1142, \"value\": \"French Clarendon ...\"}, \"PT Serif Caption\": {\"frequency\": 469, \"value\": \"PT Serif Caption\"}, \"Angie Sans Std\": {\"frequency\": 963, \"value\": \"Angie Sans Std\"}, \"Tarzana Narrow\": {\"frequency\": 55, \"value\": \"Tarzana Narrow\"}, \"Printf\": {\"frequency\": 236, \"value\": \"Printf\"}, \"Utopia Std Subhead\": {\"frequency\": 443, \"value\": \"Utopia Std Subhead\"}, \"HWT Geometric Condensed\": {\"frequency\": 500, \"value\": \"HWT Geometric ...\"}, \"Industry Inc Bevel\": {\"frequency\": 1470, \"value\": \"Industry Inc Bevel\"}, \"Adobe Naskh\": {\"frequency\": 52, \"value\": \"Adobe Naskh\"}, \"Arno Pro Display\": {\"frequency\": 445, \"value\": \"Arno Pro Display\"}, \"Cooper Black Std\": {\"frequency\": 4196, \"value\": \"Cooper Black Std\"}, \"Martini at Joe's\": {\"frequency\": 263, \"value\": \"Martini at Joe's\"}, \"Bickham Script Pro\": {\"frequency\": 5640, \"value\": \"Bickham Script Pro\"}, \"Freight Macro Pro\": {\"frequency\": 623, \"value\": \"Freight Macro Pro\"}, \"Barmeno\": {\"frequency\": 1, \"value\": \"Barmeno\"}, \"Purista Web\": {\"frequency\": 961, \"value\": \"Purista Web\"}, \"Logotypia Pro\": {\"frequency\": 127, \"value\": \"Logotypia Pro\"}, \"Cabazon\": {\"frequency\": 4716, \"value\": \"Cabazon\"}, \"Auto 2 Lining Figures\": {\"frequency\": 1, \"value\": \"Auto 2 Lining ...\"}, \"JAF Lapture\": {\"frequency\": 700, \"value\": \"JAF Lapture\"}, \"Natalya Alternate Two\": {\"frequency\": 903, \"value\": \"Natalya Alternate ...\"}, \"Myriad Infant UK Alt\": {\"frequency\": 1, \"value\": \"Myriad Infant UK ...\"}, \"Stern Pro\": {\"frequency\": 229, \"value\": \"Stern Pro\"}, \"A-OTF Gothic BBB Pr6N\": {\"frequency\": 2119, \"value\": \"A-OTF Gothic BBB ...\"}, \"Lo-Res 15 Narrow\": {\"frequency\": 57, \"value\": \"Lo-Res 15 Narrow\"}, \"Tondo Signage\": {\"frequency\": 1363, \"value\": \"Tondo Signage\"}, \"FF Speak Pro\": {\"frequency\": 1437, \"value\": \"FF Speak Pro\"}, \"Bell Centennial Std Bold Listing\": {\"frequency\": 554, \"value\": \"Bell Centennial ...\"}, \"Continuo\": {\"frequency\": 3242, \"value\": \"Continuo\"}, \"Jeanne Moderno Geometrique\": {\"frequency\": 546, \"value\": \"Jeanne Moderno ...\"}, \"A-OTF UD Shin Go Pr6N\": {\"frequency\": 2088, \"value\": \"A-OTF UD Shin Go ...\"}, \"M+ 1m \": {\"frequency\": 748, \"value\": \"M+ 1m\"}, \"Warnock Pro Display\": {\"frequency\": 226, \"value\": \"Warnock Pro ...\"}, \"Signo\": {\"frequency\": 1648, \"value\": \"Signo\"}, \"Anisette Std\": {\"frequency\": 191, \"value\": \"Anisette Std\"}, \"Discourse Middle Shadow\": {\"frequency\": 410, \"value\": \"Discourse Middle ...\"}, \"Neuzeit Grotesk Extra Condensed\": {\"frequency\": 287, \"value\": \"Neuzeit Grotesk ...\"}, \"Industry Inc In-N-Out\": {\"frequency\": 1244, \"value\": \"Industry Inc ...\"}, \"Ratio Modern SC\": {\"frequency\": 802, \"value\": \"Ratio Modern SC\"}, \"Memoriam Outline Pro\": {\"frequency\": 2066, \"value\": \"Memoriam Outline ...\"}, \"Dalliance Flourishes\": {\"frequency\": 343, \"value\": \"Dalliance ...\"}, \"Azo Sans Uber\": {\"frequency\": 6118, \"value\": \"Azo Sans Uber\"}, \"Garamond Premier Pro Subhead\": {\"frequency\": 903, \"value\": \"Garamond Premier ...\"}, \"FatFrank\": {\"frequency\": 3677, \"value\": \"FatFrank\"}, \"Acier BAT Text Strokes\": {\"frequency\": 250, \"value\": \"Acier BAT Text ...\"}, \"Milibus\": {\"frequency\": 115, \"value\": \"Milibus\"}, \"Nueva Std\": {\"frequency\": 1937, \"value\": \"Nueva Std\"}, \"FF Angie Pro\": {\"frequency\": 163, \"value\": \"FF Angie Pro\"}, \"A-OTF UD Shin Maru Go Pr6N\": {\"frequency\": 2002, \"value\": \"A-OTF UD Shin Maru ...\"}, \"Hellenic Wide JF\": {\"frequency\": 73, \"value\": \"Hellenic Wide JF\"}, \"FF Bau Web\": {\"frequency\": 3, \"value\": \"FF Bau Web\"}, \"Alternate Gothic No. 1 D\": {\"frequency\": 4864, \"value\": \"Alternate Gothic ...\"}, \"Snicker\": {\"frequency\": 1409, \"value\": \"Snicker\"}, \"InterFace\": {\"frequency\": 1473, \"value\": \"InterFace\"}, \"Acier BAT Text Solid\": {\"frequency\": 461, \"value\": \"Acier BAT Text ...\"}, \"Narly \": {\"frequency\": 55, \"value\": \"Narly\"}, \"Carta Marina\": {\"frequency\": 522, \"value\": \"Carta Marina\"}, \"Neuzon\": {\"frequency\": 292, \"value\": \"Neuzon\"}, \"Spartacus Condensed\": {\"frequency\": 69, \"value\": \"Spartacus ...\"}, \"Warnock Pro\": {\"frequency\": 891, \"value\": \"Warnock Pro\"}, \"JAF Lapture Subhead\": {\"frequency\": 195, \"value\": \"JAF Lapture ...\"}, \"Youngblood\": {\"frequency\": 1430, \"value\": \"Youngblood\"}, \"FF Amman Sans Pro\": {\"frequency\": 136, \"value\": \"FF Amman Sans Pro\"}, \"Friends Life Dagny\": {\"frequency\": 1, \"value\": \"Friends Life Dagny\"}, \"Vatican\": {\"frequency\": 569, \"value\": \"Vatican\"}, \"Hilde Sharp\": {\"frequency\": 609, \"value\": \"Hilde Sharp\"}, \"Tablet Gothic\": {\"frequency\": 1983, \"value\": \"Tablet Gothic\"}, \"JAF Bernino Sans\": {\"frequency\": 1436, \"value\": \"JAF Bernino Sans\"}, \"Industry Inc Outline\": {\"frequency\": 898, \"value\": \"Industry Inc ...\"}, \"Colt Soft\": {\"frequency\": 455, \"value\": \"Colt Soft\"}, \"FF Meta Pro Condensed\": {\"frequency\": 767, \"value\": \"FF Meta Pro ...\"}, \"Chunk\": {\"frequency\": 1017, \"value\": \"Chunk\"}, \"Swister\": {\"frequency\": 1480, \"value\": \"Swister\"}, \"Council\": {\"frequency\": 216, \"value\": \"Council\"}, \"P22 Underground Small Caps\": {\"frequency\": 619, \"value\": \"P22 Underground ...\"}, \"Adorn Smooth Engraved\": {\"frequency\": 328, \"value\": \"Adorn Smooth ...\"}, \"Report School\": {\"frequency\": 383, \"value\": \"Report School\"}, \"Corpulent Web\": {\"frequency\": 271, \"value\": \"Corpulent Web\"}, \"HWT American Stars\": {\"frequency\": 631, \"value\": \"HWT American Stars\"}, \"Arno Pro Subhead\": {\"frequency\": 176, \"value\": \"Arno Pro Subhead\"}, \"Cicle\": {\"frequency\": 1, \"value\": \"Cicle\"}, \"Clone Rounded Latin\": {\"frequency\": 369, \"value\": \"Clone Rounded ...\"}, \"FF Utility Pro\": {\"frequency\": 185, \"value\": \"FF Utility Pro\"}, \"Automate\": {\"frequency\": 609, \"value\": \"Automate\"}, \"Nimbus Sans Condensed\": {\"frequency\": 5466, \"value\": \"Nimbus Sans ...\"}, \"Lust Script Display\": {\"frequency\": 4338, \"value\": \"Lust Script ...\"}, \"Tinos\": {\"frequency\": 304, \"value\": \"Tinos\"}, \"Roycroft\": {\"frequency\": 1059, \"value\": \"Roycroft\"}, \"Matrix II Display Inline Extra Bold\": {\"frequency\": 347, \"value\": \"Matrix II Display ...\"}, \"Dogma Script\": {\"frequency\": 261, \"value\": \"Dogma Script\"}, \"Report\": {\"frequency\": 1828, \"value\": \"Report\"}, \"HWT Unit Gothic 722\": {\"frequency\": 694, \"value\": \"HWT Unit Gothic ...\"}, \"HWT Unit Gothic 721\": {\"frequency\": 632, \"value\": \"HWT Unit Gothic ...\"}, \"Skolar Latin\": {\"frequency\": 105, \"value\": \"Skolar Latin\"}, \"Kremlin Pro\": {\"frequency\": 2966, \"value\": \"Kremlin Pro\"}, \"Paralucent Stencil\": {\"frequency\": 530, \"value\": \"Paralucent Stencil\"}, \"Block\": {\"frequency\": 2, \"value\": \"Block\"}, \"Puritan\": {\"frequency\": 249, \"value\": \"Puritan\"}, \"Magion Web\": {\"frequency\": 475, \"value\": \"Magion Web\"}, \"Alpha Echo\": {\"frequency\": 1105, \"value\": \"Alpha Echo\"}, \"Tandelle \": {\"frequency\": 799, \"value\": \"Tandelle\"}, \"Subway Paris SC\": {\"frequency\": 381, \"value\": \"Subway Paris SC\"}, \"Moby Monospaced\": {\"frequency\": 633, \"value\": \"Moby Monospaced\"}, \"Program Narrow\": {\"frequency\": 198, \"value\": \"Program Narrow\"}, \"Lipa Agate Low\": {\"frequency\": 49, \"value\": \"Lipa Agate Low\"}, \"AW Conqueror Didot Light 96\": {\"frequency\": 1, \"value\": \"AW Conqueror Didot ...\"}, \"Eidetic Neo\": {\"frequency\": 45, \"value\": \"Eidetic Neo\"}, \"Minion Std Black\": {\"frequency\": 977, \"value\": \"Minion Std Black\"}, \"Clarendon Wide\": {\"frequency\": 531, \"value\": \"Clarendon Wide\"}, \"Lithos Pro\": {\"frequency\": 2555, \"value\": \"Lithos Pro\"}, \"NYT Cheltenham SH\": {\"frequency\": 1, \"value\": \"NYT Cheltenham SH\"}, \"Le Havre \": {\"frequency\": 1612, \"value\": \"Le Havre\"}, \"NYT Franklin Headline\": {\"frequency\": 1, \"value\": \"NYT Franklin ...\"}, \"Usurp\": {\"frequency\": 304, \"value\": \"Usurp\"}, \"GE Inspira\": {\"frequency\": 9, \"value\": \"GE Inspira\"}, \"Blenny\": {\"frequency\": 4601, \"value\": \"Blenny\"}, \"Exocet \": {\"frequency\": 96, \"value\": \"Exocet\"}, \"Sirba\": {\"frequency\": 655, \"value\": \"Sirba\"}, \"Open Sans Condensed\": {\"frequency\": 3470, \"value\": \"Open Sans ...\"}, \"Salsbury\": {\"frequency\": 1174, \"value\": \"Salsbury\"}, \"Cronos Pro Caption\": {\"frequency\": 511, \"value\": \"Cronos Pro Caption\"}, \"Quimby Gubernatorial\": {\"frequency\": 873, \"value\": \"Quimby ...\"}, \"Serenity\": {\"frequency\": 806, \"value\": \"Serenity\"}, \"Hypatia Sans Pro\": {\"frequency\": 3389, \"value\": \"Hypatia Sans Pro\"}, \"Spumante Regular plus Shadow\": {\"frequency\": 668, \"value\": \"Spumante Regular ...\"}, \"Base 9 Sans \": {\"frequency\": 125, \"value\": \"Base 9 Sans\"}, \"AsimovSans\": {\"frequency\": 123, \"value\": \"AsimovSans\"}, \"Base Mono Wide \": {\"frequency\": 171, \"value\": \"Base Mono Wide\"}, \"Cantiga\": {\"frequency\": 617, \"value\": \"Cantiga\"}, \"Archetype\": {\"frequency\": 240, \"value\": \"Archetype\"}, \"Modula Tall\": {\"frequency\": 55, \"value\": \"Modula Tall\"}, \"Cordale\": {\"frequency\": 345, \"value\": \"Cordale\"}, \"Carbon Phyber\": {\"frequency\": 364, \"value\": \"Carbon Phyber\"}, \"Discourse Wide\": {\"frequency\": 54, \"value\": \"Discourse Wide\"}, \"Egizio URW Condensed\": {\"frequency\": 63, \"value\": \"Egizio URW ...\"}, \"FF Scala Sans Web Condensed\": {\"frequency\": 2, \"value\": \"FF Scala Sans Web ...\"}, \"Sneakers Script Narrow\": {\"frequency\": 2025, \"value\": \"Sneakers Script ...\"}, \"Lato\": {\"frequency\": 5520, \"value\": \"Lato\"}, \"Copacabana\": {\"frequency\": 77, \"value\": \"Copacabana\"}, \"Klavika Display\": {\"frequency\": 2, \"value\": \"Klavika Display\"}, \"Proxima Nova Extra Condensed\": {\"frequency\": 4416, \"value\": \"Proxima Nova Extra ...\"}, \"Azote\": {\"frequency\": 1653, \"value\": \"Azote\"}, \"Double Pica Small Caps\": {\"frequency\": 425, \"value\": \"Double Pica Small ...\"}, \"FF Meta Serif Pro\": {\"frequency\": 5830, \"value\": \"FF Meta Serif Pro\"}, \"Neuzeit Grotesk\": {\"frequency\": 1815, \"value\": \"Neuzeit Grotesk\"}, \"Acumin Pro Wide\": {\"frequency\": 1832, \"value\": \"Acumin Pro Wide\"}, \"Dogma Extra Outline\": {\"frequency\": 490, \"value\": \"Dogma Extra ...\"}, \"Rue Display\": {\"frequency\": 72, \"value\": \"Rue Display\"}, \"Restore\": {\"frequency\": 840, \"value\": \"Restore\"}, \"HWT Republic Gothic Solid\": {\"frequency\": 442, \"value\": \"HWT Republic ...\"}, \"Capitol\": {\"frequency\": 440, \"value\": \"Capitol\"}, \"Share Tech\": {\"frequency\": 407, \"value\": \"Share Tech\"}, \"Orgovan Rounded Web\": {\"frequency\": 1840, \"value\": \"Orgovan Rounded ...\"}, \"Spark Stick-A-Round\": {\"frequency\": 1, \"value\": \"Spark ...\"}, \"Colfax\": {\"frequency\": 16, \"value\": \"Colfax\"}, \"Titling Gothic Skyline\": {\"frequency\": 1, \"value\": \"Titling Gothic ...\"}, \"Bello Pro\": {\"frequency\": 4320, \"value\": \"Bello Pro\"}, \"Brioso Pro Display\": {\"frequency\": 393, \"value\": \"Brioso Pro Display\"}, \"JAF Bernina Sans Condensed\": {\"frequency\": 1662, \"value\": \"JAF Bernina Sans ...\"}, \"Cantarell\": {\"frequency\": 401, \"value\": \"Cantarell\"}, \"NYT Cheltenham Extra Condensed Bold\": {\"frequency\": 1, \"value\": \"NYT Cheltenham ...\"}, \"Nueva Std Condensed\": {\"frequency\": 1943, \"value\": \"Nueva Std ...\"}, \"Chantal\": {\"frequency\": 492, \"value\": \"Chantal\"}, \"Eskorte Latin\": {\"frequency\": 174, \"value\": \"Eskorte Latin\"}, \"Courier Prime\": {\"frequency\": 2409, \"value\": \"Courier Prime\"}, \"Catseye Narrow\": {\"frequency\": 241, \"value\": \"Catseye Narrow\"}, \"FF Basic Gothic SC Web Pro\": {\"frequency\": 1092, \"value\": \"FF Basic Gothic SC ...\"}, \"Caflisch Script Pro\": {\"frequency\": 7422, \"value\": \"Caflisch Script ...\"}, \"Atrament Web LF\": {\"frequency\": 1, \"value\": \"Atrament Web LF\"}, \"Seravek Basic\": {\"frequency\": 3, \"value\": \"Seravek Basic\"}, \"Aurea Ultra\": {\"frequency\": 225, \"value\": \"Aurea Ultra\"}, \"Eurostile Condensed\": {\"frequency\": 489, \"value\": \"Eurostile ...\"}, \"Tekton Pro\": {\"frequency\": 5505, \"value\": \"Tekton Pro\"}, \"Dublin\": {\"frequency\": 96, \"value\": \"Dublin\"}, \"Zubilo Lined\": {\"frequency\": 603, \"value\": \"Zubilo Lined\"}, \"Pauline\": {\"frequency\": 865, \"value\": \"Pauline\"}, \"Legendum\": {\"frequency\": 303, \"value\": \"Legendum\"}, \"BD Colonius\": {\"frequency\": 985, \"value\": \"BD Colonius\"}, \"Triplex Sans \": {\"frequency\": 91, \"value\": \"Triplex Sans\"}, \"Industry Inc Base\": {\"frequency\": 1474, \"value\": \"Industry Inc Base\"}, \"Sneakers Script\": {\"frequency\": 1302, \"value\": \"Sneakers Script\"}, \"Arek Latin\": {\"frequency\": 213, \"value\": \"Arek Latin\"}, \"FF Netto Pro\": {\"frequency\": 2336, \"value\": \"FF Netto Pro\"}, \"Neue Display Wide\": {\"frequency\": 1, \"value\": \"Neue Display Wide\"}, \"Klavika Display Condensed\": {\"frequency\": 1, \"value\": \"Klavika Display ...\"}, \"Sneakers Script Ultra Wide\": {\"frequency\": 1026, \"value\": \"Sneakers Script ...\"}, \"Mason Serif\": {\"frequency\": 299, \"value\": \"Mason Serif\"}, \"Sutro Deluxe Fill\": {\"frequency\": 122, \"value\": \"Sutro Deluxe Fill\"}, \"P22 Underground Petite Caps\": {\"frequency\": 577, \"value\": \"P22 Underground ...\"}, \"FF Nuvo Mono Web\": {\"frequency\": 1, \"value\": \"FF Nuvo Mono Web\"}, \"Leitura News\": {\"frequency\": 1250, \"value\": \"Leitura News\"}, \"Chauncy Pro Regular\": {\"frequency\": 212, \"value\": \"Chauncy Pro ...\"}, \"Mislab Std Narrow\": {\"frequency\": 122, \"value\": \"Mislab Std Narrow\"}, \"Abril Titling Semicondensed\": {\"frequency\": 604, \"value\": \"Abril Titling ...\"}, \"Clarendon URW\": {\"frequency\": 750, \"value\": \"Clarendon URW\"}, \"Heisei Kaku Gothic StdN\": {\"frequency\": 1105, \"value\": \"Heisei Kaku Gothic ...\"}, \"English Small Caps\": {\"frequency\": 932, \"value\": \"English Small Caps\"}, \"Proxima Nova SC OSF Condensed\": {\"frequency\": 1135, \"value\": \"Proxima Nova SC ...\"}, \"DDT\": {\"frequency\": 184, \"value\": \"DDT\"}, \"Proxima Nova SC OSF Extra Condensed\": {\"frequency\": 1306, \"value\": \"Proxima Nova SC ...\"}, \"Basel Neue\": {\"frequency\": 693, \"value\": \"Basel Neue\"}, \"Myriad Std Tilt\": {\"frequency\": 3935, \"value\": \"Myriad Std Tilt\"}, \"Baltica Extra Condensed\": {\"frequency\": 387, \"value\": \"Baltica Extra ...\"}, \"Prociono\": {\"frequency\": 273, \"value\": \"Prociono\"}, \"BigSmalls Bold\": {\"frequency\": 306, \"value\": \"BigSmalls Bold\"}, \"Grecian Light Face\": {\"frequency\": 145, \"value\": \"Grecian Light Face\"}, \"Imperial URW\": {\"frequency\": 671, \"value\": \"Imperial URW\"}, \"Synthemesc\": {\"frequency\": 208, \"value\": \"Synthemesc\"}, \"Isonorm\": {\"frequency\": 399, \"value\": \"Isonorm\"}, \"Clarendon Wide Stencil\": {\"frequency\": 1201, \"value\": \"Clarendon Wide ...\"}, \"Dienstag\": {\"frequency\": 250, \"value\": \"Dienstag\"}, \"FF Enzo \": {\"frequency\": 10054, \"value\": \"FF Enzo\"}, \"Marydale\": {\"frequency\": 1481, \"value\": \"Marydale\"}, \"Copal Std Decorated\": {\"frequency\": 1512, \"value\": \"Copal Std ...\"}, \"Parkway Hotel\": {\"frequency\": 654, \"value\": \"Parkway Hotel\"}, \"Hooligan\": {\"frequency\": 567, \"value\": \"Hooligan\"}, \"Pragmatica\": {\"frequency\": 4632, \"value\": \"Pragmatica\"}, \"FF Bau Web Pro\": {\"frequency\": 2, \"value\": \"FF Bau Web Pro\"}, \"Reenie Beanie\": {\"frequency\": 2454, \"value\": \"Reenie Beanie\"}, \"Iwan Reschniev\": {\"frequency\": 237, \"value\": \"Iwan Reschniev\"}, \"Astoria Sans Condensed\": {\"frequency\": 47, \"value\": \"Astoria Sans ...\"}, \"Blow Up\": {\"frequency\": 262, \"value\": \"Blow Up\"}, \"Knorr Script\": {\"frequency\": 1, \"value\": \"Knorr Script\"}, \"LTC Globe Gothic\": {\"frequency\": 624, \"value\": \"LTC Globe Gothic\"}, \"Kepler Std Extended Caption\": {\"frequency\": 398, \"value\": \"Kepler Std ...\"}, \"Edding 780\": {\"frequency\": 994, \"value\": \"Edding 780\"}, \"Cronos Pro\": {\"frequency\": 3015, \"value\": \"Cronos Pro\"}, \"Ministry\": {\"frequency\": 275, \"value\": \"Ministry\"}, \"Giddyup Std\": {\"frequency\": 5264, \"value\": \"Giddyup Std\"}, \"Colt\": {\"frequency\": 269, \"value\": \"Colt\"}, \"Chippewa Falls\": {\"frequency\": 3115, \"value\": \"Chippewa Falls\"}, \"Prenton Condensed\": {\"frequency\": 643, \"value\": \"Prenton Condensed\"}, \"Crete Rounded\": {\"frequency\": 954, \"value\": \"Crete Rounded\"}, \"Sovba\": {\"frequency\": 1222, \"value\": \"Sovba\"}, \"Expo Sans Pro\": {\"frequency\": 3299, \"value\": \"Expo Sans Pro\"}, \"Ballers Delight\": {\"frequency\": 609, \"value\": \"Ballers Delight\"}, \"FF Kievit SC Web\": {\"frequency\": 4, \"value\": \"FF Kievit SC Web\"}, \"AW Conqueror Carved\": {\"frequency\": 2774, \"value\": \"AW Conqueror ...\"}, \"PT Serif\": {\"frequency\": 997, \"value\": \"PT Serif\"}, \"Myriad Pro SemiExtended\": {\"frequency\": 414, \"value\": \"Myriad Pro ...\"}, \"Expressway\": {\"frequency\": 324, \"value\": \"Expressway\"}, \"Bigfish\": {\"frequency\": 1839, \"value\": \"Bigfish\"}, \"FF Spinoza Pro\": {\"frequency\": 884, \"value\": \"FF Spinoza Pro\"}, \"Harfang Pro\": {\"frequency\": 136, \"value\": \"Harfang Pro\"}, \"Hobo Std\": {\"frequency\": 3177, \"value\": \"Hobo Std\"}, \"Dirtstorm\": {\"frequency\": 191, \"value\": \"Dirtstorm\"}, \"Lo-Res 9 Minus Wide\": {\"frequency\": 73, \"value\": \"Lo-Res 9 Minus ...\"}, \"Gyparody\": {\"frequency\": 284, \"value\": \"Gyparody\"}, \"FF Meta Serif Web\": {\"frequency\": 4, \"value\": \"FF Meta Serif Web\"}, \"Malaga Narrow\": {\"frequency\": 151, \"value\": \"Malaga Narrow\"}, \"Matt B\": {\"frequency\": 520, \"value\": \"Matt B\"}, \"Graveblade\": {\"frequency\": 360, \"value\": \"Graveblade\"}, \"Blockhead Dark Side\": {\"frequency\": 303, \"value\": \"Blockhead Dark ...\"}, \"Cosmopolitan\": {\"frequency\": 1261, \"value\": \"Cosmopolitan\"}, \"Grafolita Script\": {\"frequency\": 13310, \"value\": \"Grafolita Script\"}, \"P22 FLLW Eaglefeather\": {\"frequency\": 1440, \"value\": \"P22 FLLW ...\"}, \"Luminance\": {\"frequency\": 523, \"value\": \"Luminance\"}, \"Stymie SC\": {\"frequency\": 197, \"value\": \"Stymie SC\"}, \"Sui Generis\": {\"frequency\": 176, \"value\": \"Sui Generis\"}, \"Kepler Std Display\": {\"frequency\": 3461, \"value\": \"Kepler Std Display\"}, \"Copperplate Condensed\": {\"frequency\": 259, \"value\": \"Copperplate ...\"}, \"Hydrophilia Iced\": {\"frequency\": 963, \"value\": \"Hydrophilia Iced\"}, \"Avebury Black\": {\"frequency\": 342, \"value\": \"Avebury Black\"}, \"Korolev Condensed\": {\"frequency\": 607, \"value\": \"Korolev Condensed\"}, \"Double Pica\": {\"frequency\": 506, \"value\": \"Double Pica\"}, \"Arvo\": {\"frequency\": 1022, \"value\": \"Arvo\"}, \"P22 FLLW Eaglefeather Small Caps\": {\"frequency\": 883, \"value\": \"P22 FLLW ...\"}, \"BattleStation\": {\"frequency\": 268, \"value\": \"BattleStation\"}, \"Modesto Condensed\": {\"frequency\": 1368, \"value\": \"Modesto Condensed\"}, \"Roboto Mono\": {\"frequency\": 261, \"value\": \"Roboto Mono\"}, \"Rooney Web\": {\"frequency\": 2583, \"value\": \"Rooney Web\"}, \"Bourbon\": {\"frequency\": 823, \"value\": \"Bourbon\"}, \"Oscine\": {\"frequency\": 465, \"value\": \"Oscine\"}, \"AW Conqueror Carved Three\": {\"frequency\": 614, \"value\": \"AW Conqueror ...\"}, \"Larabiefont\": {\"frequency\": 1142, \"value\": \"Larabiefont\"}, \"FF Karbid Pro\": {\"frequency\": 173, \"value\": \"FF Karbid Pro\"}, \"Octin Vintage\": {\"frequency\": 282, \"value\": \"Octin Vintage\"}, \"Sutro Shaded HiLite\": {\"frequency\": 265, \"value\": \"Sutro Shaded ...\"}, \"Hobeaux Rococeaux Sherman\": {\"frequency\": 30, \"value\": \"Hobeaux Rococeaux ...\"}, \"Bernhard Gothic URW\": {\"frequency\": 1016, \"value\": \"Bernhard Gothic ...\"}, \"Sutro Shaded Fill \": {\"frequency\": 190, \"value\": \"Sutro Shaded Fill\"}, \"Source Sans Pro\": {\"frequency\": 9828, \"value\": \"Source Sans Pro\"}, \"Silicone \": {\"frequency\": 396, \"value\": \"Silicone\"}, \"Teeshirt\": {\"frequency\": 639, \"value\": \"Teeshirt\"}, \"Bligh\": {\"frequency\": 274, \"value\": \"Bligh\"}, \"Madawaska\": {\"frequency\": 266, \"value\": \"Madawaska\"}, \"Plume Advertising\": {\"frequency\": 555, \"value\": \"Plume Advertising\"}, \"Goldenbook\": {\"frequency\": 1323, \"value\": \"Goldenbook\"}, \"Catnip\": {\"frequency\": 583, \"value\": \"Catnip\"}, \"BDR A3MIK\": {\"frequency\": 142, \"value\": \"BDR A3MIK\"}, \"Lipa Agate Low Condensed\": {\"frequency\": 50, \"value\": \"Lipa Agate Low ...\"}, \"Paganini Open\": {\"frequency\": 1873, \"value\": \"Paganini Open\"}, \"Gloriola Display Black Web\": {\"frequency\": 1, \"value\": \"Gloriola Display ...\"}, \"Mallory\": {\"frequency\": 2, \"value\": \"Mallory\"}, \"Alize\": {\"frequency\": 1651, \"value\": \"Alize\"}, \"Classic Comic\": {\"frequency\": 898, \"value\": \"Classic Comic\"}, \"Kepler Std Subhead\": {\"frequency\": 408, \"value\": \"Kepler Std Subhead\"}, \"Blackcurrant\": {\"frequency\": 219, \"value\": \"Blackcurrant\"}, \"Parisine Office Std\": {\"frequency\": 108, \"value\": \"Parisine Office ...\"}, \"FF Chambers Sans Web\": {\"frequency\": 615, \"value\": \"FF Chambers Sans ...\"}, \"Filosofia Grand All Small Caps\": {\"frequency\": 64, \"value\": \"Filosofia Grand ...\"}, \"FF Tartine Script Web\": {\"frequency\": 1, \"value\": \"FF Tartine Script ...\"}, \"Raleway\": {\"frequency\": 11099, \"value\": \"Raleway\"}, \"Alta California\": {\"frequency\": 392, \"value\": \"Alta California\"}, \"FF Scala Web\": {\"frequency\": 7, \"value\": \"FF Scala Web\"}, \"Rift Soft\": {\"frequency\": 412, \"value\": \"Rift Soft\"}, \"Concave Tuscan\": {\"frequency\": 431, \"value\": \"Concave Tuscan\"}, \"HWT Unit gothic 720\": {\"frequency\": 490, \"value\": \"HWT Unit gothic ...\"}, \"Strumpf Std Open\": {\"frequency\": 2783, \"value\": \"Strumpf Std Open\"}, \"Matrix II Ext Wide\": {\"frequency\": 46, \"value\": \"Matrix II Ext Wide\"}, \"Titling Gothic Condensed\": {\"frequency\": 1, \"value\": \"Titling Gothic ...\"}, \"Narly Outline\": {\"frequency\": 96, \"value\": \"Narly Outline\"}, \"LTC Bodoni 175\": {\"frequency\": 3721, \"value\": \"LTC Bodoni 175\"}, \"Fairplex Narrow \": {\"frequency\": 191, \"value\": \"Fairplex Narrow\"}, \"Source Code Pro\": {\"frequency\": 5202, \"value\": \"Source Code Pro\"}, \"Rowdy\": {\"frequency\": 363, \"value\": \"Rowdy\"}, \"Mentone\": {\"frequency\": 147, \"value\": \"Mentone\"}, \"Abolition\": {\"frequency\": 999, \"value\": \"Abolition\"}, \"JAF Peacock Alternate\": {\"frequency\": 261, \"value\": \"JAF Peacock ...\"}, \"Ottomat\": {\"frequency\": 89, \"value\": \"Ottomat\"}, \"Sutro Shaded Hatching\": {\"frequency\": 598, \"value\": \"Sutro Shaded ...\"}, \"Kazuraki SP2N\": {\"frequency\": 1534, \"value\": \"Kazuraki SP2N\"}, \"Bryant Alternate\": {\"frequency\": 7, \"value\": \"Bryant Alternate\"}, \"Bentwood\": {\"frequency\": 1, \"value\": \"Bentwood\"}, \"Cronos Pro Display\": {\"frequency\": 891, \"value\": \"Cronos Pro Display\"}, \"Solex \": {\"frequency\": 111, \"value\": \"Solex\"}, \"Hill House\": {\"frequency\": 1547, \"value\": \"Hill House\"}, \"Fairway\": {\"frequency\": 40, \"value\": \"Fairway\"}, \"Ligurino\": {\"frequency\": 255, \"value\": \"Ligurino\"}, \"Liberation Sans\": {\"frequency\": 531, \"value\": \"Liberation Sans\"}, \"Sutro \": {\"frequency\": 294, \"value\": \"Sutro\"}, \"A-OTF Futo Go B101 Pr6N\": {\"frequency\": 2172, \"value\": \"A-OTF Futo Go B101 ...\"}, \"FF Ernestine Pro\": {\"frequency\": 1389, \"value\": \"FF Ernestine Pro\"}, \"Arimo\": {\"frequency\": 500, \"value\": \"Arimo\"}, \"Kyrial Sans Condensed Pro\": {\"frequency\": 318, \"value\": \"Kyrial Sans ...\"}, \"Bouffant\": {\"frequency\": 914, \"value\": \"Bouffant\"}, \"Baucher Gothic URW Extended\": {\"frequency\": 469, \"value\": \"Baucher Gothic URW ...\"}, \"JAF Johannes\": {\"frequency\": 25, \"value\": \"JAF Johannes\"}, \"Steinzeit Fill In\": {\"frequency\": 725, \"value\": \"Steinzeit Fill In\"}, \"Subway Paris STD\": {\"frequency\": 230, \"value\": \"Subway Paris STD\"}, \"Backspacer Round\": {\"frequency\": 225, \"value\": \"Backspacer Round\"}, \"Zubilo Black\": {\"frequency\": 368, \"value\": \"Zubilo Black\"}, \"FF Ginger Pro\": {\"frequency\": 240, \"value\": \"FF Ginger Pro\"}, \"Kepler Std Semicondensed Caption\": {\"frequency\": 501, \"value\": \"Kepler Std ...\"}, \"Apolline Std SC\": {\"frequency\": 447, \"value\": \"Apolline Std SC\"}, \"Nimbus Roman\": {\"frequency\": 334, \"value\": \"Nimbus Roman\"}, \"John Doe\": {\"frequency\": 3194, \"value\": \"John Doe\"}, \"Moby\": {\"frequency\": 462, \"value\": \"Moby\"}, \"Balzano Std\": {\"frequency\": 2425, \"value\": \"Balzano Std\"}, \"FF Unit Slab Web Pro\": {\"frequency\": 1, \"value\": \"FF Unit Slab Web ...\"}, \"Meloche\": {\"frequency\": 83, \"value\": \"Meloche\"}, \"A-OTF UD Reimin Pr6N\": {\"frequency\": 1911, \"value\": \"A-OTF UD Reimin ...\"}, \"FF Amman Sans SC Web\": {\"frequency\": 2, \"value\": \"FF Amman Sans SC ...\"}, \"Ingra Wide 2\": {\"frequency\": 482, \"value\": \"Ingra Wide 2\"}, \"FF Dax Pro Wide\": {\"frequency\": 335, \"value\": \"FF Dax Pro Wide\"}, \"Modesto Open Inline Fill\": {\"frequency\": 873, \"value\": \"Modesto Open ...\"}, \"Hotel Open\": {\"frequency\": 4167, \"value\": \"Hotel Open\"}, \"Minion Pro Subhead\": {\"frequency\": 230, \"value\": \"Minion Pro Subhead\"}, \"FF Trixie Web\": {\"frequency\": 1, \"value\": \"FF Trixie Web\"}, \"Alegreya SC\": {\"frequency\": 769, \"value\": \"Alegreya SC\"}, \"Lo-Res 9 Plus Wide Bold Alt\": {\"frequency\": 108, \"value\": \"Lo-Res 9 Plus Wide ...\"}, \"Source Serif Pro\": {\"frequency\": 2452, \"value\": \"Source Serif Pro\"}, \"Grandma\": {\"frequency\": 1098, \"value\": \"Grandma\"}, \"Modesto Initials Inline\": {\"frequency\": 444, \"value\": \"Modesto Initials ...\"}, \"Metalista Web\": {\"frequency\": 1881, \"value\": \"Metalista Web\"}, \"Boucherie Block\": {\"frequency\": 573, \"value\": \"Boucherie Block\"}, \"Goudy Old Style\": {\"frequency\": 480, \"value\": \"Goudy Old Style\"}, \"Recherche\": {\"frequency\": 571, \"value\": \"Recherche\"}, \"Alexa Std\": {\"frequency\": 6612, \"value\": \"Alexa Std\"}, \"FF Unit Web Pro\": {\"frequency\": 1, \"value\": \"FF Unit Web Pro\"}, \"Mingler\": {\"frequency\": 268, \"value\": \"Mingler\"}, \"Acumin Pro Extra Condensed\": {\"frequency\": 3430, \"value\": \"Acumin Pro Extra ...\"}, \"Ligurino Condensed\": {\"frequency\": 206, \"value\": \"Ligurino Condensed\"}, \"Adelle Condensed\": {\"frequency\": 1224, \"value\": \"Adelle Condensed\"}, \"Kan415Typos Std\": {\"frequency\": 1829, \"value\": \"Kan415Typos Std\"}, \"Tachyon\": {\"frequency\": 1183, \"value\": \"Tachyon\"}, \"Neuropol Nova\": {\"frequency\": 2144, \"value\": \"Neuropol Nova\"}, \"Lust Script\": {\"frequency\": 11912, \"value\": \"Lust Script\"}, \"Proxima Nova Soft\": {\"frequency\": 7563, \"value\": \"Proxima Nova Soft\"}, \"FF Providence Pro\": {\"frequency\": 733, \"value\": \"FF Providence Pro\"}, \"Annabelle JF\": {\"frequency\": 996, \"value\": \"Annabelle JF\"}, \"Crete\": {\"frequency\": 600, \"value\": \"Crete\"}, \"Embryo Open\": {\"frequency\": 145, \"value\": \"Embryo Open\"}, \"FF Tisa Sans Web\": {\"frequency\": 1, \"value\": \"FF Tisa Sans Web\"}, \"Parisine Std\": {\"frequency\": 255, \"value\": \"Parisine Std\"}, \"Adelle\": {\"frequency\": 15539, \"value\": \"Adelle\"}, \"Bolivar\": {\"frequency\": 1, \"value\": \"Bolivar\"}, \"Crimson\": {\"frequency\": 497, \"value\": \"Crimson\"}, \"Ratio\": {\"frequency\": 3010, \"value\": \"Ratio\"}, \"Bistro Script Web \": {\"frequency\": 2322, \"value\": \"Bistro Script Web\"}, \"Open Sans\": {\"frequency\": 6041, \"value\": \"Open Sans\"}, \"FF Milo Web Pro\": {\"frequency\": 1, \"value\": \"FF Milo Web Pro\"}, \"Retiro Std 96pt\": {\"frequency\": 298, \"value\": \"Retiro Std 96pt\"}, \"Astoria Sans\": {\"frequency\": 60, \"value\": \"Astoria Sans\"}, \"Myriad Hebrew\": {\"frequency\": 75, \"value\": \"Myriad Hebrew\"}, \"Akzidenz-Grotesk  Condensed\": {\"frequency\": 10, \"value\": \"Akzidenz-Grotesk ...\"}, \"Ardoise Std\": {\"frequency\": 127, \"value\": \"Ardoise Std\"}, \"Abril Display\": {\"frequency\": 2530, \"value\": \"Abril Display\"}, \"Legitima\": {\"frequency\": 416, \"value\": \"Legitima\"}, \"CamingoDos Web\": {\"frequency\": 1117, \"value\": \"CamingoDos Web\"}, \"HWT Geometric Shopworn Inked\": {\"frequency\": 659, \"value\": \"HWT Geometric ...\"}, \"Flyswim\": {\"frequency\": 506, \"value\": \"Flyswim\"}, \"Kepler Std Extended Display\": {\"frequency\": 966, \"value\": \"Kepler Std ...\"}, \"Nobile\": {\"frequency\": 294, \"value\": \"Nobile\"}, \"Dirty Bakers Dozen\": {\"frequency\": 80, \"value\": \"Dirty Bakers Dozen\"}, \"Embryo\": {\"frequency\": 114, \"value\": \"Embryo\"}, \"Alwyn New Web\": {\"frequency\": 858, \"value\": \"Alwyn New Web\"}, \"Lo-Res 22 Narrow\": {\"frequency\": 28, \"value\": \"Lo-Res 22 Narrow\"}, \"Delve Hand\": {\"frequency\": 1480, \"value\": \"Delve Hand\"}, \"Wayfinding Sans Extended\": {\"frequency\": 123, \"value\": \"Wayfinding Sans ...\"}, \"Adobe Jenson Pro\": {\"frequency\": 1307, \"value\": \"Adobe Jenson Pro\"}, \"LTC Broadway\": {\"frequency\": 535, \"value\": \"LTC Broadway\"}, \"NYT Cheltenham Condensed Bold\": {\"frequency\": 1, \"value\": \"NYT Cheltenham ...\"}, \"Eskapade\": {\"frequency\": 1118, \"value\": \"Eskapade\"}, \"Petersburg Web\": {\"frequency\": 356, \"value\": \"Petersburg Web\"}, \"Lo-Res 15 \": {\"frequency\": 37, \"value\": \"Lo-Res 15\"}, \"Balloon URW Drop Shadow\": {\"frequency\": 1268, \"value\": \"Balloon URW Drop ...\"}, \"Luxi Sans\": {\"frequency\": 275, \"value\": \"Luxi Sans\"}, \"Catseye\": {\"frequency\": 289, \"value\": \"Catseye\"}, \"Letter Gothic Std\": {\"frequency\": 3054, \"value\": \"Letter Gothic Std\"}, \"FF Quadraat Web Pro\": {\"frequency\": 2, \"value\": \"FF Quadraat Web ...\"}, \"Quatro\": {\"frequency\": 1981, \"value\": \"Quatro\"}, \"FF Quadraat Sans Web\": {\"frequency\": 2, \"value\": \"FF Quadraat Sans ...\"}, \"Antiquarian\": {\"frequency\": 397, \"value\": \"Antiquarian\"}, \"Ardoise Std Narrow\": {\"frequency\": 81, \"value\": \"Ardoise Std Narrow\"}, \"NYT Franklin (110413)\": {\"frequency\": 1, \"value\": \"NYT Franklin ...\"}, \"FF Karbid Slab Pro\": {\"frequency\": 292, \"value\": \"FF Karbid Slab Pro\"}, \"Fragile Bombers Attack\": {\"frequency\": 453, \"value\": \"Fragile Bombers ...\"}, \"FF Scala Web SC\": {\"frequency\": 3, \"value\": \"FF Scala Web SC\"}, \"Anago\": {\"frequency\": 1209, \"value\": \"Anago\"}, \"Gibson\": {\"frequency\": 2488, \"value\": \"Gibson\"}, \"French Roast\": {\"frequency\": 624, \"value\": \"French Roast\"}, \"Sofia Pro Soft\": {\"frequency\": 1651, \"value\": \"Sofia Pro Soft\"}, \"GE Inspira SC\": {\"frequency\": 2, \"value\": \"GE Inspira SC\"}, \"Motor\": {\"frequency\": 858, \"value\": \"Motor\"}, \"Litania\": {\"frequency\": 1378, \"value\": \"Litania\"}, \"Rogue Serif\": {\"frequency\": 163, \"value\": \"Rogue Serif\"}, \"Spark Wanderlust Shine\": {\"frequency\": 1, \"value\": \"Spark Wanderlust ...\"}, \"Stratum 1\": {\"frequency\": 6, \"value\": \"Stratum 1\"}, \"Stratum 2\": {\"frequency\": 6, \"value\": \"Stratum 2\"}, \"Subway New York STD\": {\"frequency\": 571, \"value\": \"Subway New York ...\"}, \"Prenton Ultra Condensed\": {\"frequency\": 1570, \"value\": \"Prenton Ultra ...\"}, \"HWT Slab Antique\": {\"frequency\": 598, \"value\": \"HWT Slab Antique\"}, \"Mic 32 New Rounded Web\": {\"frequency\": 1224, \"value\": \"Mic 32 New Rounded ...\"}, \"Minion Pro Condensed Display\": {\"frequency\": 296, \"value\": \"Minion Pro ...\"}, \"FF Sanuk Web Pro\": {\"frequency\": 1, \"value\": \"FF Sanuk Web Pro\"}, \"Alverata Irregular PE\": {\"frequency\": 1576, \"value\": \"Alverata Irregular ...\"}, \"Bookman\": {\"frequency\": 276, \"value\": \"Bookman\"}, \"FF Info Text SC Web Pro\": {\"frequency\": 1, \"value\": \"FF Info Text SC ...\"}, \"Eigerdals\": {\"frequency\": 269, \"value\": \"Eigerdals\"}, \"Totally Glyphic \": {\"frequency\": 121, \"value\": \"Totally Glyphic\"}, \"Akzidenz-Grotesk Next\": {\"frequency\": 2, \"value\": \"Akzidenz-Grotesk ...\"}, \"Matrix II Display Inline Italic\": {\"frequency\": 344, \"value\": \"Matrix II Display ...\"}, \"Amador\": {\"frequency\": 396, \"value\": \"Amador\"}, \"FF Strada SC Web\": {\"frequency\": 1, \"value\": \"FF Strada SC Web\"}, \"Kepler Std Semicondensed\": {\"frequency\": 2023, \"value\": \"Kepler Std ...\"}, \"HWT Unit Gothic 716\": {\"frequency\": 351, \"value\": \"HWT Unit Gothic ...\"}, \"HWT Unit Gothic 717\": {\"frequency\": 303, \"value\": \"HWT Unit Gothic ...\"}, \"Aviano Sans\": {\"frequency\": 752, \"value\": \"Aviano Sans\"}, \"Anca\": {\"frequency\": 236, \"value\": \"Anca\"}, \"Chuck\": {\"frequency\": 184, \"value\": \"Chuck\"}, \"HWT Unit Gothic 718\": {\"frequency\": 364, \"value\": \"HWT Unit Gothic ...\"}, \"HWT Unit Gothic 719\": {\"frequency\": 496, \"value\": \"HWT Unit Gothic ...\"}, \"FF Brokenscript Web Condensed\": {\"frequency\": 509, \"value\": \"FF Brokenscript ...\"}, \"Fenway Park JF\": {\"frequency\": 445, \"value\": \"Fenway Park JF\"}, \"Eurostile Extended\": {\"frequency\": 826, \"value\": \"Eurostile Extended\"}, \"Spumante Shadow\": {\"frequency\": 160, \"value\": \"Spumante Shadow\"}, \"Kegger\": {\"frequency\": 213, \"value\": \"Kegger\"}, \"Museo Sans Display\": {\"frequency\": 1687, \"value\": \"Museo Sans Display\"}, \"Heisei Mincho Std\": {\"frequency\": 1335, \"value\": \"Heisei Mincho Std\"}, \"Filosofia Grand \": {\"frequency\": 130, \"value\": \"Filosofia Grand\"}, \"Abolition Soft\": {\"frequency\": 826, \"value\": \"Abolition Soft\"}, \"Arno Pro Small Text\": {\"frequency\": 214, \"value\": \"Arno Pro Small ...\"}, \"Clarendon URW Extra Narrow\": {\"frequency\": 114, \"value\": \"Clarendon URW ...\"}, \"Rosewood Std Fill\": {\"frequency\": 2478, \"value\": \"Rosewood Std Fill\"}, \"Tamarillo\": {\"frequency\": 3149, \"value\": \"Tamarillo\"}, \"Good Times Bad Times\": {\"frequency\": 480, \"value\": \"Good Times Bad ...\"}, \"Scheme\": {\"frequency\": 591, \"value\": \"Scheme\"}, \"Bell Centennial Std Address\": {\"frequency\": 440, \"value\": \"Bell Centennial ...\"}, \"Dirty Bakers Dozen Spraypaint\": {\"frequency\": 363, \"value\": \"Dirty Bakers Dozen ...\"}, \"Cholla Unicase\": {\"frequency\": 86, \"value\": \"Cholla Unicase\"}, \"Bookmania\": {\"frequency\": 2218, \"value\": \"Bookmania\"}, \"Krete\": {\"frequency\": 194, \"value\": \"Krete\"}, \"Tamarillo JF\": {\"frequency\": 607, \"value\": \"Tamarillo JF\"}, \"Leander Script Pro\": {\"frequency\": 2163, \"value\": \"Leander Script Pro\"}, \"FF Strada Web\": {\"frequency\": 1, \"value\": \"FF Strada Web\"}, \"Oxtail\": {\"frequency\": 1348, \"value\": \"Oxtail\"}, \"PT Sans\": {\"frequency\": 4264, \"value\": \"PT Sans\"}, \"LTC Broadway Engraved\": {\"frequency\": 664, \"value\": \"LTC Broadway ...\"}, \"saxMono\": {\"frequency\": 1008, \"value\": \"saxMono\"}, \"Vista Sans Narrow\": {\"frequency\": 66, \"value\": \"Vista Sans Narrow\"}, \"Usual\": {\"frequency\": 1437, \"value\": \"Usual\"}, \"P22 Franklin Caslon\": {\"frequency\": 1621, \"value\": \"P22 Franklin ...\"}, \"Freight Neo Pro\": {\"frequency\": 1103, \"value\": \"Freight Neo Pro\"}, \"Allumi Std Extended\": {\"frequency\": 545, \"value\": \"Allumi Std ...\"}, \"TBNPGothic Std\": {\"frequency\": 1085, \"value\": \"TBNPGothic Std\"}, \"Discourse Middle Outline\": {\"frequency\": 348, \"value\": \"Discourse Middle ...\"}, \"FF Tisa Web\": {\"frequency\": 2, \"value\": \"FF Tisa Web\"}, \"Clavo\": {\"frequency\": 3792, \"value\": \"Clavo\"}, \"Mr Eaves XL Sans Narrow \": {\"frequency\": 342, \"value\": \"Mr Eaves XL Sans ...\"}, \"FF Ernestine Web\": {\"frequency\": 1, \"value\": \"FF Ernestine Web\"}, \"Gnuolane\": {\"frequency\": 362, \"value\": \"Gnuolane\"}, \"Le Monde Sans Std\": {\"frequency\": 467, \"value\": \"Le Monde Sans Std\"}, \"English Grotesque\": {\"frequency\": 273, \"value\": \"English Grotesque\"}, \"Liquorstore\": {\"frequency\": 772, \"value\": \"Liquorstore\"}, \"Superclarendon \": {\"frequency\": 543, \"value\": \"Superclarendon\"}, \"Tangerine\": {\"frequency\": 4490, \"value\": \"Tangerine\"}, \"HWT Gothic Round\": {\"frequency\": 1147, \"value\": \"HWT Gothic Round\"}, \"Abril Titling Condensed\": {\"frequency\": 581, \"value\": \"Abril Titling ...\"}, \"FF Scala Sans Web\": {\"frequency\": 13, \"value\": \"FF Scala Sans Web\"}, \"FF Scala Sans Web Pro\": {\"frequency\": 5, \"value\": \"FF Scala Sans Web ...\"}, \"Paralucent Condensed\": {\"frequency\": 699, \"value\": \"Paralucent ...\"}, \"Harvester\": {\"frequency\": 440, \"value\": \"Harvester\"}, \"Maryam Regular\": {\"frequency\": 1027, \"value\": \"Maryam Regular\"}, \"Blockhead Black Face\": {\"frequency\": 330, \"value\": \"Blockhead Black ...\"}, \"Viktor Script\": {\"frequency\": 605, \"value\": \"Viktor Script\"}, \"Jeanne Moderno\": {\"frequency\": 358, \"value\": \"Jeanne Moderno\"}, \"Transmute\": {\"frequency\": 62, \"value\": \"Transmute\"}, \"Rogue Sans Condensed\": {\"frequency\": 110, \"value\": \"Rogue Sans ...\"}, \"Clarendon URW Extra Wide\": {\"frequency\": 103, \"value\": \"Clarendon URW ...\"}, \"Wayfinding Sans\": {\"frequency\": 149, \"value\": \"Wayfinding Sans\"}, \"Mrs Eaves \": {\"frequency\": 1139, \"value\": \"Mrs Eaves\"}, \"Tribute Ornaments\": {\"frequency\": 56, \"value\": \"Tribute Ornaments\"}, \"FF Masala Web Pro\": {\"frequency\": 1, \"value\": \"FF Masala Web Pro\"}, \"BD Plakatbau\": {\"frequency\": 688, \"value\": \"BD Plakatbau\"}, \"Modula Sans\": {\"frequency\": 112, \"value\": \"Modula Sans\"}, \"Tacitus Pro\": {\"frequency\": 1869, \"value\": \"Tacitus Pro\"}, \"Adrianna Condensed\": {\"frequency\": 256, \"value\": \"Adrianna Condensed\"}, \"Sommet Slab Titling Caps\": {\"frequency\": 193, \"value\": \"Sommet Slab ...\"}, \"Base Mono Narrow \": {\"frequency\": 103, \"value\": \"Base Mono Narrow\"}, \"ARS Maquette Web\": {\"frequency\": 36, \"value\": \"ARS Maquette Web\"}, \"Funkydori\": {\"frequency\": 520, \"value\": \"Funkydori\"}, \"Junction\": {\"frequency\": 355, \"value\": \"Junction\"}, \"Kremlin Pro Semi Expanded\": {\"frequency\": 1079, \"value\": \"Kremlin Pro Semi ...\"}, \"Minerva Modern\": {\"frequency\": 911, \"value\": \"Minerva Modern\"}, \"Wigwag Deluxe\": {\"frequency\": 773, \"value\": \"Wigwag Deluxe\"}, \"JAF Peacock Deep\": {\"frequency\": 598, \"value\": \"JAF Peacock Deep\"}, \"Chaloops Medium\": {\"frequency\": 421, \"value\": \"Chaloops Medium\"}, \"Matrix II Tall \": {\"frequency\": 63, \"value\": \"Matrix II Tall\"}, \"Interstate Rogers\": {\"frequency\": 1, \"value\": \"Interstate Rogers\"}, \"Vista Slab\": {\"frequency\": 121, \"value\": \"Vista Slab\"}, \"Henderson BCG Serif\": {\"frequency\": 3, \"value\": \"Henderson BCG ...\"}, \"LTC Squareface\": {\"frequency\": 140, \"value\": \"LTC Squareface\"}, \"Paganini\": {\"frequency\": 565, \"value\": \"Paganini\"}, \"FF Super Grotesk Web Condensed\": {\"frequency\": 1, \"value\": \"FF Super Grotesk ...\"}, \"Antique Olive Nord\": {\"frequency\": 454, \"value\": \"Antique Olive Nord\"}, \"Tilden Sans Light\": {\"frequency\": 345, \"value\": \"Tilden Sans Light\"}, \"FF Good Web\": {\"frequency\": 1, \"value\": \"FF Good Web\"}, \"NYT Cheltenham Wide (Hinted)\": {\"frequency\": 1, \"value\": \"NYT Cheltenham ...\"}, \"Bodoni URW\": {\"frequency\": 838, \"value\": \"Bodoni URW\"}, \"Memoriam Inline Pro\": {\"frequency\": 2726, \"value\": \"Memoriam Inline ...\"}, \"Triplex Cond Sans \": {\"frequency\": 144, \"value\": \"Triplex Cond Sans\"}, \"Quake Std\": {\"frequency\": 966, \"value\": \"Quake Std\"}, \"LFT Etica\": {\"frequency\": 1800, \"value\": \"LFT Etica\"}, \"Baucher Gothic URW\": {\"frequency\": 410, \"value\": \"Baucher Gothic URW\"}, \"Cardigan\": {\"frequency\": 95, \"value\": \"Cardigan\"}, \"Paralucent\": {\"frequency\": 1406, \"value\": \"Paralucent\"}, \"FF Tundra Web Pro\": {\"frequency\": 1, \"value\": \"FF Tundra Web Pro\"}, \"Balboa Plus Fill\": {\"frequency\": 718, \"value\": \"Balboa Plus Fill\"}, \"Lamar Pen\": {\"frequency\": 1049, \"value\": \"Lamar Pen\"}, \"Kandal\": {\"frequency\": 791, \"value\": \"Kandal\"}, \"Hedley New Web\": {\"frequency\": 491, \"value\": \"Hedley New Web\"}, \"Roboto Slab\": {\"frequency\": 265, \"value\": \"Roboto Slab\"}, \"DejaRip\": {\"frequency\": 2262, \"value\": \"DejaRip\"}, \"FF Prater Serif\": {\"frequency\": 439, \"value\": \"FF Prater Serif\"}, \"Refrigerator Deluxe\": {\"frequency\": 3451, \"value\": \"Refrigerator ...\"}, \"Dalliance Script Display\": {\"frequency\": 379, \"value\": \"Dalliance Script ...\"}, \"Ronnia Condensed\": {\"frequency\": 912, \"value\": \"Ronnia Condensed\"}, \"Helsinki\": {\"frequency\": 834, \"value\": \"Helsinki\"}, \"Hotel Solid\": {\"frequency\": 2028, \"value\": \"Hotel Solid\"}, \"Willow Std\": {\"frequency\": 1777, \"value\": \"Willow Std\"}, \"Coranto 2\": {\"frequency\": 603, \"value\": \"Coranto 2\"}, \"LFT Etica Compressed\": {\"frequency\": 403, \"value\": \"LFT Etica ...\"}, \"Rogue Sans Extended\": {\"frequency\": 152, \"value\": \"Rogue Sans ...\"}, \"AW Conqueror Carved Four\": {\"frequency\": 1339, \"value\": \"AW Conqueror ...\"}, \"Industry Inc Inline Stroke\": {\"frequency\": 1286, \"value\": \"Industry Inc ...\"}, \"Brim Narrow\": {\"frequency\": 617, \"value\": \"Brim Narrow\"}, \"Candela\": {\"frequency\": 1, \"value\": \"Candela\"}, \"Cholla Slab \": {\"frequency\": 104, \"value\": \"Cholla Slab\"}, \"FF Mark Web Pro\": {\"frequency\": 2, \"value\": \"FF Mark Web Pro\"}, \"Le Monde Livre Classic Std Swash\": {\"frequency\": 2165, \"value\": \"Le Monde Livre ...\"}, \"Arno Pro Caption\": {\"frequency\": 214, \"value\": \"Arno Pro Caption\"}, \"Apolline Std\": {\"frequency\": 654, \"value\": \"Apolline Std\"}, \"Elliotts Jigsaw Dropshadow\": {\"frequency\": 121, \"value\": \"Elliotts Jigsaw ...\"}, \"Baker Signet BT\": {\"frequency\": 231, \"value\": \"Baker Signet BT\"}, \"Adobe Tamil\": {\"frequency\": 36, \"value\": \"Adobe Tamil\"}, \"Outwest Half Empty\": {\"frequency\": 51, \"value\": \"Outwest Half Empty\"}, \"News Gothic Std\": {\"frequency\": 1872, \"value\": \"News Gothic Std\"}, \"HWT Republic Gothic Outline\": {\"frequency\": 1061, \"value\": \"HWT Republic ...\"}, \"Ryo Display PlusN\": {\"frequency\": 1204, \"value\": \"Ryo Display PlusN\"}, \"Hucklebuck JF\": {\"frequency\": 1118, \"value\": \"Hucklebuck JF\"}, \"Modula Round Outlined\": {\"frequency\": 82, \"value\": \"Modula Round ...\"}, \"Corporate S\": {\"frequency\": 397, \"value\": \"Corporate S\"}, \"Corporate E\": {\"frequency\": 270, \"value\": \"Corporate E\"}, \"Skippy Sharp\": {\"frequency\": 1036, \"value\": \"Skippy Sharp\"}, \"Myriad Pro Semi Condensed\": {\"frequency\": 1274, \"value\": \"Myriad Pro Semi ...\"}, \"Corporate A\": {\"frequency\": 309, \"value\": \"Corporate A\"}, \"Magistral Compressed\": {\"frequency\": 276, \"value\": \"Magistral ...\"}, \"FF Zwo Corr Pro\": {\"frequency\": 121, \"value\": \"FF Zwo Corr Pro\"}, \"Boucherie Cursive\": {\"frequency\": 344, \"value\": \"Boucherie Cursive\"}, \"Copperplate\": {\"frequency\": 337, \"value\": \"Copperplate\"}, \"Hobeaux Rococeaux\": {\"frequency\": 326, \"value\": \"Hobeaux Rococeaux\"}, \"Mr Eaves Sans\": {\"frequency\": 880, \"value\": \"Mr Eaves Sans\"}, \"FFF Tusj\": {\"frequency\": 1, \"value\": \"FFF Tusj\"}, \"FF Unit Slab Web\": {\"frequency\": 1, \"value\": \"FF Unit Slab Web\"}, \"American Scribe\": {\"frequency\": 784, \"value\": \"American Scribe\"}, \"PT Sans Caption\": {\"frequency\": 1366, \"value\": \"PT Sans Caption\"}, \"GoodDog New\": {\"frequency\": 2296, \"value\": \"GoodDog New\"}, \"Sunflower\": {\"frequency\": 648, \"value\": \"Sunflower\"}, \"Uppercut Angle\": {\"frequency\": 2789, \"value\": \"Uppercut Angle\"}, \"FF Info Text SC Web\": {\"frequency\": 1, \"value\": \"FF Info Text SC ...\"}, \"Stud\": {\"frequency\": 404, \"value\": \"Stud\"}, \"Reagan\": {\"frequency\": 429, \"value\": \"Reagan\"}, \"Stenciletta Solid\": {\"frequency\": 597, \"value\": \"Stenciletta Solid\"}, \"Josefin\": {\"frequency\": 2224, \"value\": \"Josefin\"}, \"JAF Mashine Rounded\": {\"frequency\": 1339, \"value\": \"JAF Mashine ...\"}, \"FF Good Headline Pro Condensed\": {\"frequency\": 2031, \"value\": \"FF Good Headline ...\"}, \"Franklin Gothic URW Condensed SC\": {\"frequency\": 978, \"value\": \"Franklin Gothic ...\"}, \"Rucksack\": {\"frequency\": 1031, \"value\": \"Rucksack\"}, \"Maryam Alternate\": {\"frequency\": 1303, \"value\": \"Maryam Alternate\"}, \"Good Times\": {\"frequency\": 779, \"value\": \"Good Times\"}, \"JAF Facit\": {\"frequency\": 10815, \"value\": \"JAF Facit\"}, \"FF Cocon Pro\": {\"frequency\": 4231, \"value\": \"FF Cocon Pro\"}, \"Heavy Data\": {\"frequency\": 475, \"value\": \"Heavy Data\"}, \"Tarzana Wide \": {\"frequency\": 99, \"value\": \"Tarzana Wide\"}, \"FF Clan Web\": {\"frequency\": 5, \"value\": \"FF Clan Web\"}, \"Bronson Gothic JF\": {\"frequency\": 220, \"value\": \"Bronson Gothic JF\"}, \"Vinter Web\": {\"frequency\": 279, \"value\": \"Vinter Web\"}, \"Kozuka Mincho Pr6N\": {\"frequency\": 1125, \"value\": \"Kozuka Mincho Pr6N\"}, \"Elektrix \": {\"frequency\": 222, \"value\": \"Elektrix\"}, \"Alwyn New Rounded Web\": {\"frequency\": 1442, \"value\": \"Alwyn New Rounded ...\"}, \"Museo Sans Rounded\": {\"frequency\": 7150, \"value\": \"Museo Sans Rounded\"}, \"Penna\": {\"frequency\": 4712, \"value\": \"Penna\"}, \"FF Milo SC Web\": {\"frequency\": 1, \"value\": \"FF Milo SC Web\"}, \"Mostra Nuova\": {\"frequency\": 5655, \"value\": \"Mostra Nuova\"}, \"Sofachrome\": {\"frequency\": 524, \"value\": \"Sofachrome\"}, \"Black Beard\": {\"frequency\": 426, \"value\": \"Black Beard\"}, \"Hallmark Handstand Script Web One\": {\"frequency\": 1, \"value\": \"Hallmark Handstand ...\"}, \"Alda \": {\"frequency\": 154, \"value\": \"Alda\"}, \"HWT Van Lanen\": {\"frequency\": 637, \"value\": \"HWT Van Lanen\"}, \"FF Prater Script\": {\"frequency\": 1832, \"value\": \"FF Prater Script\"}, \"Bebas Neue\": {\"frequency\": 5101, \"value\": \"Bebas Neue\"}, \"Charbroiled\": {\"frequency\": 457, \"value\": \"Charbroiled\"}, \"Cronos Pro Subhead\": {\"frequency\": 1274, \"value\": \"Cronos Pro Subhead\"}, \"Almaq Rough\": {\"frequency\": 3962, \"value\": \"Almaq Rough\"}, \"Chauncy Pro\": {\"frequency\": 783, \"value\": \"Chauncy Pro\"}, \"Ingra 2\": {\"frequency\": 359, \"value\": \"Ingra 2\"}, \"BD Geminis\": {\"frequency\": 658, \"value\": \"BD Geminis\"}, \"Kari Pro Wide\": {\"frequency\": 1886, \"value\": \"Kari Pro Wide\"}, \"Lo-Res 28 Narrow\": {\"frequency\": 58, \"value\": \"Lo-Res 28 Narrow\"}, \"Antique Olive\": {\"frequency\": 280, \"value\": \"Antique Olive\"}, \"Poleno\": {\"frequency\": 134, \"value\": \"Poleno\"}, \"CarbonType\": {\"frequency\": 824, \"value\": \"CarbonType\"}, \"FF Mach Pro\": {\"frequency\": 979, \"value\": \"FF Mach Pro\"}, \"Sofia Pro\": {\"frequency\": 3086, \"value\": \"Sofia Pro\"}, \"Sister Frisky\": {\"frequency\": 607, \"value\": \"Sister Frisky\"}, \"Linden Hill\": {\"frequency\": 412, \"value\": \"Linden Hill\"}, \"FF Folk\": {\"frequency\": 220, \"value\": \"FF Folk\"}, \"FF Tundra Web\": {\"frequency\": 1, \"value\": \"FF Tundra Web\"}, \"Great Primer\": {\"frequency\": 873, \"value\": \"Great Primer\"}, \"Anchor\": {\"frequency\": 2, \"value\": \"Anchor\"}, \"Le Monde Livre Classic Std SC\": {\"frequency\": 148, \"value\": \"Le Monde Livre ...\"}, \"Octin Spraypaint\": {\"frequency\": 378, \"value\": \"Octin Spraypaint\"}, \"NYT Cheltenham (Hinted)\": {\"frequency\": 2, \"value\": \"NYT Cheltenham ...\"}, \"Locator\": {\"frequency\": 7, \"value\": \"Locator\"}, \"Modesto\": {\"frequency\": 984, \"value\": \"Modesto\"}, \"FF Suhmo Web\": {\"frequency\": 3, \"value\": \"FF Suhmo Web\"}, \"Priori Serif\": {\"frequency\": 75, \"value\": \"Priori Serif\"}, \"Viva Std\": {\"frequency\": 2873, \"value\": \"Viva Std\"}, \"Bryant Condensed\": {\"frequency\": 2, \"value\": \"Bryant Condensed\"}, \"Acumin Pro Semi Condensed\": {\"frequency\": 1691, \"value\": \"Acumin Pro Semi ...\"}, \"Baileywick JF Gothic\": {\"frequency\": 123, \"value\": \"Baileywick JF ...\"}, \"Magpie\": {\"frequency\": 206, \"value\": \"Magpie\"}, \"M+ 1c\": {\"frequency\": 572, \"value\": \"M+ 1c\"}, \"Halogen\": {\"frequency\": 2698, \"value\": \"Halogen\"}, \"Classico URW\": {\"frequency\": 582, \"value\": \"Classico URW\"}, \"DeLittle Chromatic Inlay\": {\"frequency\": 222, \"value\": \"DeLittle Chromatic ...\"}, \"Aviano Didone\": {\"frequency\": 438, \"value\": \"Aviano Didone\"}, \"Yrsa\": {\"frequency\": 420, \"value\": \"Yrsa\"}, \"Dogma\": {\"frequency\": 98, \"value\": \"Dogma\"}, \"Ryo Gothic PlusN\": {\"frequency\": 1220, \"value\": \"Ryo Gothic PlusN\"}, \"Monarcha\": {\"frequency\": 1596, \"value\": \"Monarcha\"}, \"Lo-Res 9 Plus Wide\": {\"frequency\": 90, \"value\": \"Lo-Res 9 Plus Wide\"}, \"Modula Round Serif\": {\"frequency\": 50, \"value\": \"Modula Round Serif\"}, \"Acumin Pro Condensed\": {\"frequency\": 1945, \"value\": \"Acumin Pro ...\"}, \"Stymie Condensed\": {\"frequency\": 213, \"value\": \"Stymie Condensed\"}, \"Cholla Wide\": {\"frequency\": 67, \"value\": \"Cholla Wide\"}, \"Lilac Malaria \": {\"frequency\": 772, \"value\": \"Lilac Malaria\"}, \"Molengo\": {\"frequency\": 310, \"value\": \"Molengo\"}, \"Aller Display\": {\"frequency\": 1060, \"value\": \"Aller Display\"}, \"Dapifer\": {\"frequency\": 455, \"value\": \"Dapifer\"}, \"Triplex Cond Serif \": {\"frequency\": 85, \"value\": \"Triplex Cond Serif\"}, \"Stenciletta\": {\"frequency\": 656, \"value\": \"Stenciletta\"}, \"Magneta\": {\"frequency\": 1349, \"value\": \"Magneta\"}, \"Gunplay Spraypaint\": {\"frequency\": 233, \"value\": \"Gunplay Spraypaint\"}, \"Jeanne Moderno Titling\": {\"frequency\": 275, \"value\": \"Jeanne Moderno ...\"}, \"Kari Display Pro\": {\"frequency\": 2333, \"value\": \"Kari Display Pro\"}, \"FP Dancer Pro\": {\"frequency\": 492, \"value\": \"FP Dancer Pro\"}, \"Shrub\": {\"frequency\": 1222, \"value\": \"Shrub\"}, \"Ingra Condensed\": {\"frequency\": 309, \"value\": \"Ingra Condensed\"}, \"ABChanel Couture\": {\"frequency\": 1, \"value\": \"ABChanel Couture\"}, \"Proxima Nova Alt Condensed\": {\"frequency\": 1802, \"value\": \"Proxima Nova Alt ...\"}, \"Myriad Pro Condensed\": {\"frequency\": 4744, \"value\": \"Myriad Pro ...\"}, \"Kremlin Pro Expanded\": {\"frequency\": 855, \"value\": \"Kremlin Pro ...\"}, \"Kon Tiki Lounge JF\": {\"frequency\": 322, \"value\": \"Kon Tiki Lounge JF\"}, \"Fenwick Outline\": {\"frequency\": 573, \"value\": \"Fenwick Outline\"}, \"Aisha Latin\": {\"frequency\": 483, \"value\": \"Aisha Latin\"}, \"Paralucent Text\": {\"frequency\": 151, \"value\": \"Paralucent Text\"}, \"Boucherie Sans\": {\"frequency\": 143, \"value\": \"Boucherie Sans\"}, \"Proxima Nova Alt Extra Condensed\": {\"frequency\": 1833, \"value\": \"Proxima Nova Alt ...\"}, \"Graphite Std Narrow\": {\"frequency\": 418, \"value\": \"Graphite Std ...\"}, \"Myriad Infant UK\": {\"frequency\": 1, \"value\": \"Myriad Infant UK\"}, \"Zekton\": {\"frequency\": 252, \"value\": \"Zekton\"}, \"Discourse Narrow Shadow\": {\"frequency\": 761, \"value\": \"Discourse Narrow ...\"}, \"Diavlo\": {\"frequency\": 2035, \"value\": \"Diavlo\"}, \"Badaboom Pro\": {\"frequency\": 1593, \"value\": \"Badaboom Pro\"}, \"FF Sero SC Web\": {\"frequency\": 1, \"value\": \"FF Sero SC Web\"}, \"De Walpergen's Pica Small Caps\": {\"frequency\": 886, \"value\": \"De Walpergen's ...\"}, \"Fertigo Pro Script\": {\"frequency\": 10155, \"value\": \"Fertigo Pro Script\"}, \"Lourdes\": {\"frequency\": 912, \"value\": \"Lourdes\"}, \"Casablanca URW\": {\"frequency\": 1079, \"value\": \"Casablanca URW\"}, \"Jinky\": {\"frequency\": 747, \"value\": \"Jinky\"}, \"Sneakers Pro\": {\"frequency\": 1230, \"value\": \"Sneakers Pro\"}, \"Futura PT\": {\"frequency\": 27284, \"value\": \"Futura PT\"}, \"Estilo\": {\"frequency\": 3181, \"value\": \"Estilo\"}, \"Changeling Neo Inline \": {\"frequency\": 1514, \"value\": \"Changeling Neo ...\"}, \"Sophisto SC\": {\"frequency\": 345, \"value\": \"Sophisto SC\"}, \"Shlop Shloppy\": {\"frequency\": 445, \"value\": \"Shlop Shloppy\"}, \"Abril Titling Narrow\": {\"frequency\": 483, \"value\": \"Abril Titling ...\"}, \"Cotton\": {\"frequency\": 241, \"value\": \"Cotton\"}, \"Henderson BCG Headline\": {\"frequency\": 3, \"value\": \"Henderson BCG ...\"}, \"Bryant Web SS1\": {\"frequency\": 7, \"value\": \"Bryant Web SS1\"}, \"Trajan Pro\": {\"frequency\": 289, \"value\": \"Trajan Pro\"}, \"Program \": {\"frequency\": 451, \"value\": \"Program\"}, \"JAF Peacock Short\": {\"frequency\": 245, \"value\": \"JAF Peacock Short\"}, \"Sanvito Pro\": {\"frequency\": 2847, \"value\": \"Sanvito Pro\"}, \"Sketchnote Text\": {\"frequency\": 1203, \"value\": \"Sketchnote Text\"}, \"Brigade\": {\"frequency\": 59, \"value\": \"Brigade\"}, \"Grad SC OSF\": {\"frequency\": 541, \"value\": \"Grad SC OSF\"}, \"Velino Poster\": {\"frequency\": 1021, \"value\": \"Velino Poster\"}, \"Duality\": {\"frequency\": 386, \"value\": \"Duality\"}, \"Nimbus Sans\": {\"frequency\": 13784, \"value\": \"Nimbus Sans\"}, \"Prohibition\": {\"frequency\": 1405, \"value\": \"Prohibition\"}, \"Roboto\": {\"frequency\": 1257, \"value\": \"Roboto\"}, \"Klavika Basic\": {\"frequency\": 47, \"value\": \"Klavika Basic\"}, \"Ratio Display\": {\"frequency\": 1012, \"value\": \"Ratio Display\"}, \"Freight Text Pro\": {\"frequency\": 3407, \"value\": \"Freight Text Pro\"}, \"FF Mach Pro Condensed\": {\"frequency\": 518, \"value\": \"FF Mach Pro ...\"}, \"Brioso Pro\": {\"frequency\": 2588, \"value\": \"Brioso Pro\"}, \"Kegger Collegiate\": {\"frequency\": 701, \"value\": \"Kegger Collegiate\"}, \"Zubilo Inline\": {\"frequency\": 515, \"value\": \"Zubilo Inline\"}, \"Hoosier Daddy\": {\"frequency\": 302, \"value\": \"Hoosier Daddy\"}, \"Futura PT Condensed\": {\"frequency\": 3680, \"value\": \"Futura PT ...\"}, \"Aviano Future\": {\"frequency\": 720, \"value\": \"Aviano Future\"}, \"Sutro Black Initials\": {\"frequency\": 165, \"value\": \"Sutro Black ...\"}, \"Matrix II Ext Semi Wide\": {\"frequency\": 54, \"value\": \"Matrix II Ext Semi ...\"}, \"Ponderosa Std\": {\"frequency\": 552, \"value\": \"Ponderosa Std\"}, \"Auto 1 Lining Figures\": {\"frequency\": 1, \"value\": \"Auto 1 Lining ...\"}, \"Anivers\": {\"frequency\": 1651, \"value\": \"Anivers\"}, \"Filosofia Unicase \": {\"frequency\": 181, \"value\": \"Filosofia Unicase\"}, \"Korolev\": {\"frequency\": 594, \"value\": \"Korolev\"}, \"NotCaslon One\": {\"frequency\": 105, \"value\": \"NotCaslon One\"}, \"Amboy Black\": {\"frequency\": 432, \"value\": \"Amboy Black\"}, \"Fresno Inline\": {\"frequency\": 489, \"value\": \"Fresno Inline\"}, \"ABChanel Condensed\": {\"frequency\": 1, \"value\": \"ABChanel Condensed\"}, \"Terfens\": {\"frequency\": 572, \"value\": \"Terfens\"}, \"Strumpf Std Contour\": {\"frequency\": 1586, \"value\": \"Strumpf Std ...\"}, \"AW Conqueror Carved One\": {\"frequency\": 975, \"value\": \"AW Conqueror ...\"}, \"Lo-Res 22 Serif\": {\"frequency\": 61, \"value\": \"Lo-Res 22 Serif\"}, \"Modesto Open Shadow\": {\"frequency\": 708, \"value\": \"Modesto Open ...\"}, \"Blackcurrant Cameo\": {\"frequency\": 158, \"value\": \"Blackcurrant Cameo\"}, \"French Canon Small Caps\": {\"frequency\": 413, \"value\": \"French Canon Small ...\"}, \"Ubuntu Condensed\": {\"frequency\": 602, \"value\": \"Ubuntu Condensed\"}, \"Adobe Thai\": {\"frequency\": 126, \"value\": \"Adobe Thai\"}, \"A-OTF Futo Min A101 Pr6N\": {\"frequency\": 2130, \"value\": \"A-OTF Futo Min ...\"}, \"Bryant\": {\"frequency\": 15, \"value\": \"Bryant\"}, \"Matrix II Display Inline Script\": {\"frequency\": 400, \"value\": \"Matrix II Display ...\"}, \"Minion Pro\": {\"frequency\": 6625, \"value\": \"Minion Pro\"}, \"Hobeaux\": {\"frequency\": 110, \"value\": \"Hobeaux\"}, \"Caliban Std\": {\"frequency\": 1891, \"value\": \"Caliban Std\"}, \"Acier BAT Text Noir\": {\"frequency\": 777, \"value\": \"Acier BAT Text ...\"}, \"Vista Sans\": {\"frequency\": 106, \"value\": \"Vista Sans\"}, \"Matrix II Ext Semi Narrow\": {\"frequency\": 18, \"value\": \"Matrix II Ext Semi ...\"}, \"Americane\": {\"frequency\": 67, \"value\": \"Americane\"}, \"Apertura Condensed\": {\"frequency\": 222, \"value\": \"Apertura Condensed\"}, \"Faunus Web\": {\"frequency\": 47, \"value\": \"Faunus Web\"}, \"Aaux Next\": {\"frequency\": 2024, \"value\": \"Aaux Next\"}, \"Eskapade Fraktur\": {\"frequency\": 3115, \"value\": \"Eskapade Fraktur\"}, \"Sommet\": {\"frequency\": 233, \"value\": \"Sommet\"}, \"Nueva Std Extended\": {\"frequency\": 143, \"value\": \"Nueva Std Extended\"}, \"Essonnes Headline\": {\"frequency\": 523, \"value\": \"Essonnes Headline\"}, \"Dederon Serif Web\": {\"frequency\": 150, \"value\": \"Dederon Serif Web\"}, \"Adobe Myungjo Std\": {\"frequency\": 32, \"value\": \"Adobe Myungjo Std\"}, \"Aviano Slab\": {\"frequency\": 222, \"value\": \"Aviano Slab\"}, \"Adobe Fangsong Std\": {\"frequency\": 54, \"value\": \"Adobe Fangsong Std\"}, \"NYT Karnak Display (130124)\": {\"frequency\": 1, \"value\": \"NYT Karnak Display ...\"}, \"Sutro Bold Expanded\": {\"frequency\": 82, \"value\": \"Sutro Bold ...\"}, \"Lo-Res 21 Serif\": {\"frequency\": 84, \"value\": \"Lo-Res 21 Serif\"}, \"Spartacus\": {\"frequency\": 132, \"value\": \"Spartacus\"}, \"Octynaz\": {\"frequency\": 246, \"value\": \"Octynaz\"}, \"Abril Text\": {\"frequency\": 2416, \"value\": \"Abril Text\"}, \"Know Your Product\": {\"frequency\": 524, \"value\": \"Know Your Product\"}, \"Hoverunit\": {\"frequency\": 530, \"value\": \"Hoverunit\"}, \"Neuzeit Grotesk Condensed\": {\"frequency\": 294, \"value\": \"Neuzeit Grotesk ...\"}, \"Journal Ultra\": {\"frequency\": 70, \"value\": \"Journal Ultra\"}, \"Park Lane\": {\"frequency\": 97, \"value\": \"Park Lane\"}, \"Aviano\": {\"frequency\": 375, \"value\": \"Aviano\"}, \"Sutro Deluxe Inline Shaded\": {\"frequency\": 171, \"value\": \"Sutro Deluxe ...\"}, \"Modesto Expanded\": {\"frequency\": 1089, \"value\": \"Modesto Expanded\"}, \"Good Kitty\": {\"frequency\": 1540, \"value\": \"Good Kitty\"}, \"Pakenham\": {\"frequency\": 88, \"value\": \"Pakenham\"}, \"Ryo Text PlusN\": {\"frequency\": 1131, \"value\": \"Ryo Text PlusN\"}, \"Poplar Std\": {\"frequency\": 2472, \"value\": \"Poplar Std\"}, \"Chainprinter\": {\"frequency\": 290, \"value\": \"Chainprinter\"}, \"Soleto\": {\"frequency\": 634, \"value\": \"Soleto\"}, \"Ethnocentric\": {\"frequency\": 804, \"value\": \"Ethnocentric\"}, \"Duality Steel\": {\"frequency\": 467, \"value\": \"Duality Steel\"}, \"FF Meta SC Web\": {\"frequency\": 1, \"value\": \"FF Meta SC Web\"}, \"Sutro Deluxe Inline Fill\": {\"frequency\": 160, \"value\": \"Sutro Deluxe ...\"}, \"Niveau Grotesk\": {\"frequency\": 1433, \"value\": \"Niveau Grotesk\"}, \"Corner Store\": {\"frequency\": 4566, \"value\": \"Corner Store\"}, \"De Walpergen's Pica\": {\"frequency\": 1035, \"value\": \"De Walpergen's ...\"}, \"Sunshine\": {\"frequency\": 647, \"value\": \"Sunshine\"}, \"Lexia\": {\"frequency\": 2093, \"value\": \"Lexia\"}, \"Adobe Song Std\": {\"frequency\": 97, \"value\": \"Adobe Song Std\"}, \"FP Head Pro\": {\"frequency\": 1226, \"value\": \"FP Head Pro\"}, \"Remedy\": {\"frequency\": 219, \"value\": \"Remedy\"}, \"Retiro Std 48pt\": {\"frequency\": 142, \"value\": \"Retiro Std 48pt\"}, \"AW Conqueror Slab\": {\"frequency\": 417, \"value\": \"AW Conqueror Slab\"}, \"Gothic Open Shaded\": {\"frequency\": 1392, \"value\": \"Gothic Open Shaded\"}, \"Lo-Res 15 Bold Alt Oakland\": {\"frequency\": 54, \"value\": \"Lo-Res 15 Bold Alt ...\"}, \"Wordy Diva\": {\"frequency\": 822, \"value\": \"Wordy Diva\"}, \"FF Daxline Web\": {\"frequency\": 1, \"value\": \"FF Daxline Web\"}, \"NotCaslon Two\": {\"frequency\": 112, \"value\": \"NotCaslon Two\"}, \"Discourse Wide Fill\": {\"frequency\": 200, \"value\": \"Discourse Wide ...\"}, \"Retiro Std 24pt\": {\"frequency\": 183, \"value\": \"Retiro Std 24pt\"}, \"Rinse\": {\"frequency\": 549, \"value\": \"Rinse\"}, \"Scrivano\": {\"frequency\": 289, \"value\": \"Scrivano\"}, \"Le Monde Courrier Std\": {\"frequency\": 483, \"value\": \"Le Monde Courrier ...\"}, \"Chemist Rough\": {\"frequency\": 946, \"value\": \"Chemist Rough\"}, \"Share Regular\": {\"frequency\": 241, \"value\": \"Share Regular\"}, \"Botanika Web\": {\"frequency\": 120, \"value\": \"Botanika Web\"}, \"Poster Clean\": {\"frequency\": 495, \"value\": \"Poster Clean\"}, \"FF Unit Slab Web SC\": {\"frequency\": 1, \"value\": \"FF Unit Slab Web ...\"}, \"Lust\": {\"frequency\": 2414, \"value\": \"Lust\"}, \"Fertigo Pro\": {\"frequency\": 4889, \"value\": \"Fertigo Pro\"}, \"Costa Std\": {\"frequency\": 238, \"value\": \"Costa Std\"}}, \"size\": 2071453}, \"selected_variable\": {\"name\": [\"<SArray>\"], \"dtype\": \"str\", \"view_component\": \"Categorical\", \"view_file\": \"sarray\", \"descriptives\": {\"rows\": 2071453}, \"type\": \"SArray\", \"view_components\": [\"Categorical\"]}, \"histogram\": null}, e);\n",
       "                });\n",
       "            })();\n",
       "        "
      ]
     },
     "metadata": {},
     "output_type": "display_data"
    }
   ],
   "source": [
    "favorites_data['name'].show()"
   ]
  },
  {
   "cell_type": "code",
   "execution_count": 46,
   "metadata": {
    "collapsed": true
   },
   "outputs": [],
   "source": [
    "users = favorites_data['user_id'].unique()"
   ]
  },
  {
   "cell_type": "code",
   "execution_count": 47,
   "metadata": {
    "collapsed": false
   },
   "outputs": [
    {
     "data": {
      "text/plain": [
       "328526"
      ]
     },
     "execution_count": 47,
     "metadata": {},
     "output_type": "execute_result"
    }
   ],
   "source": [
    "len(users)"
   ]
  },
  {
   "cell_type": "code",
   "execution_count": 48,
   "metadata": {
    "collapsed": true
   },
   "outputs": [],
   "source": [
    "train_data,test_data = favorites_data.random_split(.8,seed=0)"
   ]
  },
  {
   "cell_type": "code",
   "execution_count": 49,
   "metadata": {
    "collapsed": false
   },
   "outputs": [
    {
     "data": {
      "text/html": [
       "<pre>Recsys training: model = popularity</pre>"
      ],
      "text/plain": [
       "Recsys training: model = popularity"
      ]
     },
     "metadata": {},
     "output_type": "display_data"
    },
    {
     "data": {
      "text/html": [
       "<pre>Preparing data set.</pre>"
      ],
      "text/plain": [
       "Preparing data set."
      ]
     },
     "metadata": {},
     "output_type": "display_data"
    },
    {
     "data": {
      "text/html": [
       "<pre>    Data has 1656988 observations with 297766 users and 1817 items.</pre>"
      ],
      "text/plain": [
       "    Data has 1656988 observations with 297766 users and 1817 items."
      ]
     },
     "metadata": {},
     "output_type": "display_data"
    },
    {
     "data": {
      "text/html": [
       "<pre>    Data prepared in: 0.960458s</pre>"
      ],
      "text/plain": [
       "    Data prepared in: 0.960458s"
      ]
     },
     "metadata": {},
     "output_type": "display_data"
    },
    {
     "data": {
      "text/html": [
       "<pre>1656988 observations to process; with 1817 unique items.</pre>"
      ],
      "text/plain": [
       "1656988 observations to process; with 1817 unique items."
      ]
     },
     "metadata": {},
     "output_type": "display_data"
    }
   ],
   "source": [
    "popularity_model = graphlab.popularity_recommender.create(train_data,\n",
    "                                                         user_id='user_id',\n",
    "                                                         item_id='name')"
   ]
  },
  {
   "cell_type": "code",
   "execution_count": 76,
   "metadata": {
    "collapsed": false
   },
   "outputs": [
    {
     "data": {
      "text/html": [
       "<div style=\"max-height:1000px;max-width:1500px;overflow:auto;\"><table frame=\"box\" rules=\"cols\">\n",
       "    <tr>\n",
       "        <th style=\"padding-left: 1em; padding-right: 1em; text-align: center\">user_id</th>\n",
       "        <th style=\"padding-left: 1em; padding-right: 1em; text-align: center\">name</th>\n",
       "        <th style=\"padding-left: 1em; padding-right: 1em; text-align: center\">score</th>\n",
       "        <th style=\"padding-left: 1em; padding-right: 1em; text-align: center\">rank</th>\n",
       "    </tr>\n",
       "    <tr>\n",
       "        <td style=\"padding-left: 1em; padding-right: 1em; text-align: center; vertical-align: top\">1185276</td>\n",
       "        <td style=\"padding-left: 1em; padding-right: 1em; text-align: center; vertical-align: top\">Proxima Nova</td>\n",
       "        <td style=\"padding-left: 1em; padding-right: 1em; text-align: center; vertical-align: top\">29002.0</td>\n",
       "        <td style=\"padding-left: 1em; padding-right: 1em; text-align: center; vertical-align: top\">1</td>\n",
       "    </tr>\n",
       "    <tr>\n",
       "        <td style=\"padding-left: 1em; padding-right: 1em; text-align: center; vertical-align: top\">1185276</td>\n",
       "        <td style=\"padding-left: 1em; padding-right: 1em; text-align: center; vertical-align: top\">Futura PT</td>\n",
       "        <td style=\"padding-left: 1em; padding-right: 1em; text-align: center; vertical-align: top\">21890.0</td>\n",
       "        <td style=\"padding-left: 1em; padding-right: 1em; text-align: center; vertical-align: top\">2</td>\n",
       "    </tr>\n",
       "    <tr>\n",
       "        <td style=\"padding-left: 1em; padding-right: 1em; text-align: center; vertical-align: top\">1185276</td>\n",
       "        <td style=\"padding-left: 1em; padding-right: 1em; text-align: center; vertical-align: top\">Brandon Grotesque</td>\n",
       "        <td style=\"padding-left: 1em; padding-right: 1em; text-align: center; vertical-align: top\">16733.0</td>\n",
       "        <td style=\"padding-left: 1em; padding-right: 1em; text-align: center; vertical-align: top\">3</td>\n",
       "    </tr>\n",
       "    <tr>\n",
       "        <td style=\"padding-left: 1em; padding-right: 1em; text-align: center; vertical-align: top\">1185276</td>\n",
       "        <td style=\"padding-left: 1em; padding-right: 1em; text-align: center; vertical-align: top\">Museo Sans</td>\n",
       "        <td style=\"padding-left: 1em; padding-right: 1em; text-align: center; vertical-align: top\">15041.0</td>\n",
       "        <td style=\"padding-left: 1em; padding-right: 1em; text-align: center; vertical-align: top\">4</td>\n",
       "    </tr>\n",
       "    <tr>\n",
       "        <td style=\"padding-left: 1em; padding-right: 1em; text-align: center; vertical-align: top\">1185276</td>\n",
       "        <td style=\"padding-left: 1em; padding-right: 1em; text-align: center; vertical-align: top\">Museo Slab</td>\n",
       "        <td style=\"padding-left: 1em; padding-right: 1em; text-align: center; vertical-align: top\">14303.0</td>\n",
       "        <td style=\"padding-left: 1em; padding-right: 1em; text-align: center; vertical-align: top\">5</td>\n",
       "    </tr>\n",
       "    <tr>\n",
       "        <td style=\"padding-left: 1em; padding-right: 1em; text-align: center; vertical-align: top\">1185276</td>\n",
       "        <td style=\"padding-left: 1em; padding-right: 1em; text-align: center; vertical-align: top\">Adelle</td>\n",
       "        <td style=\"padding-left: 1em; padding-right: 1em; text-align: center; vertical-align: top\">12546.0</td>\n",
       "        <td style=\"padding-left: 1em; padding-right: 1em; text-align: center; vertical-align: top\">6</td>\n",
       "    </tr>\n",
       "    <tr>\n",
       "        <td style=\"padding-left: 1em; padding-right: 1em; text-align: center; vertical-align: top\">1185276</td>\n",
       "        <td style=\"padding-left: 1em; padding-right: 1em; text-align: center; vertical-align: top\">Fira Sans 2</td>\n",
       "        <td style=\"padding-left: 1em; padding-right: 1em; text-align: center; vertical-align: top\">11965.0</td>\n",
       "        <td style=\"padding-left: 1em; padding-right: 1em; text-align: center; vertical-align: top\">7</td>\n",
       "    </tr>\n",
       "    <tr>\n",
       "        <td style=\"padding-left: 1em; padding-right: 1em; text-align: center; vertical-align: top\">1185276</td>\n",
       "        <td style=\"padding-left: 1em; padding-right: 1em; text-align: center; vertical-align: top\">Sail</td>\n",
       "        <td style=\"padding-left: 1em; padding-right: 1em; text-align: center; vertical-align: top\">11281.0</td>\n",
       "        <td style=\"padding-left: 1em; padding-right: 1em; text-align: center; vertical-align: top\">8</td>\n",
       "    </tr>\n",
       "    <tr>\n",
       "        <td style=\"padding-left: 1em; padding-right: 1em; text-align: center; vertical-align: top\">1185276</td>\n",
       "        <td style=\"padding-left: 1em; padding-right: 1em; text-align: center; vertical-align: top\">Nimbus Sans</td>\n",
       "        <td style=\"padding-left: 1em; padding-right: 1em; text-align: center; vertical-align: top\">10983.0</td>\n",
       "        <td style=\"padding-left: 1em; padding-right: 1em; text-align: center; vertical-align: top\">9</td>\n",
       "    </tr>\n",
       "    <tr>\n",
       "        <td style=\"padding-left: 1em; padding-right: 1em; text-align: center; vertical-align: top\">1185276</td>\n",
       "        <td style=\"padding-left: 1em; padding-right: 1em; text-align: center; vertical-align: top\">Grafolita Script</td>\n",
       "        <td style=\"padding-left: 1em; padding-right: 1em; text-align: center; vertical-align: top\">10574.0</td>\n",
       "        <td style=\"padding-left: 1em; padding-right: 1em; text-align: center; vertical-align: top\">10</td>\n",
       "    </tr>\n",
       "</table>\n",
       "[10 rows x 4 columns]<br/>\n",
       "</div>"
      ],
      "text/plain": [
       "Columns:\n",
       "\tuser_id\tint\n",
       "\tname\tstr\n",
       "\tscore\tfloat\n",
       "\trank\tint\n",
       "\n",
       "Rows: 10\n",
       "\n",
       "Data:\n",
       "+---------+-------------------+---------+------+\n",
       "| user_id |        name       |  score  | rank |\n",
       "+---------+-------------------+---------+------+\n",
       "| 1185276 |    Proxima Nova   | 29002.0 |  1   |\n",
       "| 1185276 |     Futura PT     | 21890.0 |  2   |\n",
       "| 1185276 | Brandon Grotesque | 16733.0 |  3   |\n",
       "| 1185276 |     Museo Sans    | 15041.0 |  4   |\n",
       "| 1185276 |     Museo Slab    | 14303.0 |  5   |\n",
       "| 1185276 |       Adelle      | 12546.0 |  6   |\n",
       "| 1185276 |    Fira Sans 2    | 11965.0 |  7   |\n",
       "| 1185276 |        Sail       | 11281.0 |  8   |\n",
       "| 1185276 |    Nimbus Sans    | 10983.0 |  9   |\n",
       "| 1185276 |  Grafolita Script | 10574.0 |  10  |\n",
       "+---------+-------------------+---------+------+\n",
       "[10 rows x 4 columns]"
      ]
     },
     "execution_count": 76,
     "metadata": {},
     "output_type": "execute_result"
    }
   ],
   "source": [
    "popularity_model.recommend(users=[users[0]])"
   ]
  },
  {
   "cell_type": "code",
   "execution_count": 53,
   "metadata": {
    "collapsed": false
   },
   "outputs": [
    {
     "data": {
      "text/html": [
       "<pre>Recsys training: model = item_similarity</pre>"
      ],
      "text/plain": [
       "Recsys training: model = item_similarity"
      ]
     },
     "metadata": {},
     "output_type": "display_data"
    },
    {
     "data": {
      "text/html": [
       "<pre>Preparing data set.</pre>"
      ],
      "text/plain": [
       "Preparing data set."
      ]
     },
     "metadata": {},
     "output_type": "display_data"
    },
    {
     "data": {
      "text/html": [
       "<pre>    Data has 1656988 observations with 297766 users and 1817 items.</pre>"
      ],
      "text/plain": [
       "    Data has 1656988 observations with 297766 users and 1817 items."
      ]
     },
     "metadata": {},
     "output_type": "display_data"
    },
    {
     "data": {
      "text/html": [
       "<pre>    Data prepared in: 0.980472s</pre>"
      ],
      "text/plain": [
       "    Data prepared in: 0.980472s"
      ]
     },
     "metadata": {},
     "output_type": "display_data"
    },
    {
     "data": {
      "text/html": [
       "<pre>Training model from provided data.</pre>"
      ],
      "text/plain": [
       "Training model from provided data."
      ]
     },
     "metadata": {},
     "output_type": "display_data"
    },
    {
     "data": {
      "text/html": [
       "<pre>Gathering per-item and per-user statistics.</pre>"
      ],
      "text/plain": [
       "Gathering per-item and per-user statistics."
      ]
     },
     "metadata": {},
     "output_type": "display_data"
    },
    {
     "data": {
      "text/html": [
       "<pre>+--------------------------------+------------+</pre>"
      ],
      "text/plain": [
       "+--------------------------------+------------+"
      ]
     },
     "metadata": {},
     "output_type": "display_data"
    },
    {
     "data": {
      "text/html": [
       "<pre>| Elapsed Time (Item Statistics) | % Complete |</pre>"
      ],
      "text/plain": [
       "| Elapsed Time (Item Statistics) | % Complete |"
      ]
     },
     "metadata": {},
     "output_type": "display_data"
    },
    {
     "data": {
      "text/html": [
       "<pre>+--------------------------------+------------+</pre>"
      ],
      "text/plain": [
       "+--------------------------------+------------+"
      ]
     },
     "metadata": {},
     "output_type": "display_data"
    },
    {
     "data": {
      "text/html": [
       "<pre>| 2.164ms                        | 1          |</pre>"
      ],
      "text/plain": [
       "| 2.164ms                        | 1          |"
      ]
     },
     "metadata": {},
     "output_type": "display_data"
    },
    {
     "data": {
      "text/html": [
       "<pre>| 48.849ms                       | 100        |</pre>"
      ],
      "text/plain": [
       "| 48.849ms                       | 100        |"
      ]
     },
     "metadata": {},
     "output_type": "display_data"
    },
    {
     "data": {
      "text/html": [
       "<pre>+--------------------------------+------------+</pre>"
      ],
      "text/plain": [
       "+--------------------------------+------------+"
      ]
     },
     "metadata": {},
     "output_type": "display_data"
    },
    {
     "data": {
      "text/html": [
       "<pre>Setting up lookup tables.</pre>"
      ],
      "text/plain": [
       "Setting up lookup tables."
      ]
     },
     "metadata": {},
     "output_type": "display_data"
    },
    {
     "data": {
      "text/html": [
       "<pre>Processing data in one pass using dense lookup tables.</pre>"
      ],
      "text/plain": [
       "Processing data in one pass using dense lookup tables."
      ]
     },
     "metadata": {},
     "output_type": "display_data"
    },
    {
     "data": {
      "text/html": [
       "<pre>+-------------------------------------+------------------+-----------------+</pre>"
      ],
      "text/plain": [
       "+-------------------------------------+------------------+-----------------+"
      ]
     },
     "metadata": {},
     "output_type": "display_data"
    },
    {
     "data": {
      "text/html": [
       "<pre>| Elapsed Time (Constructing Lookups) | Total % Complete | Items Processed |</pre>"
      ],
      "text/plain": [
       "| Elapsed Time (Constructing Lookups) | Total % Complete | Items Processed |"
      ]
     },
     "metadata": {},
     "output_type": "display_data"
    },
    {
     "data": {
      "text/html": [
       "<pre>+-------------------------------------+------------------+-----------------+</pre>"
      ],
      "text/plain": [
       "+-------------------------------------+------------------+-----------------+"
      ]
     },
     "metadata": {},
     "output_type": "display_data"
    },
    {
     "data": {
      "text/html": [
       "<pre>| 61.123ms                            | 0                | 0               |</pre>"
      ],
      "text/plain": [
       "| 61.123ms                            | 0                | 0               |"
      ]
     },
     "metadata": {},
     "output_type": "display_data"
    },
    {
     "data": {
      "text/html": [
       "<pre>| 231.211ms                           | 100              | 1817            |</pre>"
      ],
      "text/plain": [
       "| 231.211ms                           | 100              | 1817            |"
      ]
     },
     "metadata": {},
     "output_type": "display_data"
    },
    {
     "data": {
      "text/html": [
       "<pre>+-------------------------------------+------------------+-----------------+</pre>"
      ],
      "text/plain": [
       "+-------------------------------------+------------------+-----------------+"
      ]
     },
     "metadata": {},
     "output_type": "display_data"
    },
    {
     "data": {
      "text/html": [
       "<pre>Finalizing lookup tables.</pre>"
      ],
      "text/plain": [
       "Finalizing lookup tables."
      ]
     },
     "metadata": {},
     "output_type": "display_data"
    },
    {
     "data": {
      "text/html": [
       "<pre>Generating candidate set for working with new users.</pre>"
      ],
      "text/plain": [
       "Generating candidate set for working with new users."
      ]
     },
     "metadata": {},
     "output_type": "display_data"
    },
    {
     "data": {
      "text/html": [
       "<pre>Finished training in 0.295479s</pre>"
      ],
      "text/plain": [
       "Finished training in 0.295479s"
      ]
     },
     "metadata": {},
     "output_type": "display_data"
    }
   ],
   "source": [
    "personalized_model = graphlab.item_similarity_recommender.create(train_data,\n",
    "                                                                user_id='user_id',\n",
    "                                                                item_id='name')"
   ]
  },
  {
   "cell_type": "code",
   "execution_count": 54,
   "metadata": {
    "collapsed": false
   },
   "outputs": [
    {
     "data": {
      "text/html": [
       "<div style=\"max-height:1000px;max-width:1500px;overflow:auto;\"><table frame=\"box\" rules=\"cols\">\n",
       "    <tr>\n",
       "        <th style=\"padding-left: 1em; padding-right: 1em; text-align: center\">user_id</th>\n",
       "        <th style=\"padding-left: 1em; padding-right: 1em; text-align: center\">name</th>\n",
       "        <th style=\"padding-left: 1em; padding-right: 1em; text-align: center\">score</th>\n",
       "        <th style=\"padding-left: 1em; padding-right: 1em; text-align: center\">rank</th>\n",
       "    </tr>\n",
       "    <tr>\n",
       "        <td style=\"padding-left: 1em; padding-right: 1em; text-align: center; vertical-align: top\">1185276</td>\n",
       "        <td style=\"padding-left: 1em; padding-right: 1em; text-align: center; vertical-align: top\">JAF Facit</td>\n",
       "        <td style=\"padding-left: 1em; padding-right: 1em; text-align: center; vertical-align: top\">0.147065758705</td>\n",
       "        <td style=\"padding-left: 1em; padding-right: 1em; text-align: center; vertical-align: top\">1</td>\n",
       "    </tr>\n",
       "    <tr>\n",
       "        <td style=\"padding-left: 1em; padding-right: 1em; text-align: center; vertical-align: top\">1185276</td>\n",
       "        <td style=\"padding-left: 1em; padding-right: 1em; text-align: center; vertical-align: top\">FF Meta Pro</td>\n",
       "        <td style=\"padding-left: 1em; padding-right: 1em; text-align: center; vertical-align: top\">0.136319994926</td>\n",
       "        <td style=\"padding-left: 1em; padding-right: 1em; text-align: center; vertical-align: top\">2</td>\n",
       "    </tr>\n",
       "    <tr>\n",
       "        <td style=\"padding-left: 1em; padding-right: 1em; text-align: center; vertical-align: top\">1185276</td>\n",
       "        <td style=\"padding-left: 1em; padding-right: 1em; text-align: center; vertical-align: top\">Nimbus Sans</td>\n",
       "        <td style=\"padding-left: 1em; padding-right: 1em; text-align: center; vertical-align: top\">0.132813036442</td>\n",
       "        <td style=\"padding-left: 1em; padding-right: 1em; text-align: center; vertical-align: top\">3</td>\n",
       "    </tr>\n",
       "    <tr>\n",
       "        <td style=\"padding-left: 1em; padding-right: 1em; text-align: center; vertical-align: top\">1185276</td>\n",
       "        <td style=\"padding-left: 1em; padding-right: 1em; text-align: center; vertical-align: top\">FF Basic Gothic Pro</td>\n",
       "        <td style=\"padding-left: 1em; padding-right: 1em; text-align: center; vertical-align: top\">0.128679096699</td>\n",
       "        <td style=\"padding-left: 1em; padding-right: 1em; text-align: center; vertical-align: top\">4</td>\n",
       "    </tr>\n",
       "    <tr>\n",
       "        <td style=\"padding-left: 1em; padding-right: 1em; text-align: center; vertical-align: top\">1185276</td>\n",
       "        <td style=\"padding-left: 1em; padding-right: 1em; text-align: center; vertical-align: top\">Pragmatica</td>\n",
       "        <td style=\"padding-left: 1em; padding-right: 1em; text-align: center; vertical-align: top\">0.125231921673</td>\n",
       "        <td style=\"padding-left: 1em; padding-right: 1em; text-align: center; vertical-align: top\">5</td>\n",
       "    </tr>\n",
       "    <tr>\n",
       "        <td style=\"padding-left: 1em; padding-right: 1em; text-align: center; vertical-align: top\">1185276</td>\n",
       "        <td style=\"padding-left: 1em; padding-right: 1em; text-align: center; vertical-align: top\">Adelle Sans</td>\n",
       "        <td style=\"padding-left: 1em; padding-right: 1em; text-align: center; vertical-align: top\">0.121929585934</td>\n",
       "        <td style=\"padding-left: 1em; padding-right: 1em; text-align: center; vertical-align: top\">6</td>\n",
       "    </tr>\n",
       "    <tr>\n",
       "        <td style=\"padding-left: 1em; padding-right: 1em; text-align: center; vertical-align: top\">1185276</td>\n",
       "        <td style=\"padding-left: 1em; padding-right: 1em; text-align: center; vertical-align: top\">FF Meta Serif Pro</td>\n",
       "        <td style=\"padding-left: 1em; padding-right: 1em; text-align: center; vertical-align: top\">0.108607649803</td>\n",
       "        <td style=\"padding-left: 1em; padding-right: 1em; text-align: center; vertical-align: top\">7</td>\n",
       "    </tr>\n",
       "    <tr>\n",
       "        <td style=\"padding-left: 1em; padding-right: 1em; text-align: center; vertical-align: top\">1185276</td>\n",
       "        <td style=\"padding-left: 1em; padding-right: 1em; text-align: center; vertical-align: top\">Chaparral Pro</td>\n",
       "        <td style=\"padding-left: 1em; padding-right: 1em; text-align: center; vertical-align: top\">0.10846889019</td>\n",
       "        <td style=\"padding-left: 1em; padding-right: 1em; text-align: center; vertical-align: top\">8</td>\n",
       "    </tr>\n",
       "    <tr>\n",
       "        <td style=\"padding-left: 1em; padding-right: 1em; text-align: center; vertical-align: top\">1185276</td>\n",
       "        <td style=\"padding-left: 1em; padding-right: 1em; text-align: center; vertical-align: top\">FF Tisa Pro</td>\n",
       "        <td style=\"padding-left: 1em; padding-right: 1em; text-align: center; vertical-align: top\">0.107139885426</td>\n",
       "        <td style=\"padding-left: 1em; padding-right: 1em; text-align: center; vertical-align: top\">9</td>\n",
       "    </tr>\n",
       "    <tr>\n",
       "        <td style=\"padding-left: 1em; padding-right: 1em; text-align: center; vertical-align: top\">1185276</td>\n",
       "        <td style=\"padding-left: 1em; padding-right: 1em; text-align: center; vertical-align: top\">Runda</td>\n",
       "        <td style=\"padding-left: 1em; padding-right: 1em; text-align: center; vertical-align: top\">0.105015039444</td>\n",
       "        <td style=\"padding-left: 1em; padding-right: 1em; text-align: center; vertical-align: top\">10</td>\n",
       "    </tr>\n",
       "</table>\n",
       "[10 rows x 4 columns]<br/>\n",
       "</div>"
      ],
      "text/plain": [
       "Columns:\n",
       "\tuser_id\tint\n",
       "\tname\tstr\n",
       "\tscore\tfloat\n",
       "\trank\tint\n",
       "\n",
       "Rows: 10\n",
       "\n",
       "Data:\n",
       "+---------+---------------------+----------------+------+\n",
       "| user_id |         name        |     score      | rank |\n",
       "+---------+---------------------+----------------+------+\n",
       "| 1185276 |      JAF Facit      | 0.147065758705 |  1   |\n",
       "| 1185276 |     FF Meta Pro     | 0.136319994926 |  2   |\n",
       "| 1185276 |     Nimbus Sans     | 0.132813036442 |  3   |\n",
       "| 1185276 | FF Basic Gothic Pro | 0.128679096699 |  4   |\n",
       "| 1185276 |      Pragmatica     | 0.125231921673 |  5   |\n",
       "| 1185276 |     Adelle Sans     | 0.121929585934 |  6   |\n",
       "| 1185276 |  FF Meta Serif Pro  | 0.108607649803 |  7   |\n",
       "| 1185276 |    Chaparral Pro    | 0.10846889019  |  8   |\n",
       "| 1185276 |     FF Tisa Pro     | 0.107139885426 |  9   |\n",
       "| 1185276 |        Runda        | 0.105015039444 |  10  |\n",
       "+---------+---------------------+----------------+------+\n",
       "[10 rows x 4 columns]"
      ]
     },
     "execution_count": 54,
     "metadata": {},
     "output_type": "execute_result"
    }
   ],
   "source": [
    "personalized_model.recommend(users=[users[0]])"
   ]
  },
  {
   "cell_type": "code",
   "execution_count": 55,
   "metadata": {
    "collapsed": false
   },
   "outputs": [
    {
     "data": {
      "text/html": [
       "<div style=\"max-height:1000px;max-width:1500px;overflow:auto;\"><table frame=\"box\" rules=\"cols\">\n",
       "    <tr>\n",
       "        <th style=\"padding-left: 1em; padding-right: 1em; text-align: center\">user_id</th>\n",
       "        <th style=\"padding-left: 1em; padding-right: 1em; text-align: center\">name</th>\n",
       "        <th style=\"padding-left: 1em; padding-right: 1em; text-align: center\">score</th>\n",
       "        <th style=\"padding-left: 1em; padding-right: 1em; text-align: center\">rank</th>\n",
       "    </tr>\n",
       "    <tr>\n",
       "        <td style=\"padding-left: 1em; padding-right: 1em; text-align: center; vertical-align: top\">588617</td>\n",
       "        <td style=\"padding-left: 1em; padding-right: 1em; text-align: center; vertical-align: top\">FF Meta Serif Pro</td>\n",
       "        <td style=\"padding-left: 1em; padding-right: 1em; text-align: center; vertical-align: top\">0.191815853119</td>\n",
       "        <td style=\"padding-left: 1em; padding-right: 1em; text-align: center; vertical-align: top\">1</td>\n",
       "    </tr>\n",
       "    <tr>\n",
       "        <td style=\"padding-left: 1em; padding-right: 1em; text-align: center; vertical-align: top\">588617</td>\n",
       "        <td style=\"padding-left: 1em; padding-right: 1em; text-align: center; vertical-align: top\">FF Dagny Pro</td>\n",
       "        <td style=\"padding-left: 1em; padding-right: 1em; text-align: center; vertical-align: top\">0.136319994926</td>\n",
       "        <td style=\"padding-left: 1em; padding-right: 1em; text-align: center; vertical-align: top\">2</td>\n",
       "    </tr>\n",
       "    <tr>\n",
       "        <td style=\"padding-left: 1em; padding-right: 1em; text-align: center; vertical-align: top\">588617</td>\n",
       "        <td style=\"padding-left: 1em; padding-right: 1em; text-align: center; vertical-align: top\">JAF Facit</td>\n",
       "        <td style=\"padding-left: 1em; padding-right: 1em; text-align: center; vertical-align: top\">0.1249153018</td>\n",
       "        <td style=\"padding-left: 1em; padding-right: 1em; text-align: center; vertical-align: top\">3</td>\n",
       "    </tr>\n",
       "    <tr>\n",
       "        <td style=\"padding-left: 1em; padding-right: 1em; text-align: center; vertical-align: top\">588617</td>\n",
       "        <td style=\"padding-left: 1em; padding-right: 1em; text-align: center; vertical-align: top\">Freight Sans Pro</td>\n",
       "        <td style=\"padding-left: 1em; padding-right: 1em; text-align: center; vertical-align: top\">0.118398427963</td>\n",
       "        <td style=\"padding-left: 1em; padding-right: 1em; text-align: center; vertical-align: top\">4</td>\n",
       "    </tr>\n",
       "    <tr>\n",
       "        <td style=\"padding-left: 1em; padding-right: 1em; text-align: center; vertical-align: top\">588617</td>\n",
       "        <td style=\"padding-left: 1em; padding-right: 1em; text-align: center; vertical-align: top\">FF Tisa Pro</td>\n",
       "        <td style=\"padding-left: 1em; padding-right: 1em; text-align: center; vertical-align: top\">0.115496635437</td>\n",
       "        <td style=\"padding-left: 1em; padding-right: 1em; text-align: center; vertical-align: top\">5</td>\n",
       "    </tr>\n",
       "    <tr>\n",
       "        <td style=\"padding-left: 1em; padding-right: 1em; text-align: center; vertical-align: top\">588617</td>\n",
       "        <td style=\"padding-left: 1em; padding-right: 1em; text-align: center; vertical-align: top\">Chaparral Pro</td>\n",
       "        <td style=\"padding-left: 1em; padding-right: 1em; text-align: center; vertical-align: top\">0.104613244534</td>\n",
       "        <td style=\"padding-left: 1em; padding-right: 1em; text-align: center; vertical-align: top\">6</td>\n",
       "    </tr>\n",
       "    <tr>\n",
       "        <td style=\"padding-left: 1em; padding-right: 1em; text-align: center; vertical-align: top\">588617</td>\n",
       "        <td style=\"padding-left: 1em; padding-right: 1em; text-align: center; vertical-align: top\">Minion Pro</td>\n",
       "        <td style=\"padding-left: 1em; padding-right: 1em; text-align: center; vertical-align: top\">0.101375341415</td>\n",
       "        <td style=\"padding-left: 1em; padding-right: 1em; text-align: center; vertical-align: top\">7</td>\n",
       "    </tr>\n",
       "    <tr>\n",
       "        <td style=\"padding-left: 1em; padding-right: 1em; text-align: center; vertical-align: top\">588617</td>\n",
       "        <td style=\"padding-left: 1em; padding-right: 1em; text-align: center; vertical-align: top\">Myriad Pro</td>\n",
       "        <td style=\"padding-left: 1em; padding-right: 1em; text-align: center; vertical-align: top\">0.093156337738</td>\n",
       "        <td style=\"padding-left: 1em; padding-right: 1em; text-align: center; vertical-align: top\">8</td>\n",
       "    </tr>\n",
       "    <tr>\n",
       "        <td style=\"padding-left: 1em; padding-right: 1em; text-align: center; vertical-align: top\">588617</td>\n",
       "        <td style=\"padding-left: 1em; padding-right: 1em; text-align: center; vertical-align: top\">Jubilat</td>\n",
       "        <td style=\"padding-left: 1em; padding-right: 1em; text-align: center; vertical-align: top\">0.0926456451416</td>\n",
       "        <td style=\"padding-left: 1em; padding-right: 1em; text-align: center; vertical-align: top\">9</td>\n",
       "    </tr>\n",
       "    <tr>\n",
       "        <td style=\"padding-left: 1em; padding-right: 1em; text-align: center; vertical-align: top\">588617</td>\n",
       "        <td style=\"padding-left: 1em; padding-right: 1em; text-align: center; vertical-align: top\">FF Basic Gothic Pro</td>\n",
       "        <td style=\"padding-left: 1em; padding-right: 1em; text-align: center; vertical-align: top\">0.0909332036972</td>\n",
       "        <td style=\"padding-left: 1em; padding-right: 1em; text-align: center; vertical-align: top\">10</td>\n",
       "    </tr>\n",
       "</table>\n",
       "[10 rows x 4 columns]<br/>\n",
       "</div>"
      ],
      "text/plain": [
       "Columns:\n",
       "\tuser_id\tint\n",
       "\tname\tstr\n",
       "\tscore\tfloat\n",
       "\trank\tint\n",
       "\n",
       "Rows: 10\n",
       "\n",
       "Data:\n",
       "+---------+---------------------+-----------------+------+\n",
       "| user_id |         name        |      score      | rank |\n",
       "+---------+---------------------+-----------------+------+\n",
       "|  588617 |  FF Meta Serif Pro  |  0.191815853119 |  1   |\n",
       "|  588617 |     FF Dagny Pro    |  0.136319994926 |  2   |\n",
       "|  588617 |      JAF Facit      |   0.1249153018  |  3   |\n",
       "|  588617 |   Freight Sans Pro  |  0.118398427963 |  4   |\n",
       "|  588617 |     FF Tisa Pro     |  0.115496635437 |  5   |\n",
       "|  588617 |    Chaparral Pro    |  0.104613244534 |  6   |\n",
       "|  588617 |      Minion Pro     |  0.101375341415 |  7   |\n",
       "|  588617 |      Myriad Pro     |  0.093156337738 |  8   |\n",
       "|  588617 |       Jubilat       | 0.0926456451416 |  9   |\n",
       "|  588617 | FF Basic Gothic Pro | 0.0909332036972 |  10  |\n",
       "+---------+---------------------+-----------------+------+\n",
       "[10 rows x 4 columns]"
      ]
     },
     "execution_count": 55,
     "metadata": {},
     "output_type": "execute_result"
    }
   ],
   "source": [
    "personalized_model.recommend(users=[users[1]])"
   ]
  },
  {
   "cell_type": "code",
   "execution_count": 56,
   "metadata": {
    "collapsed": false
   },
   "outputs": [
    {
     "data": {
      "text/html": [
       "<div style=\"max-height:1000px;max-width:1500px;overflow:auto;\"><table frame=\"box\" rules=\"cols\">\n",
       "    <tr>\n",
       "        <th style=\"padding-left: 1em; padding-right: 1em; text-align: center\">name</th>\n",
       "        <th style=\"padding-left: 1em; padding-right: 1em; text-align: center\">similar</th>\n",
       "        <th style=\"padding-left: 1em; padding-right: 1em; text-align: center\">score</th>\n",
       "        <th style=\"padding-left: 1em; padding-right: 1em; text-align: center\">rank</th>\n",
       "    </tr>\n",
       "    <tr>\n",
       "        <td style=\"padding-left: 1em; padding-right: 1em; text-align: center; vertical-align: top\">Proxima Nova</td>\n",
       "        <td style=\"padding-left: 1em; padding-right: 1em; text-align: center; vertical-align: top\">Futura PT</td>\n",
       "        <td style=\"padding-left: 1em; padding-right: 1em; text-align: center; vertical-align: top\">0.146904230118</td>\n",
       "        <td style=\"padding-left: 1em; padding-right: 1em; text-align: center; vertical-align: top\">1</td>\n",
       "    </tr>\n",
       "    <tr>\n",
       "        <td style=\"padding-left: 1em; padding-right: 1em; text-align: center; vertical-align: top\">Proxima Nova</td>\n",
       "        <td style=\"padding-left: 1em; padding-right: 1em; text-align: center; vertical-align: top\">Museo Sans</td>\n",
       "        <td style=\"padding-left: 1em; padding-right: 1em; text-align: center; vertical-align: top\">0.135573089123</td>\n",
       "        <td style=\"padding-left: 1em; padding-right: 1em; text-align: center; vertical-align: top\">2</td>\n",
       "    </tr>\n",
       "    <tr>\n",
       "        <td style=\"padding-left: 1em; padding-right: 1em; text-align: center; vertical-align: top\">Proxima Nova</td>\n",
       "        <td style=\"padding-left: 1em; padding-right: 1em; text-align: center; vertical-align: top\">Brandon Grotesque</td>\n",
       "        <td style=\"padding-left: 1em; padding-right: 1em; text-align: center; vertical-align: top\">0.123706042767</td>\n",
       "        <td style=\"padding-left: 1em; padding-right: 1em; text-align: center; vertical-align: top\">3</td>\n",
       "    </tr>\n",
       "    <tr>\n",
       "        <td style=\"padding-left: 1em; padding-right: 1em; text-align: center; vertical-align: top\">Proxima Nova</td>\n",
       "        <td style=\"padding-left: 1em; padding-right: 1em; text-align: center; vertical-align: top\">Museo Slab</td>\n",
       "        <td style=\"padding-left: 1em; padding-right: 1em; text-align: center; vertical-align: top\">0.115363776684</td>\n",
       "        <td style=\"padding-left: 1em; padding-right: 1em; text-align: center; vertical-align: top\">4</td>\n",
       "    </tr>\n",
       "    <tr>\n",
       "        <td style=\"padding-left: 1em; padding-right: 1em; text-align: center; vertical-align: top\">Proxima Nova</td>\n",
       "        <td style=\"padding-left: 1em; padding-right: 1em; text-align: center; vertical-align: top\">Adelle</td>\n",
       "        <td style=\"padding-left: 1em; padding-right: 1em; text-align: center; vertical-align: top\">0.105919361115</td>\n",
       "        <td style=\"padding-left: 1em; padding-right: 1em; text-align: center; vertical-align: top\">5</td>\n",
       "    </tr>\n",
       "    <tr>\n",
       "        <td style=\"padding-left: 1em; padding-right: 1em; text-align: center; vertical-align: top\">Proxima Nova</td>\n",
       "        <td style=\"padding-left: 1em; padding-right: 1em; text-align: center; vertical-align: top\">JAF Facit</td>\n",
       "        <td style=\"padding-left: 1em; padding-right: 1em; text-align: center; vertical-align: top\">0.101663649082</td>\n",
       "        <td style=\"padding-left: 1em; padding-right: 1em; text-align: center; vertical-align: top\">6</td>\n",
       "    </tr>\n",
       "    <tr>\n",
       "        <td style=\"padding-left: 1em; padding-right: 1em; text-align: center; vertical-align: top\">Proxima Nova</td>\n",
       "        <td style=\"padding-left: 1em; padding-right: 1em; text-align: center; vertical-align: top\">Adelle Sans</td>\n",
       "        <td style=\"padding-left: 1em; padding-right: 1em; text-align: center; vertical-align: top\">0.0970925688744</td>\n",
       "        <td style=\"padding-left: 1em; padding-right: 1em; text-align: center; vertical-align: top\">7</td>\n",
       "    </tr>\n",
       "    <tr>\n",
       "        <td style=\"padding-left: 1em; padding-right: 1em; text-align: center; vertical-align: top\">Proxima Nova</td>\n",
       "        <td style=\"padding-left: 1em; padding-right: 1em; text-align: center; vertical-align: top\">Nimbus Sans</td>\n",
       "        <td style=\"padding-left: 1em; padding-right: 1em; text-align: center; vertical-align: top\">0.0957683324814</td>\n",
       "        <td style=\"padding-left: 1em; padding-right: 1em; text-align: center; vertical-align: top\">8</td>\n",
       "    </tr>\n",
       "    <tr>\n",
       "        <td style=\"padding-left: 1em; padding-right: 1em; text-align: center; vertical-align: top\">Proxima Nova</td>\n",
       "        <td style=\"padding-left: 1em; padding-right: 1em; text-align: center; vertical-align: top\">FF Tisa Pro</td>\n",
       "        <td style=\"padding-left: 1em; padding-right: 1em; text-align: center; vertical-align: top\">0.0880673527718</td>\n",
       "        <td style=\"padding-left: 1em; padding-right: 1em; text-align: center; vertical-align: top\">9</td>\n",
       "    </tr>\n",
       "    <tr>\n",
       "        <td style=\"padding-left: 1em; padding-right: 1em; text-align: center; vertical-align: top\">Proxima Nova</td>\n",
       "        <td style=\"padding-left: 1em; padding-right: 1em; text-align: center; vertical-align: top\">Raleway</td>\n",
       "        <td style=\"padding-left: 1em; padding-right: 1em; text-align: center; vertical-align: top\">0.0855421423912</td>\n",
       "        <td style=\"padding-left: 1em; padding-right: 1em; text-align: center; vertical-align: top\">10</td>\n",
       "    </tr>\n",
       "</table>\n",
       "[10 rows x 4 columns]<br/>\n",
       "</div>"
      ],
      "text/plain": [
       "Columns:\n",
       "\tname\tstr\n",
       "\tsimilar\tstr\n",
       "\tscore\tfloat\n",
       "\trank\tint\n",
       "\n",
       "Rows: 10\n",
       "\n",
       "Data:\n",
       "+--------------+-------------------+-----------------+------+\n",
       "|     name     |      similar      |      score      | rank |\n",
       "+--------------+-------------------+-----------------+------+\n",
       "| Proxima Nova |     Futura PT     |  0.146904230118 |  1   |\n",
       "| Proxima Nova |     Museo Sans    |  0.135573089123 |  2   |\n",
       "| Proxima Nova | Brandon Grotesque |  0.123706042767 |  3   |\n",
       "| Proxima Nova |     Museo Slab    |  0.115363776684 |  4   |\n",
       "| Proxima Nova |       Adelle      |  0.105919361115 |  5   |\n",
       "| Proxima Nova |     JAF Facit     |  0.101663649082 |  6   |\n",
       "| Proxima Nova |    Adelle Sans    | 0.0970925688744 |  7   |\n",
       "| Proxima Nova |    Nimbus Sans    | 0.0957683324814 |  8   |\n",
       "| Proxima Nova |    FF Tisa Pro    | 0.0880673527718 |  9   |\n",
       "| Proxima Nova |      Raleway      | 0.0855421423912 |  10  |\n",
       "+--------------+-------------------+-----------------+------+\n",
       "[10 rows x 4 columns]"
      ]
     },
     "execution_count": 56,
     "metadata": {},
     "output_type": "execute_result"
    }
   ],
   "source": [
    "personalized_model.get_similar_items(['Proxima Nova'])"
   ]
  },
  {
   "cell_type": "code",
   "execution_count": 57,
   "metadata": {
    "collapsed": false
   },
   "outputs": [
    {
     "data": {
      "text/html": [
       "<div style=\"max-height:1000px;max-width:1500px;overflow:auto;\"><table frame=\"box\" rules=\"cols\">\n",
       "    <tr>\n",
       "        <th style=\"padding-left: 1em; padding-right: 1em; text-align: center\">user_id</th>\n",
       "        <th style=\"padding-left: 1em; padding-right: 1em; text-align: center\">name</th>\n",
       "        <th style=\"padding-left: 1em; padding-right: 1em; text-align: center\">score</th>\n",
       "        <th style=\"padding-left: 1em; padding-right: 1em; text-align: center\">rank</th>\n",
       "    </tr>\n",
       "    <tr>\n",
       "        <td style=\"padding-left: 1em; padding-right: 1em; text-align: center; vertical-align: top\">689434</td>\n",
       "        <td style=\"padding-left: 1em; padding-right: 1em; text-align: center; vertical-align: top\">FF Tisa Pro</td>\n",
       "        <td style=\"padding-left: 1em; padding-right: 1em; text-align: center; vertical-align: top\">0.0662965079149</td>\n",
       "        <td style=\"padding-left: 1em; padding-right: 1em; text-align: center; vertical-align: top\">1</td>\n",
       "    </tr>\n",
       "    <tr>\n",
       "        <td style=\"padding-left: 1em; padding-right: 1em; text-align: center; vertical-align: top\">689434</td>\n",
       "        <td style=\"padding-left: 1em; padding-right: 1em; text-align: center; vertical-align: top\">Chaparral Pro</td>\n",
       "        <td style=\"padding-left: 1em; padding-right: 1em; text-align: center; vertical-align: top\">0.0595313078827</td>\n",
       "        <td style=\"padding-left: 1em; padding-right: 1em; text-align: center; vertical-align: top\">2</td>\n",
       "    </tr>\n",
       "    <tr>\n",
       "        <td style=\"padding-left: 1em; padding-right: 1em; text-align: center; vertical-align: top\">689434</td>\n",
       "        <td style=\"padding-left: 1em; padding-right: 1em; text-align: center; vertical-align: top\">Museo</td>\n",
       "        <td style=\"padding-left: 1em; padding-right: 1em; text-align: center; vertical-align: top\">0.0570585760805</td>\n",
       "        <td style=\"padding-left: 1em; padding-right: 1em; text-align: center; vertical-align: top\">3</td>\n",
       "    </tr>\n",
       "    <tr>\n",
       "        <td style=\"padding-left: 1em; padding-right: 1em; text-align: center; vertical-align: top\">689434</td>\n",
       "        <td style=\"padding-left: 1em; padding-right: 1em; text-align: center; vertical-align: top\">Freight Sans Pro</td>\n",
       "        <td style=\"padding-left: 1em; padding-right: 1em; text-align: center; vertical-align: top\">0.0487982696957</td>\n",
       "        <td style=\"padding-left: 1em; padding-right: 1em; text-align: center; vertical-align: top\">4</td>\n",
       "    </tr>\n",
       "    <tr>\n",
       "        <td style=\"padding-left: 1em; padding-right: 1em; text-align: center; vertical-align: top\">689434</td>\n",
       "        <td style=\"padding-left: 1em; padding-right: 1em; text-align: center; vertical-align: top\">Jubilat</td>\n",
       "        <td style=\"padding-left: 1em; padding-right: 1em; text-align: center; vertical-align: top\">0.0485788782438</td>\n",
       "        <td style=\"padding-left: 1em; padding-right: 1em; text-align: center; vertical-align: top\">5</td>\n",
       "    </tr>\n",
       "    <tr>\n",
       "        <td style=\"padding-left: 1em; padding-right: 1em; text-align: center; vertical-align: top\">689434</td>\n",
       "        <td style=\"padding-left: 1em; padding-right: 1em; text-align: center; vertical-align: top\">Adelle Sans</td>\n",
       "        <td style=\"padding-left: 1em; padding-right: 1em; text-align: center; vertical-align: top\">0.0460872848829</td>\n",
       "        <td style=\"padding-left: 1em; padding-right: 1em; text-align: center; vertical-align: top\">6</td>\n",
       "    </tr>\n",
       "    <tr>\n",
       "        <td style=\"padding-left: 1em; padding-right: 1em; text-align: center; vertical-align: top\">689434</td>\n",
       "        <td style=\"padding-left: 1em; padding-right: 1em; text-align: center; vertical-align: top\">JAF Facit</td>\n",
       "        <td style=\"padding-left: 1em; padding-right: 1em; text-align: center; vertical-align: top\">0.0440279940764</td>\n",
       "        <td style=\"padding-left: 1em; padding-right: 1em; text-align: center; vertical-align: top\">7</td>\n",
       "    </tr>\n",
       "    <tr>\n",
       "        <td style=\"padding-left: 1em; padding-right: 1em; text-align: center; vertical-align: top\">689434</td>\n",
       "        <td style=\"padding-left: 1em; padding-right: 1em; text-align: center; vertical-align: top\">FF Meta Pro</td>\n",
       "        <td style=\"padding-left: 1em; padding-right: 1em; text-align: center; vertical-align: top\">0.0429391331143</td>\n",
       "        <td style=\"padding-left: 1em; padding-right: 1em; text-align: center; vertical-align: top\">8</td>\n",
       "    </tr>\n",
       "    <tr>\n",
       "        <td style=\"padding-left: 1em; padding-right: 1em; text-align: center; vertical-align: top\">689434</td>\n",
       "        <td style=\"padding-left: 1em; padding-right: 1em; text-align: center; vertical-align: top\">Myriad Pro</td>\n",
       "        <td style=\"padding-left: 1em; padding-right: 1em; text-align: center; vertical-align: top\">0.0408955117067</td>\n",
       "        <td style=\"padding-left: 1em; padding-right: 1em; text-align: center; vertical-align: top\">9</td>\n",
       "    </tr>\n",
       "    <tr>\n",
       "        <td style=\"padding-left: 1em; padding-right: 1em; text-align: center; vertical-align: top\">689434</td>\n",
       "        <td style=\"padding-left: 1em; padding-right: 1em; text-align: center; vertical-align: top\">Proxima Nova</td>\n",
       "        <td style=\"padding-left: 1em; padding-right: 1em; text-align: center; vertical-align: top\">0.0403497417768</td>\n",
       "        <td style=\"padding-left: 1em; padding-right: 1em; text-align: center; vertical-align: top\">10</td>\n",
       "    </tr>\n",
       "</table>\n",
       "[10 rows x 4 columns]<br/>\n",
       "</div>"
      ],
      "text/plain": [
       "Columns:\n",
       "\tuser_id\tint\n",
       "\tname\tstr\n",
       "\tscore\tfloat\n",
       "\trank\tint\n",
       "\n",
       "Rows: 10\n",
       "\n",
       "Data:\n",
       "+---------+------------------+-----------------+------+\n",
       "| user_id |       name       |      score      | rank |\n",
       "+---------+------------------+-----------------+------+\n",
       "|  689434 |   FF Tisa Pro    | 0.0662965079149 |  1   |\n",
       "|  689434 |  Chaparral Pro   | 0.0595313078827 |  2   |\n",
       "|  689434 |      Museo       | 0.0570585760805 |  3   |\n",
       "|  689434 | Freight Sans Pro | 0.0487982696957 |  4   |\n",
       "|  689434 |     Jubilat      | 0.0485788782438 |  5   |\n",
       "|  689434 |   Adelle Sans    | 0.0460872848829 |  6   |\n",
       "|  689434 |    JAF Facit     | 0.0440279940764 |  7   |\n",
       "|  689434 |   FF Meta Pro    | 0.0429391331143 |  8   |\n",
       "|  689434 |    Myriad Pro    | 0.0408955117067 |  9   |\n",
       "|  689434 |   Proxima Nova   | 0.0403497417768 |  10  |\n",
       "+---------+------------------+-----------------+------+\n",
       "[10 rows x 4 columns]"
      ]
     },
     "execution_count": 57,
     "metadata": {},
     "output_type": "execute_result"
    }
   ],
   "source": [
    "personalized_model.recommend(users=[689434])"
   ]
  },
  {
   "cell_type": "code",
   "execution_count": 73,
   "metadata": {
    "collapsed": false
   },
   "outputs": [
    {
     "data": {
      "text/html": [
       "<div style=\"max-height:1000px;max-width:1500px;overflow:auto;\"><table frame=\"box\" rules=\"cols\">\n",
       "    <tr>\n",
       "        <th style=\"padding-left: 1em; padding-right: 1em; text-align: center\">user_id</th>\n",
       "        <th style=\"padding-left: 1em; padding-right: 1em; text-align: center\">name</th>\n",
       "    </tr>\n",
       "    <tr>\n",
       "        <td style=\"padding-left: 1em; padding-right: 1em; text-align: center; vertical-align: top\">689434</td>\n",
       "        <td style=\"padding-left: 1em; padding-right: 1em; text-align: center; vertical-align: top\">Telefon Web</td>\n",
       "    </tr>\n",
       "    <tr>\n",
       "        <td style=\"padding-left: 1em; padding-right: 1em; text-align: center; vertical-align: top\">689434</td>\n",
       "        <td style=\"padding-left: 1em; padding-right: 1em; text-align: center; vertical-align: top\">Kulturista Web</td>\n",
       "    </tr>\n",
       "    <tr>\n",
       "        <td style=\"padding-left: 1em; padding-right: 1em; text-align: center; vertical-align: top\">689434</td>\n",
       "        <td style=\"padding-left: 1em; padding-right: 1em; text-align: center; vertical-align: top\">Omnes Pro</td>\n",
       "    </tr>\n",
       "    <tr>\n",
       "        <td style=\"padding-left: 1em; padding-right: 1em; text-align: center; vertical-align: top\">689434</td>\n",
       "        <td style=\"padding-left: 1em; padding-right: 1em; text-align: center; vertical-align: top\">John Doe</td>\n",
       "    </tr>\n",
       "    <tr>\n",
       "        <td style=\"padding-left: 1em; padding-right: 1em; text-align: center; vertical-align: top\">689434</td>\n",
       "        <td style=\"padding-left: 1em; padding-right: 1em; text-align: center; vertical-align: top\">Nimbus Sans Condensed</td>\n",
       "    </tr>\n",
       "    <tr>\n",
       "        <td style=\"padding-left: 1em; padding-right: 1em; text-align: center; vertical-align: top\">689434</td>\n",
       "        <td style=\"padding-left: 1em; padding-right: 1em; text-align: center; vertical-align: top\">Brandon Grotesque</td>\n",
       "    </tr>\n",
       "    <tr>\n",
       "        <td style=\"padding-left: 1em; padding-right: 1em; text-align: center; vertical-align: top\">689434</td>\n",
       "        <td style=\"padding-left: 1em; padding-right: 1em; text-align: center; vertical-align: top\">Adobe Garamond Pro</td>\n",
       "    </tr>\n",
       "    <tr>\n",
       "        <td style=\"padding-left: 1em; padding-right: 1em; text-align: center; vertical-align: top\">689434</td>\n",
       "        <td style=\"padding-left: 1em; padding-right: 1em; text-align: center; vertical-align: top\">Ambroise Std</td>\n",
       "    </tr>\n",
       "    <tr>\n",
       "        <td style=\"padding-left: 1em; padding-right: 1em; text-align: center; vertical-align: top\">689434</td>\n",
       "        <td style=\"padding-left: 1em; padding-right: 1em; text-align: center; vertical-align: top\">Museo Slab</td>\n",
       "    </tr>\n",
       "    <tr>\n",
       "        <td style=\"padding-left: 1em; padding-right: 1em; text-align: center; vertical-align: top\">689434</td>\n",
       "        <td style=\"padding-left: 1em; padding-right: 1em; text-align: center; vertical-align: top\">Calluna Sans</td>\n",
       "    </tr>\n",
       "</table>\n",
       "[? rows x 2 columns]<br/>Note: Only the head of the SFrame is printed. This SFrame is lazily evaluated.<br/>You can use sf.materialize() to force materialization.\n",
       "</div>"
      ],
      "text/plain": [
       "Columns:\n",
       "\tuser_id\tint\n",
       "\tname\tstr\n",
       "\n",
       "Rows: Unknown\n",
       "\n",
       "Data:\n",
       "+---------+-----------------------+\n",
       "| user_id |          name         |\n",
       "+---------+-----------------------+\n",
       "|  689434 |      Telefon Web      |\n",
       "|  689434 |     Kulturista Web    |\n",
       "|  689434 |       Omnes Pro       |\n",
       "|  689434 |        John Doe       |\n",
       "|  689434 | Nimbus Sans Condensed |\n",
       "|  689434 |   Brandon Grotesque   |\n",
       "|  689434 |   Adobe Garamond Pro  |\n",
       "|  689434 |      Ambroise Std     |\n",
       "|  689434 |       Museo Slab      |\n",
       "|  689434 |      Calluna Sans     |\n",
       "+---------+-----------------------+\n",
       "[? rows x 2 columns]\n",
       "Note: Only the head of the SFrame is printed. This SFrame is lazily evaluated.\n",
       "You can use sf.materialize() to force materialization."
      ]
     },
     "execution_count": 73,
     "metadata": {},
     "output_type": "execute_result"
    }
   ],
   "source": [
    "favorites_data[favorites_data['user_id'] == 689434]"
   ]
  },
  {
   "cell_type": "code",
   "execution_count": 67,
   "metadata": {
    "collapsed": false
   },
   "outputs": [
    {
     "data": {
      "text/html": [
       "<div style=\"max-height:1000px;max-width:1500px;overflow:auto;\"><table frame=\"box\" rules=\"cols\">\n",
       "    <tr>\n",
       "        <th style=\"padding-left: 1em; padding-right: 1em; text-align: center\">user_id</th>\n",
       "        <th style=\"padding-left: 1em; padding-right: 1em; text-align: center\">name</th>\n",
       "        <th style=\"padding-left: 1em; padding-right: 1em; text-align: center\">score</th>\n",
       "        <th style=\"padding-left: 1em; padding-right: 1em; text-align: center\">rank</th>\n",
       "    </tr>\n",
       "    <tr>\n",
       "        <td style=\"padding-left: 1em; padding-right: 1em; text-align: center; vertical-align: top\">123012301923</td>\n",
       "        <td style=\"padding-left: 1em; padding-right: 1em; text-align: center; vertical-align: top\">Museo Sans</td>\n",
       "        <td style=\"padding-left: 1em; padding-right: 1em; text-align: center; vertical-align: top\">0.0571480643749</td>\n",
       "        <td style=\"padding-left: 1em; padding-right: 1em; text-align: center; vertical-align: top\">1</td>\n",
       "    </tr>\n",
       "    <tr>\n",
       "        <td style=\"padding-left: 1em; padding-right: 1em; text-align: center; vertical-align: top\">123012301923</td>\n",
       "        <td style=\"padding-left: 1em; padding-right: 1em; text-align: center; vertical-align: top\">Adelle</td>\n",
       "        <td style=\"padding-left: 1em; padding-right: 1em; text-align: center; vertical-align: top\">0.0566131615639</td>\n",
       "        <td style=\"padding-left: 1em; padding-right: 1em; text-align: center; vertical-align: top\">2</td>\n",
       "    </tr>\n",
       "    <tr>\n",
       "        <td style=\"padding-left: 1em; padding-right: 1em; text-align: center; vertical-align: top\">123012301923</td>\n",
       "        <td style=\"padding-left: 1em; padding-right: 1em; text-align: center; vertical-align: top\">Museo Slab</td>\n",
       "        <td style=\"padding-left: 1em; padding-right: 1em; text-align: center; vertical-align: top\">0.0554517483711</td>\n",
       "        <td style=\"padding-left: 1em; padding-right: 1em; text-align: center; vertical-align: top\">3</td>\n",
       "    </tr>\n",
       "    <tr>\n",
       "        <td style=\"padding-left: 1em; padding-right: 1em; text-align: center; vertical-align: top\">123012301923</td>\n",
       "        <td style=\"padding-left: 1em; padding-right: 1em; text-align: center; vertical-align: top\">FF Tisa Pro</td>\n",
       "        <td style=\"padding-left: 1em; padding-right: 1em; text-align: center; vertical-align: top\">0.0535003447533</td>\n",
       "        <td style=\"padding-left: 1em; padding-right: 1em; text-align: center; vertical-align: top\">4</td>\n",
       "    </tr>\n",
       "    <tr>\n",
       "        <td style=\"padding-left: 1em; padding-right: 1em; text-align: center; vertical-align: top\">123012301923</td>\n",
       "        <td style=\"padding-left: 1em; padding-right: 1em; text-align: center; vertical-align: top\">Museo</td>\n",
       "        <td style=\"padding-left: 1em; padding-right: 1em; text-align: center; vertical-align: top\">0.052758038044</td>\n",
       "        <td style=\"padding-left: 1em; padding-right: 1em; text-align: center; vertical-align: top\">5</td>\n",
       "    </tr>\n",
       "    <tr>\n",
       "        <td style=\"padding-left: 1em; padding-right: 1em; text-align: center; vertical-align: top\">123012301923</td>\n",
       "        <td style=\"padding-left: 1em; padding-right: 1em; text-align: center; vertical-align: top\">Chaparral Pro</td>\n",
       "        <td style=\"padding-left: 1em; padding-right: 1em; text-align: center; vertical-align: top\">0.0525417244434</td>\n",
       "        <td style=\"padding-left: 1em; padding-right: 1em; text-align: center; vertical-align: top\">6</td>\n",
       "    </tr>\n",
       "    <tr>\n",
       "        <td style=\"padding-left: 1em; padding-right: 1em; text-align: center; vertical-align: top\">123012301923</td>\n",
       "        <td style=\"padding-left: 1em; padding-right: 1em; text-align: center; vertical-align: top\">JAF Facit</td>\n",
       "        <td style=\"padding-left: 1em; padding-right: 1em; text-align: center; vertical-align: top\">0.0515640521049</td>\n",
       "        <td style=\"padding-left: 1em; padding-right: 1em; text-align: center; vertical-align: top\">7</td>\n",
       "    </tr>\n",
       "    <tr>\n",
       "        <td style=\"padding-left: 1em; padding-right: 1em; text-align: center; vertical-align: top\">123012301923</td>\n",
       "        <td style=\"padding-left: 1em; padding-right: 1em; text-align: center; vertical-align: top\">Futura PT</td>\n",
       "        <td style=\"padding-left: 1em; padding-right: 1em; text-align: center; vertical-align: top\">0.0479981565475</td>\n",
       "        <td style=\"padding-left: 1em; padding-right: 1em; text-align: center; vertical-align: top\">8</td>\n",
       "    </tr>\n",
       "    <tr>\n",
       "        <td style=\"padding-left: 1em; padding-right: 1em; text-align: center; vertical-align: top\">123012301923</td>\n",
       "        <td style=\"padding-left: 1em; padding-right: 1em; text-align: center; vertical-align: top\">Myriad Pro</td>\n",
       "        <td style=\"padding-left: 1em; padding-right: 1em; text-align: center; vertical-align: top\">0.0474645197392</td>\n",
       "        <td style=\"padding-left: 1em; padding-right: 1em; text-align: center; vertical-align: top\">9</td>\n",
       "    </tr>\n",
       "    <tr>\n",
       "        <td style=\"padding-left: 1em; padding-right: 1em; text-align: center; vertical-align: top\">123012301923</td>\n",
       "        <td style=\"padding-left: 1em; padding-right: 1em; text-align: center; vertical-align: top\">Freight Sans Pro</td>\n",
       "        <td style=\"padding-left: 1em; padding-right: 1em; text-align: center; vertical-align: top\">0.0474080789089</td>\n",
       "        <td style=\"padding-left: 1em; padding-right: 1em; text-align: center; vertical-align: top\">10</td>\n",
       "    </tr>\n",
       "</table>\n",
       "[10 rows x 4 columns]<br/>\n",
       "</div>"
      ],
      "text/plain": [
       "Columns:\n",
       "\tuser_id\tint\n",
       "\tname\tstr\n",
       "\tscore\tfloat\n",
       "\trank\tint\n",
       "\n",
       "Rows: 10\n",
       "\n",
       "Data:\n",
       "+--------------+------------------+-----------------+------+\n",
       "|   user_id    |       name       |      score      | rank |\n",
       "+--------------+------------------+-----------------+------+\n",
       "| 123012301923 |    Museo Sans    | 0.0571480643749 |  1   |\n",
       "| 123012301923 |      Adelle      | 0.0566131615639 |  2   |\n",
       "| 123012301923 |    Museo Slab    | 0.0554517483711 |  3   |\n",
       "| 123012301923 |   FF Tisa Pro    | 0.0535003447533 |  4   |\n",
       "| 123012301923 |      Museo       |  0.052758038044 |  5   |\n",
       "| 123012301923 |  Chaparral Pro   | 0.0525417244434 |  6   |\n",
       "| 123012301923 |    JAF Facit     | 0.0515640521049 |  7   |\n",
       "| 123012301923 |    Futura PT     | 0.0479981565475 |  8   |\n",
       "| 123012301923 |    Myriad Pro    | 0.0474645197392 |  9   |\n",
       "| 123012301923 | Freight Sans Pro | 0.0474080789089 |  10  |\n",
       "+--------------+------------------+-----------------+------+\n",
       "[10 rows x 4 columns]"
      ]
     },
     "execution_count": 67,
     "metadata": {},
     "output_type": "execute_result"
    }
   ],
   "source": [
    "personalized_model.recommend(users=[123012301923])"
   ]
  },
  {
   "cell_type": "code",
   "execution_count": 62,
   "metadata": {
    "collapsed": false
   },
   "outputs": [],
   "source": [
    "favorites = favorites_data.groupby(key_columns='name', operations={'count': graphlab.aggregate.COUNT()})\n"
   ]
  },
  {
   "cell_type": "code",
   "execution_count": 63,
   "metadata": {
    "collapsed": false
   },
   "outputs": [
    {
     "data": {
      "text/html": [
       "<div style=\"max-height:1000px;max-width:1500px;overflow:auto;\"><table frame=\"box\" rules=\"cols\">\n",
       "    <tr>\n",
       "        <th style=\"padding-left: 1em; padding-right: 1em; text-align: center\">name</th>\n",
       "        <th style=\"padding-left: 1em; padding-right: 1em; text-align: center\">count</th>\n",
       "    </tr>\n",
       "    <tr>\n",
       "        <td style=\"padding-left: 1em; padding-right: 1em; text-align: center; vertical-align: top\">Proxima Nova</td>\n",
       "        <td style=\"padding-left: 1em; padding-right: 1em; text-align: center; vertical-align: top\">36225</td>\n",
       "    </tr>\n",
       "    <tr>\n",
       "        <td style=\"padding-left: 1em; padding-right: 1em; text-align: center; vertical-align: top\">Futura PT</td>\n",
       "        <td style=\"padding-left: 1em; padding-right: 1em; text-align: center; vertical-align: top\">27284</td>\n",
       "    </tr>\n",
       "    <tr>\n",
       "        <td style=\"padding-left: 1em; padding-right: 1em; text-align: center; vertical-align: top\">Brandon Grotesque</td>\n",
       "        <td style=\"padding-left: 1em; padding-right: 1em; text-align: center; vertical-align: top\">20846</td>\n",
       "    </tr>\n",
       "    <tr>\n",
       "        <td style=\"padding-left: 1em; padding-right: 1em; text-align: center; vertical-align: top\">Museo Sans</td>\n",
       "        <td style=\"padding-left: 1em; padding-right: 1em; text-align: center; vertical-align: top\">18810</td>\n",
       "    </tr>\n",
       "    <tr>\n",
       "        <td style=\"padding-left: 1em; padding-right: 1em; text-align: center; vertical-align: top\">Museo Slab</td>\n",
       "        <td style=\"padding-left: 1em; padding-right: 1em; text-align: center; vertical-align: top\">17950</td>\n",
       "    </tr>\n",
       "    <tr>\n",
       "        <td style=\"padding-left: 1em; padding-right: 1em; text-align: center; vertical-align: top\">Adelle</td>\n",
       "        <td style=\"padding-left: 1em; padding-right: 1em; text-align: center; vertical-align: top\">15539</td>\n",
       "    </tr>\n",
       "    <tr>\n",
       "        <td style=\"padding-left: 1em; padding-right: 1em; text-align: center; vertical-align: top\">Fira Sans 2</td>\n",
       "        <td style=\"padding-left: 1em; padding-right: 1em; text-align: center; vertical-align: top\">14972</td>\n",
       "    </tr>\n",
       "    <tr>\n",
       "        <td style=\"padding-left: 1em; padding-right: 1em; text-align: center; vertical-align: top\">Sail</td>\n",
       "        <td style=\"padding-left: 1em; padding-right: 1em; text-align: center; vertical-align: top\">14129</td>\n",
       "    </tr>\n",
       "    <tr>\n",
       "        <td style=\"padding-left: 1em; padding-right: 1em; text-align: center; vertical-align: top\">Nimbus Sans</td>\n",
       "        <td style=\"padding-left: 1em; padding-right: 1em; text-align: center; vertical-align: top\">13784</td>\n",
       "    </tr>\n",
       "    <tr>\n",
       "        <td style=\"padding-left: 1em; padding-right: 1em; text-align: center; vertical-align: top\">Grafolita Script</td>\n",
       "        <td style=\"padding-left: 1em; padding-right: 1em; text-align: center; vertical-align: top\">13310</td>\n",
       "    </tr>\n",
       "</table>\n",
       "[1859 rows x 2 columns]<br/>Note: Only the head of the SFrame is printed.<br/>You can use print_rows(num_rows=m, num_columns=n) to print more rows and columns.\n",
       "</div>"
      ],
      "text/plain": [
       "Columns:\n",
       "\tname\tstr\n",
       "\tcount\tint\n",
       "\n",
       "Rows: 1859\n",
       "\n",
       "Data:\n",
       "+-------------------+-------+\n",
       "|        name       | count |\n",
       "+-------------------+-------+\n",
       "|    Proxima Nova   | 36225 |\n",
       "|     Futura PT     | 27284 |\n",
       "| Brandon Grotesque | 20846 |\n",
       "|     Museo Sans    | 18810 |\n",
       "|     Museo Slab    | 17950 |\n",
       "|       Adelle      | 15539 |\n",
       "|    Fira Sans 2    | 14972 |\n",
       "|        Sail       | 14129 |\n",
       "|    Nimbus Sans    | 13784 |\n",
       "|  Grafolita Script | 13310 |\n",
       "+-------------------+-------+\n",
       "[1859 rows x 2 columns]\n",
       "Note: Only the head of the SFrame is printed.\n",
       "You can use print_rows(num_rows=m, num_columns=n) to print more rows and columns."
      ]
     },
     "execution_count": 63,
     "metadata": {},
     "output_type": "execute_result"
    }
   ],
   "source": [
    "favorites.sort('count', ascending=False)"
   ]
  },
  {
   "cell_type": "code",
   "execution_count": null,
   "metadata": {
    "collapsed": true
   },
   "outputs": [],
   "source": []
  }
 ],
 "metadata": {
  "kernelspec": {
   "display_name": "Python 2",
   "language": "python",
   "name": "python2"
  },
  "language_info": {
   "codemirror_mode": {
    "name": "ipython",
    "version": 2
   },
   "file_extension": ".py",
   "mimetype": "text/x-python",
   "name": "python",
   "nbconvert_exporter": "python",
   "pygments_lexer": "ipython2",
   "version": "2.7.13"
  }
 },
 "nbformat": 4,
 "nbformat_minor": 0
}
